{
  "cells": [
    {
      "cell_type": "markdown",
      "id": "e3c2c42b",
      "metadata": {
        "id": "e3c2c42b"
      },
      "source": [
        "\n",
        "<a href=\"https://colab.research.google.com/github/OsipovOleg/crash-python-notebooks/blob/master/scientific_computing.ipynb\">\n",
        "  <img src=\"https://colab.research.google.com/assets/colab-badge.svg\" alt=\"Open In Colab\"/>\n",
        "</a>\n"
      ]
    },
    {
      "cell_type": "code",
      "execution_count": 125,
      "id": "14ce298a",
      "metadata": {
        "id": "14ce298a"
      },
      "outputs": [],
      "source": [
        "import numpy as np\n",
        "import matplotlib.pyplot as plt\n",
        "np.set_printoptions(precision=3)\n",
        "from sklearn.model_selection import train_test_split\n",
        "from numpy.linalg import inv"
      ]
    },
    {
      "cell_type": "markdown",
      "id": "7a9cf54d",
      "metadata": {
        "id": "7a9cf54d"
      },
      "source": [
        "Для краткого знакомства с numpy:\n",
        "- [A Quick Introduction to the NumPy Library](https://towardsdatascience.com/a-quick-introduction-to-the-numpy-library-6f61b7dee4db)\n",
        "- [NumPy Cheat Sheet](https://s3.amazonaws.com/assets.datacamp.com/blog_assets/Numpy_Python_Cheat_Sheet.pdf)\n",
        "- [Examples](https://github.com/OsipovOleg/crash-python-notebooks/blob/master/scientific_computing.ipynb)"
      ]
    },
    {
      "cell_type": "markdown",
      "id": "c02ae23b",
      "metadata": {
        "id": "c02ae23b"
      },
      "source": [
        "# 1. Overfitting/Underfitting"
      ]
    },
    {
      "cell_type": "markdown",
      "id": "174b9d63",
      "metadata": {
        "id": "174b9d63"
      },
      "source": [
        "Рассмотрим здесь задачу восстановления зависимости $y = 2\\sin(x)$ на отрезке $(0,7)$.\n",
        "\n",
        "В качестве модели будем использовать полиномы."
      ]
    },
    {
      "cell_type": "code",
      "execution_count": 126,
      "id": "0a978c47",
      "metadata": {
        "colab": {
          "base_uri": "https://localhost:8080/"
        },
        "id": "0a978c47",
        "outputId": "0b783b7f-77e5-41fc-bee1-a3e12cdbae43"
      },
      "outputs": [
        {
          "output_type": "execute_result",
          "data": {
            "text/plain": [
              "array([0.   , 0.241, 0.483, 0.724, 0.966, 1.207, 1.448, 1.69 , 1.931,\n",
              "       2.172, 2.414, 2.655, 2.897, 3.138, 3.379, 3.621, 3.862, 4.103,\n",
              "       4.345, 4.586])"
            ]
          },
          "metadata": {},
          "execution_count": 126
        }
      ],
      "source": [
        "N = 30\n",
        "x = np.linspace(0, 7, N)\n",
        "x[:20]"
      ]
    },
    {
      "cell_type": "code",
      "execution_count": 127,
      "id": "68ae49cf",
      "metadata": {
        "colab": {
          "base_uri": "https://localhost:8080/"
        },
        "id": "68ae49cf",
        "outputId": "5482bbb5-af66-45ca-fe4a-d9ccfb42e948"
      },
      "outputs": [
        {
          "output_type": "execute_result",
          "data": {
            "text/plain": [
              "array([ 0.   ,  0.478,  0.928,  1.325,  1.645,  1.869,  1.985,  1.986,\n",
              "        1.872,  1.649,  1.33 ,  0.935,  0.485,  0.007, -0.471, -0.922,\n",
              "       -1.319, -1.641, -1.866, -1.984])"
            ]
          },
          "metadata": {},
          "execution_count": 127
        }
      ],
      "source": [
        "y_true = 2*np.sin(x)\n",
        "y_true[:20]"
      ]
    },
    {
      "cell_type": "code",
      "execution_count": 128,
      "id": "d88345b6",
      "metadata": {
        "colab": {
          "base_uri": "https://localhost:8080/"
        },
        "id": "d88345b6",
        "outputId": "ab088968-5edb-4818-d870-eec4285c5494"
      },
      "outputs": [
        {
          "output_type": "execute_result",
          "data": {
            "text/plain": [
              "array([ 0.915, -0.941,  0.485,  0.   ,  1.645, -1.319,  1.869,  0.007,\n",
              "        0.935, -1.653,  0.478,  0.928, -0.492,  1.325, -1.874, -0.015,\n",
              "       -1.866,  1.314, -1.987,  1.986])"
            ]
          },
          "metadata": {},
          "execution_count": 128
        }
      ],
      "source": [
        "x_train, x_test, y_true_train, y_true_test = train_test_split(\n",
        "x, y_true, test_size=0.2, random_state=42)\n",
        "\n",
        "y_true_train[:20]"
      ]
    },
    {
      "cell_type": "code",
      "execution_count": 129,
      "id": "07e1ee28",
      "metadata": {
        "colab": {
          "base_uri": "https://localhost:8080/"
        },
        "id": "07e1ee28",
        "outputId": "77c9d950-4fdb-4299-c0f7-122437843d88"
      },
      "outputs": [
        {
          "output_type": "execute_result",
          "data": {
            "text/plain": [
              "array([ 0.464, -0.922, -1.336, -1.641,  1.872,  1.649])"
            ]
          },
          "metadata": {},
          "execution_count": 129
        }
      ],
      "source": [
        "y_true_test[:20]"
      ]
    },
    {
      "cell_type": "code",
      "execution_count": 130,
      "id": "b91990b3",
      "metadata": {
        "colab": {
          "base_uri": "https://localhost:8080/",
          "height": 265
        },
        "id": "b91990b3",
        "outputId": "70c9c092-8b0d-4487-f51b-a4768415f15f"
      },
      "outputs": [
        {
          "output_type": "display_data",
          "data": {
            "image/png": "[encoded data removed]",
            "text/plain": [
              "<Figure size 432x288 with 1 Axes>"
            ]
          },
          "metadata": {
            "needs_background": "light"
          }
        }
      ],
      "source": [
        "plt.plot(x, y_true, c='green');"
      ]
    },
    {
      "cell_type": "code",
      "execution_count": 131,
      "id": "362b8586",
      "metadata": {
        "colab": {
          "base_uri": "https://localhost:8080/"
        },
        "id": "362b8586",
        "outputId": "18d88854-b9a9-4fd2-cb26-db482f3768f7"
      },
      "outputs": [
        {
          "output_type": "execute_result",
          "data": {
            "text/plain": [
              "array([ 0.252, -0.585,  1.415, -0.211,  0.091, -1.96 ,  1.134,  1.169,\n",
              "       -0.135, -2.225,  1.009,  0.346,  1.155,  0.961, -2.611, -0.891,\n",
              "       -2.33 ,  0.509, -1.605, -0.902])"
            ]
          },
          "metadata": {},
          "execution_count": 131
        }
      ],
      "source": [
        "y = y_true_train + np.random.normal(0, 1, len(y_true_train))\n",
        "y[:20]"
      ]
    },
    {
      "cell_type": "code",
      "execution_count": 132,
      "id": "236fd709",
      "metadata": {
        "colab": {
          "base_uri": "https://localhost:8080/",
          "height": 265
        },
        "id": "236fd709",
        "outputId": "83de7e4e-0b23-42a8-ae94-dc774f8a9424"
      },
      "outputs": [
        {
          "output_type": "display_data",
          "data": {
            "image/png": "[encoded data removed]",
            "text/plain": [
              "<Figure size 432x288 with 1 Axes>"
            ]
          },
          "metadata": {
            "needs_background": "light"
          }
        }
      ],
      "source": [
        "plt.scatter(x_train, y)\n",
        "plt.plot(x, y_true, c='green');"
      ]
    },
    {
      "cell_type": "markdown",
      "id": "e82f7b71",
      "metadata": {
        "id": "e82f7b71"
      },
      "source": [
        "## Polinomial Regression"
      ]
    },
    {
      "cell_type": "markdown",
      "id": "7661f56e",
      "metadata": {
        "id": "7661f56e"
      },
      "source": [
        "### Задания: \n",
        "\n",
        "1. Разбить выборку на train/test в некотором соотношении. \n",
        "2. Вычислить для различных значений $d$ (степень полинома) MSE на train/test. Построить кривые MSE для train/test при различных значениях $d$. \n",
        "3. Как изменяется качество модели, если в нее добавить больше данных (увеличить $N$)? Привести несколько примеров. \n",
        "4. Какие выводы можно сделать из пунктов 2 и 3. Как влияет сложность модели и количество данных на переобучение (overfitting)? \n",
        "\n",
        "Еще одной метрикой качества, которую можно использовать в задаче регрессии, является коэффициент детерминации (coefficient of determination), который показывет долю объясненной дисперсии: \n",
        "\n",
        "$$\n",
        "    R^2 = 1 - \\frac{\\sum_{i=1}^{N}(\\hat{y}_i-y_i)^2}{\\sum_{i=1}^{N} (y_i - \\bar{y})^2}\n",
        "$$\n",
        "\n",
        "$\\bar{y}$ - выборочное среднее (самый простой baseline, который можно взять для нашей задачи - самая простая модель, которую затем можно использовать для сравнения с более сложными моделями).\n",
        "\n",
        "5. Определить $R^2$ для различных $d$. Сделать выводы. \n",
        "6. Ранее было указано, что одним из простых baseline для нашей задачи, *может быть* выборочнее среднее. \n",
        "Расмотрим модель, которая для всех объектов возвращает константное значение (полином нулевой степени): \n",
        "\n",
        "$$\n",
        "\\hat{y} (\\textbf{x}) = w_0\n",
        "$$\n",
        "\n",
        "аналитически определить параметры модели ($w_0$), минимизирующие MSE. \n",
        "\n",
        "7. Определить аналогично baseline для MAE. "
      ]
    },
    {
      "cell_type": "code",
      "execution_count": 133,
      "id": "3aa1a62a",
      "metadata": {
        "colab": {
          "base_uri": "https://localhost:8080/"
        },
        "id": "3aa1a62a",
        "outputId": "3fd58547-26cc-491d-9a3f-33c1460c716a"
      },
      "outputs": [
        {
          "output_type": "stream",
          "name": "stdout",
          "text": [
            "[-0.14 -0.14 -0.14 -0.14 -0.14 -0.14 -0.14 -0.14 -0.14 -0.14 -0.14 -0.14\n",
            " -0.14 -0.14 -0.14 -0.14]\n"
          ]
        }
      ],
      "source": [
        "d = 0\n",
        "model = np.poly1d(np.polyfit(x_train, y, d))\n",
        "x_validation = np.linspace(0, 7, 16)\n",
        "y_pred = model(x_validation)\n",
        "print(y_pred)"
      ]
    },
    {
      "cell_type": "code",
      "execution_count": 134,
      "id": "3109841e",
      "metadata": {
        "colab": {
          "base_uri": "https://localhost:8080/",
          "height": 595
        },
        "id": "3109841e",
        "outputId": "694ed3aa-cc53-4322-cf1a-30cd0ecd5e8c"
      },
      "outputs": [
        {
          "output_type": "stream",
          "name": "stdout",
          "text": [
            "1.8446115564953913\n",
            "1.9839582434569885\n",
            "-----------\n",
            "2.066758572863979\n",
            "1.5866765733595851\n",
            "-----------\n",
            "2.0545205365096884\n",
            "1.4820638886375421\n",
            "-----------\n",
            "2.37319906325993\n",
            "0.37195446174153046\n",
            "-----------\n",
            "2.3764226762969667\n",
            "0.43049218434220776\n",
            "-----------\n",
            "2.5818614604256456\n",
            "0.05656167444346282\n",
            "-----------\n"
          ]
        },
        {
          "output_type": "execute_result",
          "data": {
            "text/plain": [
              "<matplotlib.legend.Legend at 0x7fd6463aa450>"
            ]
          },
          "metadata": {},
          "execution_count": 134
        },
        {
          "output_type": "display_data",
          "data": {
            "image/png": "[encoded data removed]",
            "text/plain": [
              "<Figure size 432x288 with 1 Axes>"
            ]
          },
          "metadata": {
            "needs_background": "light"
          }
        }
      ],
      "source": [
        "for d in range(6):  \n",
        "    model = np.poly1d(np.polyfit(x_train, y, d))\n",
        "\n",
        "    x_validation = np.linspace(0, 7, len(y_true_train))\n",
        "    y_pred = model(x_validation)\n",
        "\n",
        "    plt.scatter(x_train, y)\n",
        "    plt.plot(x_validation, y_pred, label = d);\n",
        "    plt.plot(x, y_true, c='green'); \n",
        "\n",
        "    mse = np.mean((y_true_train - y_pred)**2)\n",
        "    print(mse)\n",
        "\n",
        "    y_pred_test = model(x_test)\n",
        "    mse_test = np.mean((y_true_test - y_pred_test)**2)\n",
        "    print(mse_test)\n",
        "    print(\"-----------\")\n",
        "\n",
        "plt.legend()"
      ]
    },
    {
      "cell_type": "code",
      "execution_count": null,
      "id": "72000d04",
      "metadata": {
        "id": "72000d04"
      },
      "outputs": [],
      "source": [
        "#3 чем больше N, тем меньше MSE\n",
        "#4 модель точнее"
      ]
    },
    {
      "cell_type": "code",
      "execution_count": 135,
      "id": "21a1a140",
      "metadata": {
        "colab": {
          "base_uri": "https://localhost:8080/"
        },
        "id": "21a1a140",
        "outputId": "8f60b83e-966d-44df-dee6-fc00079f7140"
      },
      "outputs": [
        {
          "output_type": "stream",
          "name": "stdout",
          "text": [
            "0.10834309807683241\n"
          ]
        }
      ],
      "source": [
        "#5\n",
        "baseline = np.mean(y_true_train)\n",
        "print(baseline)"
      ]
    },
    {
      "cell_type": "code",
      "execution_count": 136,
      "id": "bd674a51",
      "metadata": {
        "colab": {
          "base_uri": "https://localhost:8080/"
        },
        "id": "bd674a51",
        "outputId": "45c15536-f9a0-4203-f189-7a3c325c9267"
      },
      "outputs": [
        {
          "output_type": "stream",
          "name": "stdout",
          "text": [
            "-0.2104549728126468\n",
            "0.3326182581352525\n",
            "0.11773429429785331\n",
            "0.42022192887454624\n",
            "0.4314104787136769\n",
            "0.33354279430289246\n"
          ]
        }
      ],
      "source": [
        "for d in range(6):  \n",
        "    model = np.poly1d(np.polyfit(x_train, y, d))\n",
        "\n",
        "    x_validation = np.linspace(0, 7, len(y_true_train))\n",
        "    y_pred = model(x_validation)\n",
        "    \n",
        "    sumVal1 = 0\n",
        "    for i in range(len(y_pred)): sumVal1 += (y_pred[i] - y_true[i])**2\n",
        "\n",
        "    sumVal2 = 0\n",
        "    for i in range(len(y_true_train)): sumVal2 += (y_true_train[i] - baseline)**2\n",
        "    R_2 = 1 - sumVal1 / sumVal2\n",
        "    print(R_2)"
      ]
    },
    {
      "cell_type": "code",
      "execution_count": null,
      "id": "9f9af1b9",
      "metadata": {
        "id": "9f9af1b9"
      },
      "outputs": [],
      "source": [
        "#6\n",
        "#  dMSE        1    N                '      1    N\n",
        "# ------- =  - - * sum 2(y - y_pred)   => - - * sum 2(y - y_pred) = 0 => y = y_pred => MSE -> min\n",
        "# dy_pred      N   i=1            y_pred    N   i=1\n",
        "\n",
        "# y - среднее арифм"
      ]
    },
    {
      "cell_type": "code",
      "execution_count": null,
      "id": "ff0c19d2",
      "metadata": {
        "id": "ff0c19d2"
      },
      "outputs": [],
      "source": [
        "#7\n",
        "#  sum i =1 N |y-yi| '       yi - y\n",
        "# (-----------------)   = ---------- => \n",
        "#         N          yi     |yi - y|\n",
        "\n",
        "#  dMAE      1    N          '       yi - y   \n",
        "# ------- =  - * sum |y - yi|   => ----------- = 0 => |yi - y| != 0 && yi - y = 0 (?)\n",
        "#   dyi      N   i=1         yi     |yi - y|  \n",
        "\n",
        "# y - медиана"
      ]
    },
    {
      "cell_type": "markdown",
      "id": "015bf93a",
      "metadata": {
        "id": "015bf93a"
      },
      "source": [
        "# 2. Linear models\n",
        "## 1. Regression\n",
        "\n",
        "Объекты: $\\textbf{x}_1, \\textbf{x}_2, \\dots, \\textbf{x}_N$\n",
        "\n",
        "Признаки некоторого объекта: $\\textbf{x}=(x_1, \\dots, x_D)$\n",
        "\n",
        "$\\mathcal{D} = (\\textbf{x}_i, y_i)$, $i=1, \\dots, N$ - множество объектов и ответов на них,\n",
        "\n",
        "$\\textbf{X}$ - матрица  объекты-признаки (каждая строка описывает один объект):\n",
        "\n",
        "\n",
        "\n",
        "$$\\textbf{X} = \n",
        "\\begin{bmatrix}\n",
        "x_{1,1} & x_{1,2} & \\dots & x_{1,D}\\\\\n",
        "x_{2,1} & x_{2,2} & \\dots & x_{2,D}\\\\\n",
        "\\dots & \\dots & \\dots & \\dots\\\\\n",
        "x_{N,1} & x_{N,2} & \\dots & x_{N,D}\n",
        "\\end{bmatrix}\n",
        "$$\n",
        "\n",
        "\n",
        "Уравнение регрессии:\n",
        "\n",
        "$$\n",
        "\\hat{y} (\\textbf{x}) = w_0 + w_1x_1 + \\dots + w_D x_D\n",
        "$$\n",
        "\n",
        "здесь $\\hat{y} (\\textbf{x})$ -  предсказание на объекте $\\textbf{x}$. \n",
        "\n",
        "MSE может быть записано в матричной форме:\n",
        "$$\n",
        "\\frac{1}{N}||\\textbf{X}\\textbf{w} - \\textbf{y}||^{2} \\to \\min_{\\textbf{w}}\n",
        "$$\n",
        "\n",
        "Точное решение задачи оптимизации (нормальное уравнение линейной регрессии):\n",
        "\n",
        "$$\n",
        "\\textbf{w}^* = (\\textbf{X}^T \\textbf{X})^{-1} \\textbf{X}^{T} \\textbf{y} \n",
        "$$"
      ]
    },
    {
      "cell_type": "markdown",
      "id": "dd49a7d4",
      "metadata": {
        "id": "dd49a7d4"
      },
      "source": [
        "### Задания:\n",
        "1. Для одномерного случая ($D=1$, $\\hat{y} = w_0 + w_1x$) найти вид выражений для $\\textbf{w}^* = (w_0^*, w_1^*)$, минимизирующее MSE. \n"
      ]
    },
    {
      "cell_type": "code",
      "execution_count": null,
      "id": "d0a576fd",
      "metadata": {
        "id": "d0a576fd"
      },
      "outputs": [],
      "source": [
        "# dMSE         1    N             N\n",
        "# ---- = /// = - * sum 2 xi_l => sum xi_l \n",
        "# dw_l         N   i=1           i=1"
      ]
    },
    {
      "cell_type": "markdown",
      "id": "f6e041c6",
      "metadata": {
        "id": "f6e041c6"
      },
      "source": [
        "Далее рассмотрим следующую модельную задачу и данные, на которых нужно будет выполнять задания.  "
      ]
    },
    {
      "cell_type": "code",
      "execution_count": 137,
      "id": "01d464e3",
      "metadata": {
        "colab": {
          "base_uri": "https://localhost:8080/"
        },
        "id": "01d464e3",
        "outputId": "36820028-2ab5-400e-f6a6-1864583ad783"
      },
      "outputs": [
        {
          "output_type": "execute_result",
          "data": {
            "text/plain": [
              "array([[0.333, 0.341, 0.936, 0.264],\n",
              "       [0.928, 0.232, 0.057, 0.155],\n",
              "       [0.962, 0.376, 0.277, 0.638],\n",
              "       [0.096, 0.354, 0.292, 0.281],\n",
              "       [0.808, 0.1  , 0.197, 0.346],\n",
              "       [0.327, 0.446, 0.024, 0.941],\n",
              "       [0.793, 0.036, 0.885, 0.029],\n",
              "       [0.929, 0.132, 0.408, 0.407],\n",
              "       [0.311, 0.701, 0.64 , 0.483],\n",
              "       [0.508, 0.201, 0.665, 0.03 ]])"
            ]
          },
          "metadata": {},
          "execution_count": 137
        }
      ],
      "source": [
        "N = 50\n",
        "D = 4\n",
        "# матрица объекты-признаки\n",
        "X = np.random.uniform(0, 1, (N, D))\n",
        "X[:10]"
      ]
    },
    {
      "cell_type": "code",
      "execution_count": 138,
      "id": "cefad021",
      "metadata": {
        "colab": {
          "base_uri": "https://localhost:8080/"
        },
        "id": "cefad021",
        "outputId": "44513106-46d4-4782-ad15-c60a7b8da0f8"
      },
      "outputs": [
        {
          "output_type": "execute_result",
          "data": {
            "text/plain": [
              "array([[1.   , 0.333, 0.341, 0.936, 0.264],\n",
              "       [1.   , 0.928, 0.232, 0.057, 0.155],\n",
              "       [1.   , 0.962, 0.376, 0.277, 0.638],\n",
              "       [1.   , 0.096, 0.354, 0.292, 0.281],\n",
              "       [1.   , 0.808, 0.1  , 0.197, 0.346],\n",
              "       [1.   , 0.327, 0.446, 0.024, 0.941],\n",
              "       [1.   , 0.793, 0.036, 0.885, 0.029],\n",
              "       [1.   , 0.929, 0.132, 0.408, 0.407],\n",
              "       [1.   , 0.311, 0.701, 0.64 , 0.483],\n",
              "       [1.   , 0.508, 0.201, 0.665, 0.03 ]])"
            ]
          },
          "metadata": {},
          "execution_count": 138
        }
      ],
      "source": [
        "#  Добавим единичный признак (для w_0)\n",
        "D += 1\n",
        "x_ones = np.ones((N, 1))\n",
        "X = np.hstack((x_ones, X))\n",
        "X[:10]"
      ]
    },
    {
      "cell_type": "code",
      "execution_count": 139,
      "id": "caba7b81",
      "metadata": {
        "colab": {
          "base_uri": "https://localhost:8080/"
        },
        "id": "caba7b81",
        "outputId": "1f6ce581-8881-4cfc-c8d0-893162b5b988"
      },
      "outputs": [
        {
          "output_type": "execute_result",
          "data": {
            "text/plain": [
              "array([[-2.877],\n",
              "       [-4.721],\n",
              "       [-0.152],\n",
              "       [ 7.694],\n",
              "       [-1.749]])"
            ]
          },
          "metadata": {},
          "execution_count": 139
        }
      ],
      "source": [
        "# Вектор весов\n",
        "w_true = np.random.uniform(low=-5, high=10, size=(D, 1))\n",
        "w_true"
      ]
    },
    {
      "cell_type": "code",
      "execution_count": 140,
      "id": "c0d3cbfc",
      "metadata": {
        "colab": {
          "base_uri": "https://localhost:8080/"
        },
        "id": "c0d3cbfc",
        "outputId": "426d0845-6610-44e5-ebbf-0d9b5a379e77"
      },
      "outputs": [
        {
          "output_type": "execute_result",
          "data": {
            "text/plain": [
              "array([[ 2.239],\n",
              "       [-7.13 ],\n",
              "       [-6.455],\n",
              "       [-1.633],\n",
              "       [-5.798],\n",
              "       [-5.952],\n",
              "       [ 0.131],\n",
              "       [-4.858],\n",
              "       [-0.375],\n",
              "       [-0.243]])"
            ]
          },
          "metadata": {},
          "execution_count": 140
        }
      ],
      "source": [
        "# Целевая переменная (target)\n",
        "# y = w0 + w1*x_1 + ... + wD*xD\n",
        "y = X@w_true\n",
        "y[:10]"
      ]
    },
    {
      "cell_type": "markdown",
      "id": "8726e9df",
      "metadata": {
        "id": "8726e9df"
      },
      "source": [
        "Получили следующие вектора и матрицы:  X, y, w_true. "
      ]
    },
    {
      "cell_type": "markdown",
      "id": "73084375",
      "metadata": {
        "id": "73084375"
      },
      "source": [
        "### Задания:\n",
        "2. Используя нормальное уравнение линейной регресси, найти значение $\\textbf{w}^*$. "
      ]
    },
    {
      "cell_type": "code",
      "execution_count": 141,
      "id": "4918aa57",
      "metadata": {
        "colab": {
          "base_uri": "https://localhost:8080/"
        },
        "id": "4918aa57",
        "outputId": "ee52b0d4-f498-47d6-e0d2-573ea4034a22"
      },
      "outputs": [
        {
          "output_type": "execute_result",
          "data": {
            "text/plain": [
              "array([[-2.877],\n",
              "       [-4.721],\n",
              "       [-0.152],\n",
              "       [ 7.694],\n",
              "       [-1.749]])"
            ]
          },
          "metadata": {},
          "execution_count": 141
        }
      ],
      "source": [
        "#2\n",
        "\n",
        "#W*\n",
        "x_transpon = X.transpose()\n",
        "x_transpon[:10]\n",
        "\n",
        "tempVal = inv(x_transpon.dot(X))\n",
        "tempVal2 = tempVal.dot(x_transpon)\n",
        "tempVal2.dot(y)"
      ]
    },
    {
      "cell_type": "markdown",
      "id": "4b4bd28e",
      "metadata": {
        "id": "4b4bd28e"
      },
      "source": [
        "## 2.1 Gradient descent"
      ]
    },
    {
      "cell_type": "markdown",
      "id": "8229816b",
      "metadata": {
        "id": "8229816b"
      },
      "source": [
        "$$\n",
        "    \\textbf{w}^{(k)} = \\textbf{w}^{(k-1)} - \\alpha_k \\nabla Q\\left(\\textbf{w}^{(k-1)}\\right)\n",
        "$$"
      ]
    },
    {
      "cell_type": "markdown",
      "id": "10f09075",
      "metadata": {
        "id": "10f09075"
      },
      "source": [
        "### Задания: \n",
        "\n",
        "3. Реализовать метод градиентного спуска для одной из указанных функций [Wiki: Тестовые функции для оптимизации](https://ru.wikipedia.org/wiki/%D0%A2%D0%B5%D1%81%D1%82%D0%BE%D0%B2%D1%8B%D0%B5_%D1%84%D1%83%D0%BD%D0%BA%D1%86%D0%B8%D0%B8_%D0%B4%D0%BB%D1%8F_%D0%BE%D0%BF%D1%82%D0%B8%D0%BC%D0%B8%D0%B7%D0%B0%D1%86%D0%B8%D0%B8)\n",
        "\n",
        "4.  Определить вид градиента в случае MSE. Применить метод градиентного спуска для поиска весов линейной регрессии для представленных выше данных.\n",
        "Построить график зависимости эмпирического риска $Q(\\textbf{w}^{(k)})$ от шага $k$.\n",
        "Сравнить с точным решением. "
      ]
    },
    {
      "cell_type": "code",
      "execution_count": null,
      "id": "edfafe9f",
      "metadata": {
        "id": "edfafe9f"
      },
      "outputs": [],
      "source": [
        "# y"
      ]
    },
    {
      "cell_type": "code",
      "execution_count": 142,
      "id": "d45449c5",
      "metadata": {
        "id": "d45449c5"
      },
      "outputs": [],
      "source": [
        "#3 - 4\n",
        "l = []\n",
        "\n",
        "def gradient_descent(\n",
        "    gradient, start, learn_rate, n_iter = 100, tolerance = 1e-06 ):\n",
        "    vector = start\n",
        "    for _ in range(n_iter):\n",
        "        diff = - learn_rate * gradient(vector)\n",
        "        if np.all(np.abs(diff) <= tolerance):\n",
        "            break\n",
        "        # функция которую оценить - MSE, пересчитывать с новыми векторами, \n",
        "        # собирать в массив, по этому массиву построить график\n",
        "        l.append(vector.copy())\n",
        "        vector += diff\n",
        "    return vector"
      ]
    },
    {
      "cell_type": "code",
      "execution_count": 143,
      "id": "c63ef679",
      "metadata": {
        "colab": {
          "base_uri": "https://localhost:8080/"
        },
        "id": "c63ef679",
        "outputId": "92bbf78f-c75e-4983-b6e6-2b60002d6d68"
      },
      "outputs": [
        {
          "output_type": "execute_result",
          "data": {
            "text/plain": [
              "array([[0.],\n",
              "       [0.],\n",
              "       [0.],\n",
              "       [0.],\n",
              "       [0.]])"
            ]
          },
          "metadata": {},
          "execution_count": 143
        }
      ],
      "source": [
        "def grad_MSE (w): \n",
        "    y_pred = X @ w\n",
        "    eps = - 2 * (y - y_pred)\n",
        "    # print(eps.shape)\n",
        "    grad = eps.transpose() @ X\n",
        "    return grad.transpose()\n",
        "\n",
        "grad_MSE(w_true)"
      ]
    },
    {
      "cell_type": "code",
      "execution_count": 144,
      "id": "489cecff",
      "metadata": {
        "colab": {
          "base_uri": "https://localhost:8080/"
        },
        "id": "489cecff",
        "outputId": "f8be8c15-4b0e-4923-92f9-01c16a5d68f1"
      },
      "outputs": [
        {
          "output_type": "execute_result",
          "data": {
            "text/plain": [
              "array([[-1.727],\n",
              "       [-2.847],\n",
              "       [-0.559],\n",
              "       [ 4.157],\n",
              "       [-1.532]])"
            ]
          },
          "metadata": {},
          "execution_count": 144
        }
      ],
      "source": [
        "#4\n",
        "l = []\n",
        "\n",
        "wes = gradient_descent(gradient = grad_MSE, start = w_true * 0, learn_rate = 0.00001, n_iter= 10000)\n",
        "\n",
        "wes"
      ]
    },
    {
      "cell_type": "code",
      "execution_count": 145,
      "id": "8f55b902",
      "metadata": {
        "id": "8f55b902"
      },
      "outputs": [],
      "source": [
        "# l"
      ]
    },
    {
      "cell_type": "code",
      "execution_count": 146,
      "id": "979b4cc1",
      "metadata": {
        "id": "979b4cc1"
      },
      "outputs": [],
      "source": [
        "p = []\n",
        "\n",
        "for i in range (len (l)):\n",
        "    p.append( np.mean((y - X.dot(l[i]))**2) )"
      ]
    },
    {
      "cell_type": "code",
      "execution_count": 147,
      "id": "05020296",
      "metadata": {
        "colab": {
          "base_uri": "https://localhost:8080/",
          "height": 265
        },
        "id": "05020296",
        "outputId": "4e6afee8-9ad2-4eff-ad83-8bcd8a02fd1d"
      },
      "outputs": [
        {
          "output_type": "display_data",
          "data": {
            "image/png": "[encoded data removed]",
            "text/plain": [
              "<Figure size 432x288 with 1 Axes>"
            ]
          },
          "metadata": {
            "needs_background": "light"
          }
        }
      ],
      "source": [
        "plt.plot(p, c='green');"
      ]
    },
    {
      "cell_type": "markdown",
      "id": "85dca640",
      "metadata": {
        "id": "85dca640"
      },
      "source": [
        "# 2.2 Stochastic gradient descent  (SGD)"
      ]
    },
    {
      "cell_type": "markdown",
      "id": "fee24e25",
      "metadata": {
        "id": "fee24e25"
      },
      "source": [
        "$$\n",
        "\\nabla Q(\\textbf{w}) \\approx \\frac{1}{n}\\sum_{k=1}^{n} \\nabla l_{i_k}(\\textbf{w})\n",
        "$$"
      ]
    },
    {
      "cell_type": "markdown",
      "id": "58696136",
      "metadata": {
        "id": "58696136"
      },
      "source": [
        "5.  Применить метод стохастического градиентного спуска для поиска весов линейной регрессии (при разных размерах батча) для представленных выше данных.\n",
        "Построить график зависимости эмпирического риска $Q(w(k))$ от шага $k$. Сравнить скорость сходимости с методом градиентного спуска. \n",
        "Сравнить с точным решением. "
      ]
    },
    {
      "cell_type": "code",
      "execution_count": 148,
      "id": "4350b410",
      "metadata": {
        "colab": {
          "base_uri": "https://localhost:8080/"
        },
        "id": "4350b410",
        "outputId": "8e10ad10-4263-426d-803a-1b57d33956e3"
      },
      "outputs": [
        {
          "output_type": "execute_result",
          "data": {
            "text/plain": [
              "array([[-2.877],\n",
              "       [-4.721],\n",
              "       [-0.152],\n",
              "       [ 7.694],\n",
              "       [-1.749]])"
            ]
          },
          "metadata": {},
          "execution_count": 148
        }
      ],
      "source": [
        "w_true"
      ]
    },
    {
      "cell_type": "code",
      "execution_count": 149,
      "id": "1dac4cb5",
      "metadata": {
        "colab": {
          "base_uri": "https://localhost:8080/"
        },
        "id": "1dac4cb5",
        "outputId": "ce2c1696-d616-45e0-f942-c5209463ff6f"
      },
      "outputs": [
        {
          "output_type": "stream",
          "name": "stdout",
          "text": [
            "[[-2.876]\n",
            " [-4.721]\n",
            " [-0.153]\n",
            " [ 7.693]\n",
            " [-1.749]]\n",
            "[[-2.877]\n",
            " [-4.721]\n",
            " [-0.152]\n",
            " [ 7.694]\n",
            " [-1.749]]\n"
          ]
        }
      ],
      "source": [
        "l = []\n",
        "\n",
        "def stohast_grad_MSE (w):\n",
        "    i = np.random.randint(0, len(X)) \n",
        "    y_pred = X[i].dot(w)\n",
        "    eps = - 2 * (y[i] - y_pred)\n",
        "    # print(eps.shape)\n",
        "    grad = eps * X[i]\n",
        "    # print(grad.reshape(-1, 1))\n",
        "    return grad.reshape(-1, 1)\n",
        "\n",
        "\n",
        "def stohast_gradient_descent(\n",
        "    gradient, start, learn_rate, n_iter = 100, tolerance = 1e-06 ):\n",
        "    vector = start\n",
        "    for _ in range(n_iter):\n",
        "        diff = - learn_rate * gradient(vector)\n",
        "        if np.all(np.abs(diff) <= tolerance):\n",
        "            break\n",
        "        l.append(vector.copy())\n",
        "        vector += diff\n",
        "    return vector\n",
        "\n",
        "        \n",
        "test = stohast_gradient_descent(gradient = stohast_grad_MSE, start = w_true * 0, learn_rate = 0.1, n_iter= 100000)\n",
        "\n",
        "print(test)\n",
        "print(w_true)"
      ]
    },
    {
      "cell_type": "code",
      "execution_count": 150,
      "id": "e2b9bdba",
      "metadata": {
        "id": "e2b9bdba"
      },
      "outputs": [],
      "source": [
        "p = []\n",
        "\n",
        "for i in range (len (l)):\n",
        "    p.append( np.mean((y - X.dot(l[i]))**2) )"
      ]
    },
    {
      "cell_type": "code",
      "execution_count": 151,
      "id": "a803cab1",
      "metadata": {
        "colab": {
          "base_uri": "https://localhost:8080/",
          "height": 265
        },
        "id": "a803cab1",
        "outputId": "7b72fbaa-2fe5-46b3-f094-f1d99d055510"
      },
      "outputs": [
        {
          "output_type": "display_data",
          "data": {
            "image/png": "[encoded data removed]",
            "text/plain": [
              "<Figure size 432x288 with 1 Axes>"
            ]
          },
          "metadata": {
            "needs_background": "light"
          }
        }
      ],
      "source": [
        "plt.plot(p, c='green');"
      ]
    }
  ],
  "metadata": {
    "interpreter": {
      "hash": "b3ba2566441a7c06988d0923437866b63cedc61552a5af99d1f4fb67d367b25f"
    },
    "kernelspec": {
      "display_name": "Python 3.8.8 64-bit ('base': conda)",
      "name": "python3"
    },
    "language_info": {
      "codemirror_mode": {
        "name": "ipython",
        "version": 3
      },
      "file_extension": ".py",
      "mimetype": "text/x-python",
      "name": "python",
      "nbconvert_exporter": "python",
      "pygments_lexer": "ipython3",
      "version": "3.8.8"
    },
    "colab": {
      "name": "Lec2 - LinearRegression1.ipynb",
      "provenance": [],
      "collapsed_sections": []
    }
  },
  "nbformat": 4,
  "nbformat_minor": 5
}