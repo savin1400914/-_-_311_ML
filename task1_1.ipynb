{
  "cells": [
    {
      "metadata": {
        "_uuid": "570fb89bb4f7838b1d0fdff70b2935790e5dbdbe",
        "id": "84vhvcZVrbzv"
      },
      "cell_type": "markdown",
      "source": [
        "<center>\n",
        "<img src=\"https://habrastorage.org/files/fd4/502/43d/fd450243dd604b81b9713213a247aa20.jpg\">\n",
        "    \n",
        "## [mlcourse.ai](mlcourse.ai) – Open Machine Learning Course \n",
        "\n",
        "<center>Author: [Yury Kashnitskiy](http://yorko.github.io) <br>\n",
        "Translated and edited by [Sergey Isaev](https://www.linkedin.com/in/isvforall/), [Artem Trunov](https://www.linkedin.com/in/datamove/), [Anastasia Manokhina](https://www.linkedin.com/in/anastasiamanokhina/), and [Yuanyuan Pao](https://www.linkedin.com/in/yuanyuanpao/) <br>All content is distributed under the [Creative Commons CC BY-NC-SA 4.0](https://creativecommons.org/licenses/by-nc-sa/4.0/) license."
      ]
    },
    {
      "metadata": {
        "_uuid": "998fc5f76227ab1df9460a7b05c508304b14b3a6",
        "id": "1hmJ0NZKrbz1"
      },
      "cell_type": "markdown",
      "source": [
        "# <center> Assignment #1 (demo)\n",
        "## <center>  Exploratory data analysis with Pandas\n"
      ]
    },
    {
      "metadata": {
        "_uuid": "89ef93231815456f4e0bc5dcc00b094aee800993",
        "id": "ciV-Q-tXrbz2"
      },
      "cell_type": "markdown",
      "source": [
        "**In this task you should use Pandas to answer a few questions about the [Adult](https://archive.ics.uci.edu/ml/datasets/Adult) dataset. (You don't have to download the data – it's already here). Choose the answers in the [web-form](https://docs.google.com/forms/d/1uY7MpI2trKx6FLWZte0uVh3ULV4Cm_tDud0VDFGCOKg). This is a demo version of an assignment, so by submitting the form, you'll see a link to the solution .ipynb file.**"
      ]
    },
    {
      "metadata": {
        "_uuid": "c322301ac858c748f8f80e63cf6f734fc70dde30",
        "id": "0SzaNv0mrbz3"
      },
      "cell_type": "markdown",
      "source": [
        "Unique values of all features (for more information, please see the links above):\n",
        "- `age`: continuous.\n",
        "- `workclass`: Private, Self-emp-not-inc, Self-emp-inc, Federal-gov, Local-gov, State-gov, Without-pay, Never-worked.\n",
        "- `fnlwgt`: continuous.\n",
        "- `education`: Bachelors, Some-college, 11th, HS-grad, Prof-school, Assoc-acdm, Assoc-voc, 9th, 7th-8th, 12th, Masters, 1st-4th, 10th, Doctorate, 5th-6th, Preschool.\n",
        "- `education-num`: continuous.\n",
        "- `marital-status`: Married-civ-spouse, Divorced, Never-married, Separated, Widowed, Married-spouse-absent, Married-AF-spouse.\n",
        "- `occupation`: Tech-support, Craft-repair, Other-service, Sales, Exec-managerial, Prof-specialty, Handlers-cleaners, Machine-op-inspct, Adm-clerical, Farming-fishing, Transport-moving, Priv-house-serv, Protective-serv, Armed-Forces.\n",
        "- `relationship`: Wife, Own-child, Husband, Not-in-family, Other-relative, Unmarried.\n",
        "- `race`: White, Asian-Pac-Islander, Amer-Indian-Eskimo, Other, Black.\n",
        "- `sex`: Female, Male.\n",
        "- `capital-gain`: continuous.\n",
        "- `capital-loss`: continuous.\n",
        "- `hours-per-week`: continuous.\n",
        "- `native-country`: United-States, Cambodia, England, Puerto-Rico, Canada, Germany, Outlying-US(Guam-USVI-etc), India, Japan, Greece, South, China, Cuba, Iran, Honduras, Philippines, Italy, Poland, Jamaica, Vietnam, Mexico, Portugal, Ireland, France, Dominican-Republic, Laos, Ecuador, Taiwan, Haiti, Columbia, Hungary, Guatemala, Nicaragua, Scotland, Thailand, Yugoslavia, El-Salvador, Trinadad&Tobago, Peru, Hong, Holand-Netherlands.   \n",
        "- `salary`: >50K,<=50K"
      ]
    },
    {
      "metadata": {
        "collapsed": true,
        "trusted": true,
        "_uuid": "d3eb2411e23b7db11e4cbbb498a42752442a6f4c",
        "id": "aezjT4V6rbz4"
      },
      "cell_type": "code",
      "source": [
        "import pandas as pd"
      ],
      "execution_count": 1,
      "outputs": []
    },
    {
      "cell_type": "code",
      "source": [
        "#чтение с гугл диска\n",
        "from google.colab import drive\n",
        "drive.mount('/content/drive')"
      ],
      "metadata": {
        "colab": {
          "base_uri": "https://localhost:8080/"
        },
        "id": "Ux_TUYoNs8PF",
        "outputId": "bf8bb6f6-dcdb-4529-9559-9d7f385b7e8b"
      },
      "execution_count": 2,
      "outputs": [
        {
          "output_type": "stream",
          "name": "stdout",
          "text": [
            "Mounted at /content/drive\n"
          ]
        }
      ]
    },
    {
      "metadata": {
        "trusted": true,
        "_uuid": "c5119d1b8151029b4ff57735c4279b795ae492a2",
        "collapsed": true,
        "colab": {
          "base_uri": "https://localhost:8080/",
          "height": 354
        },
        "id": "38nB0vuprbz6",
        "outputId": "c1b82e29-0435-4dcc-f432-fb3679028c17"
      },
      "cell_type": "code",
      "source": [
        "data = pd.read_csv(\"/content/drive/MyDrive/ML/adult.data.csv\")\n",
        "data.head()"
      ],
      "execution_count": 3,
      "outputs": [
        {
          "output_type": "execute_result",
          "data": {
            "text/html": [
              "\n",
              "  <div id=\"df-a4402f4a-026d-459f-a36f-a9f121127756\">\n",
              "    <div class=\"colab-df-container\">\n",
              "      <div>\n",
              "<style scoped>\n",
              "    .dataframe tbody tr th:only-of-type {\n",
              "        vertical-align: middle;\n",
              "    }\n",
              "\n",
              "    .dataframe tbody tr th {\n",
              "        vertical-align: top;\n",
              "    }\n",
              "\n",
              "    .dataframe thead th {\n",
              "        text-align: right;\n",
              "    }\n",
              "</style>\n",
              "<table border=\"1\" class=\"dataframe\">\n",
              "  <thead>\n",
              "    <tr style=\"text-align: right;\">\n",
              "      <th></th>\n",
              "      <th>age</th>\n",
              "      <th>workclass</th>\n",
              "      <th>fnlwgt</th>\n",
              "      <th>education</th>\n",
              "      <th>education-num</th>\n",
              "      <th>marital-status</th>\n",
              "      <th>occupation</th>\n",
              "      <th>relationship</th>\n",
              "      <th>race</th>\n",
              "      <th>sex</th>\n",
              "      <th>capital-gain</th>\n",
              "      <th>capital-loss</th>\n",
              "      <th>hours-per-week</th>\n",
              "      <th>native-country</th>\n",
              "      <th>salary</th>\n",
              "    </tr>\n",
              "  </thead>\n",
              "  <tbody>\n",
              "    <tr>\n",
              "      <th>0</th>\n",
              "      <td>39</td>\n",
              "      <td>State-gov</td>\n",
              "      <td>77516</td>\n",
              "      <td>Bachelors</td>\n",
              "      <td>13</td>\n",
              "      <td>Never-married</td>\n",
              "      <td>Adm-clerical</td>\n",
              "      <td>Not-in-family</td>\n",
              "      <td>White</td>\n",
              "      <td>Male</td>\n",
              "      <td>2174</td>\n",
              "      <td>0</td>\n",
              "      <td>40</td>\n",
              "      <td>United-States</td>\n",
              "      <td>&lt;=50K</td>\n",
              "    </tr>\n",
              "    <tr>\n",
              "      <th>1</th>\n",
              "      <td>50</td>\n",
              "      <td>Self-emp-not-inc</td>\n",
              "      <td>83311</td>\n",
              "      <td>Bachelors</td>\n",
              "      <td>13</td>\n",
              "      <td>Married-civ-spouse</td>\n",
              "      <td>Exec-managerial</td>\n",
              "      <td>Husband</td>\n",
              "      <td>White</td>\n",
              "      <td>Male</td>\n",
              "      <td>0</td>\n",
              "      <td>0</td>\n",
              "      <td>13</td>\n",
              "      <td>United-States</td>\n",
              "      <td>&lt;=50K</td>\n",
              "    </tr>\n",
              "    <tr>\n",
              "      <th>2</th>\n",
              "      <td>38</td>\n",
              "      <td>Private</td>\n",
              "      <td>215646</td>\n",
              "      <td>HS-grad</td>\n",
              "      <td>9</td>\n",
              "      <td>Divorced</td>\n",
              "      <td>Handlers-cleaners</td>\n",
              "      <td>Not-in-family</td>\n",
              "      <td>White</td>\n",
              "      <td>Male</td>\n",
              "      <td>0</td>\n",
              "      <td>0</td>\n",
              "      <td>40</td>\n",
              "      <td>United-States</td>\n",
              "      <td>&lt;=50K</td>\n",
              "    </tr>\n",
              "    <tr>\n",
              "      <th>3</th>\n",
              "      <td>53</td>\n",
              "      <td>Private</td>\n",
              "      <td>234721</td>\n",
              "      <td>11th</td>\n",
              "      <td>7</td>\n",
              "      <td>Married-civ-spouse</td>\n",
              "      <td>Handlers-cleaners</td>\n",
              "      <td>Husband</td>\n",
              "      <td>Black</td>\n",
              "      <td>Male</td>\n",
              "      <td>0</td>\n",
              "      <td>0</td>\n",
              "      <td>40</td>\n",
              "      <td>United-States</td>\n",
              "      <td>&lt;=50K</td>\n",
              "    </tr>\n",
              "    <tr>\n",
              "      <th>4</th>\n",
              "      <td>28</td>\n",
              "      <td>Private</td>\n",
              "      <td>338409</td>\n",
              "      <td>Bachelors</td>\n",
              "      <td>13</td>\n",
              "      <td>Married-civ-spouse</td>\n",
              "      <td>Prof-specialty</td>\n",
              "      <td>Wife</td>\n",
              "      <td>Black</td>\n",
              "      <td>Female</td>\n",
              "      <td>0</td>\n",
              "      <td>0</td>\n",
              "      <td>40</td>\n",
              "      <td>Cuba</td>\n",
              "      <td>&lt;=50K</td>\n",
              "    </tr>\n",
              "  </tbody>\n",
              "</table>\n",
              "</div>\n",
              "      <button class=\"colab-df-convert\" onclick=\"convertToInteractive('df-a4402f4a-026d-459f-a36f-a9f121127756')\"\n",
              "              title=\"Convert this dataframe to an interactive table.\"\n",
              "              style=\"display:none;\">\n",
              "        \n",
              "  <svg xmlns=\"http://www.w3.org/2000/svg\" height=\"24px\"viewBox=\"0 0 24 24\"\n",
              "       width=\"24px\">\n",
              "    <path d=\"M0 0h24v24H0V0z\" fill=\"none\"/>\n",
              "    <path d=\"M18.56 5.44l.94 2.06.94-2.06 2.06-.94-2.06-.94-.94-2.06-.94 2.06-2.06.94zm-11 1L8.5 8.5l.94-2.06 2.06-.94-2.06-.94L8.5 2.5l-.94 2.06-2.06.94zm10 10l.94 2.06.94-2.06 2.06-.94-2.06-.94-.94-2.06-.94 2.06-2.06.94z\"/><path d=\"M17.41 7.96l-1.37-1.37c-.4-.4-.92-.59-1.43-.59-.52 0-1.04.2-1.43.59L10.3 9.45l-7.72 7.72c-.78.78-.78 2.05 0 2.83L4 21.41c.39.39.9.59 1.41.59.51 0 1.02-.2 1.41-.59l7.78-7.78 2.81-2.81c.8-.78.8-2.07 0-2.86zM5.41 20L4 18.59l7.72-7.72 1.47 1.35L5.41 20z\"/>\n",
              "  </svg>\n",
              "      </button>\n",
              "      \n",
              "  <style>\n",
              "    .colab-df-container {\n",
              "      display:flex;\n",
              "      flex-wrap:wrap;\n",
              "      gap: 12px;\n",
              "    }\n",
              "\n",
              "    .colab-df-convert {\n",
              "      background-color: #E8F0FE;\n",
              "      border: none;\n",
              "      border-radius: 50%;\n",
              "      cursor: pointer;\n",
              "      display: none;\n",
              "      fill: #1967D2;\n",
              "      height: 32px;\n",
              "      padding: 0 0 0 0;\n",
              "      width: 32px;\n",
              "    }\n",
              "\n",
              "    .colab-df-convert:hover {\n",
              "      background-color: #E2EBFA;\n",
              "      box-shadow: 0px 1px 2px rgba(60, 64, 67, 0.3), 0px 1px 3px 1px rgba(60, 64, 67, 0.15);\n",
              "      fill: #174EA6;\n",
              "    }\n",
              "\n",
              "    [theme=dark] .colab-df-convert {\n",
              "      background-color: #3B4455;\n",
              "      fill: #D2E3FC;\n",
              "    }\n",
              "\n",
              "    [theme=dark] .colab-df-convert:hover {\n",
              "      background-color: #434B5C;\n",
              "      box-shadow: 0px 1px 3px 1px rgba(0, 0, 0, 0.15);\n",
              "      filter: drop-shadow(0px 1px 2px rgba(0, 0, 0, 0.3));\n",
              "      fill: #FFFFFF;\n",
              "    }\n",
              "  </style>\n",
              "\n",
              "      <script>\n",
              "        const buttonEl =\n",
              "          document.querySelector('#df-a4402f4a-026d-459f-a36f-a9f121127756 button.colab-df-convert');\n",
              "        buttonEl.style.display =\n",
              "          google.colab.kernel.accessAllowed ? 'block' : 'none';\n",
              "\n",
              "        async function convertToInteractive(key) {\n",
              "          const element = document.querySelector('#df-a4402f4a-026d-459f-a36f-a9f121127756');\n",
              "          const dataTable =\n",
              "            await google.colab.kernel.invokeFunction('convertToInteractive',\n",
              "                                                     [key], {});\n",
              "          if (!dataTable) return;\n",
              "\n",
              "          const docLinkHtml = 'Like what you see? Visit the ' +\n",
              "            '<a target=\"_blank\" href=https://colab.research.google.com/notebooks/data_table.ipynb>data table notebook</a>'\n",
              "            + ' to learn more about interactive tables.';\n",
              "          element.innerHTML = '';\n",
              "          dataTable['output_type'] = 'display_data';\n",
              "          await google.colab.output.renderOutput(dataTable, element);\n",
              "          const docLink = document.createElement('div');\n",
              "          docLink.innerHTML = docLinkHtml;\n",
              "          element.appendChild(docLink);\n",
              "        }\n",
              "      </script>\n",
              "    </div>\n",
              "  </div>\n",
              "  "
            ],
            "text/plain": [
              "   age         workclass  fnlwgt  ... hours-per-week  native-country salary\n",
              "0   39         State-gov   77516  ...             40   United-States  <=50K\n",
              "1   50  Self-emp-not-inc   83311  ...             13   United-States  <=50K\n",
              "2   38           Private  215646  ...             40   United-States  <=50K\n",
              "3   53           Private  234721  ...             40   United-States  <=50K\n",
              "4   28           Private  338409  ...             40            Cuba  <=50K\n",
              "\n",
              "[5 rows x 15 columns]"
            ]
          },
          "metadata": {},
          "execution_count": 3
        }
      ]
    },
    {
      "metadata": {
        "_uuid": "6b19853f936853d40971b56f4d298ab55ee78cac",
        "id": "2vIBxbksrbz7"
      },
      "cell_type": "markdown",
      "source": [
        "**1. How many men and women (*sex* feature) are represented in this dataset?** "
      ]
    },
    {
      "metadata": {
        "collapsed": true,
        "trusted": true,
        "_uuid": "d32cafcbe966dbdfa40c3017d16d6f8c96bfb3e2",
        "colab": {
          "base_uri": "https://localhost:8080/"
        },
        "id": "dqkMAMHUrbz8",
        "outputId": "65c6e123-dfa0-409c-e41e-8692eee32c8d"
      },
      "cell_type": "code",
      "source": [
        "len(data[data['sex'] == 'Female'])"
      ],
      "execution_count": 4,
      "outputs": [
        {
          "output_type": "execute_result",
          "data": {
            "text/plain": [
              "10771"
            ]
          },
          "metadata": {},
          "execution_count": 4
        }
      ]
    },
    {
      "cell_type": "code",
      "source": [
        "len(data[data['sex'] == 'Male'])"
      ],
      "metadata": {
        "colab": {
          "base_uri": "https://localhost:8080/"
        },
        "id": "fuI79pVAtkr5",
        "outputId": "0cc3220f-662e-4242-d03d-0f7d3e2c52a4"
      },
      "execution_count": 5,
      "outputs": [
        {
          "output_type": "execute_result",
          "data": {
            "text/plain": [
              "21790"
            ]
          },
          "metadata": {},
          "execution_count": 5
        }
      ]
    },
    {
      "metadata": {
        "_uuid": "4748793234a5d325ea60d13331ecf93e29774523",
        "id": "cA57UCYVrbz-"
      },
      "cell_type": "markdown",
      "source": [
        "**2. What is the average age (*age* feature) of women?**"
      ]
    },
    {
      "metadata": {
        "collapsed": true,
        "trusted": true,
        "_uuid": "64f60d928855107d8980875656dcdf3587d91646",
        "colab": {
          "base_uri": "https://localhost:8080/"
        },
        "id": "qfBjlJ9grbz_",
        "outputId": "8789a7f3-15bc-4b40-ec2a-941a6037ef1f"
      },
      "cell_type": "code",
      "source": [
        "data3 = data[data['sex'] == 'Female']\n",
        "\n",
        "data3[\"age\"].mean()"
      ],
      "execution_count": 11,
      "outputs": [
        {
          "output_type": "execute_result",
          "data": {
            "text/plain": [
              "36.85823043357163"
            ]
          },
          "metadata": {},
          "execution_count": 11
        }
      ]
    },
    {
      "metadata": {
        "_uuid": "80e87c421c348067e88769c64e554206c51727d1",
        "id": "IhTZ2WzMrb0A"
      },
      "cell_type": "markdown",
      "source": [
        "**3. What is the percentage of German citizens (*native-country* feature)?**"
      ]
    },
    {
      "metadata": {
        "collapsed": true,
        "trusted": true,
        "_uuid": "ca9807509692638bd945671ed7d8b4a5ad1f3626",
        "colab": {
          "base_uri": "https://localhost:8080/"
        },
        "id": "blWKyRTNrb0B",
        "outputId": "34534c80-5146-4967-dbac-ff3afebd1605"
      },
      "cell_type": "code",
      "source": [
        "data3 = (data[data['native-country'] == 'Germany'])\n",
        "(len(data3)*1.0/len(data)*1.0)* 100"
      ],
      "execution_count": 13,
      "outputs": [
        {
          "output_type": "execute_result",
          "data": {
            "text/plain": [
              "0.42074874850281013"
            ]
          },
          "metadata": {},
          "execution_count": 13
        }
      ]
    },
    {
      "metadata": {
        "_uuid": "be9911cf525df4fca2c1d14b8720bc8a82f462e7",
        "id": "GtjzAtJprb0B"
      },
      "cell_type": "markdown",
      "source": [
        "**4-5. What are the mean and standard deviation of age for those who earn more than 50K per year (*salary* feature) and those who earn less than 50K per year? **"
      ]
    },
    {
      "metadata": {
        "collapsed": true,
        "trusted": true,
        "_uuid": "97948f0115f949913d211627151b5605bcd204fd",
        "colab": {
          "base_uri": "https://localhost:8080/"
        },
        "id": "LOlEAoXqrb0C",
        "outputId": "02a9456e-9f6d-4950-d2a6-1875e243294d"
      },
      "cell_type": "code",
      "source": [
        "data3 = (data[data['salary'] == '>50K'])\n",
        "\n",
        "data3['age'].mean()"
      ],
      "execution_count": 14,
      "outputs": [
        {
          "output_type": "execute_result",
          "data": {
            "text/plain": [
              "44.24984058155847"
            ]
          },
          "metadata": {},
          "execution_count": 14
        }
      ]
    },
    {
      "cell_type": "code",
      "source": [
        "data3[\"age\"].std()"
      ],
      "metadata": {
        "colab": {
          "base_uri": "https://localhost:8080/"
        },
        "id": "HZwz5t8ot8O0",
        "outputId": "10517eef-e478-41ec-f9de-0543b2a258ff"
      },
      "execution_count": 15,
      "outputs": [
        {
          "output_type": "execute_result",
          "data": {
            "text/plain": [
              "10.51902771985177"
            ]
          },
          "metadata": {},
          "execution_count": 15
        }
      ]
    },
    {
      "cell_type": "code",
      "source": [
        "data4 = (data[data['salary'] == '<=50K'])\n",
        "data4['age'].mean()"
      ],
      "metadata": {
        "colab": {
          "base_uri": "https://localhost:8080/"
        },
        "id": "zf9lvsCqt-Ms",
        "outputId": "6d305561-beb5-42c7-84bc-c7bec68b35c5"
      },
      "execution_count": 16,
      "outputs": [
        {
          "output_type": "execute_result",
          "data": {
            "text/plain": [
              "36.78373786407767"
            ]
          },
          "metadata": {},
          "execution_count": 16
        }
      ]
    },
    {
      "cell_type": "code",
      "source": [
        "data4['age'].std()"
      ],
      "metadata": {
        "colab": {
          "base_uri": "https://localhost:8080/"
        },
        "id": "H61SMZ1quBs9",
        "outputId": "ecfb5411-aee8-4b5a-ff27-047d8a6a58a3"
      },
      "execution_count": 17,
      "outputs": [
        {
          "output_type": "execute_result",
          "data": {
            "text/plain": [
              "14.020088490824813"
            ]
          },
          "metadata": {},
          "execution_count": 17
        }
      ]
    },
    {
      "metadata": {
        "_uuid": "180c3fe6f8b250b877c1d86866067b80acabdb64",
        "id": "7S3hb7UKrb0D"
      },
      "cell_type": "markdown",
      "source": [
        "**6. Is it true that people who earn more than 50K have at least high school education? (*education – Bachelors, Prof-school, Assoc-acdm, Assoc-voc, Masters* or *Doctorate* feature)**"
      ]
    },
    {
      "metadata": {
        "collapsed": true,
        "trusted": true,
        "_uuid": "58f38ebfa2b0e1418a6a1a680d0743697f9876a2",
        "colab": {
          "base_uri": "https://localhost:8080/"
        },
        "id": "evMdoTQGrb0D",
        "outputId": "99aa6651-a645-460a-951a-adb72a378625"
      },
      "cell_type": "code",
      "source": [
        "data5 = data[(data['salary'] == '>50K')\n",
        "        & ((data['education'] == 'Bachelors')\n",
        "        | (data['education'] == 'Prof-school')\n",
        "        | (data['education'] == 'Assoc-acdm')\n",
        "        | (data['education'] == 'Assoc-voc')\n",
        "        | (data['education'] == 'Masters')\n",
        "        | (data['education'] == 'Doctorate'))]\n",
        "\n",
        "data7 = (data[data['salary'] == '>50K'])\n",
        "\n",
        "len(data7) - len(data5)"
      ],
      "execution_count": 18,
      "outputs": [
        {
          "output_type": "execute_result",
          "data": {
            "text/plain": [
              "3306"
            ]
          },
          "metadata": {},
          "execution_count": 18
        }
      ]
    },
    {
      "metadata": {
        "_uuid": "87d6bc9ec1c230e66416ce94533ea250368009cc",
        "id": "U4sJzffvrb0E"
      },
      "cell_type": "markdown",
      "source": [
        "**7. Display age statistics for each race (*race* feature) and each gender (*sex* feature). Use *groupby()* and *describe()*. Find the maximum age of men of *Amer-Indian-Eskimo* race.**"
      ]
    },
    {
      "metadata": {
        "collapsed": true,
        "trusted": true,
        "_uuid": "a4567b72200b583f7f2ee1583405d636c12169db",
        "colab": {
          "base_uri": "https://localhost:8080/",
          "height": 238
        },
        "id": "_13j2vg1rb0E",
        "outputId": "435c01bf-5879-46bd-ca95-24b3d6f94e4a"
      },
      "cell_type": "code",
      "source": [
        "data3 = data.groupby(['race'])['age'].describe()\n",
        "data3"
      ],
      "execution_count": 19,
      "outputs": [
        {
          "output_type": "execute_result",
          "data": {
            "text/html": [
              "\n",
              "  <div id=\"df-b069cb14-758a-449c-9d10-3357521f4857\">\n",
              "    <div class=\"colab-df-container\">\n",
              "      <div>\n",
              "<style scoped>\n",
              "    .dataframe tbody tr th:only-of-type {\n",
              "        vertical-align: middle;\n",
              "    }\n",
              "\n",
              "    .dataframe tbody tr th {\n",
              "        vertical-align: top;\n",
              "    }\n",
              "\n",
              "    .dataframe thead th {\n",
              "        text-align: right;\n",
              "    }\n",
              "</style>\n",
              "<table border=\"1\" class=\"dataframe\">\n",
              "  <thead>\n",
              "    <tr style=\"text-align: right;\">\n",
              "      <th></th>\n",
              "      <th>count</th>\n",
              "      <th>mean</th>\n",
              "      <th>std</th>\n",
              "      <th>min</th>\n",
              "      <th>25%</th>\n",
              "      <th>50%</th>\n",
              "      <th>75%</th>\n",
              "      <th>max</th>\n",
              "    </tr>\n",
              "    <tr>\n",
              "      <th>race</th>\n",
              "      <th></th>\n",
              "      <th></th>\n",
              "      <th></th>\n",
              "      <th></th>\n",
              "      <th></th>\n",
              "      <th></th>\n",
              "      <th></th>\n",
              "      <th></th>\n",
              "    </tr>\n",
              "  </thead>\n",
              "  <tbody>\n",
              "    <tr>\n",
              "      <th>Amer-Indian-Eskimo</th>\n",
              "      <td>311.0</td>\n",
              "      <td>37.173633</td>\n",
              "      <td>12.447130</td>\n",
              "      <td>17.0</td>\n",
              "      <td>28.0</td>\n",
              "      <td>35.0</td>\n",
              "      <td>45.5</td>\n",
              "      <td>82.0</td>\n",
              "    </tr>\n",
              "    <tr>\n",
              "      <th>Asian-Pac-Islander</th>\n",
              "      <td>1039.0</td>\n",
              "      <td>37.746872</td>\n",
              "      <td>12.825133</td>\n",
              "      <td>17.0</td>\n",
              "      <td>28.0</td>\n",
              "      <td>36.0</td>\n",
              "      <td>45.0</td>\n",
              "      <td>90.0</td>\n",
              "    </tr>\n",
              "    <tr>\n",
              "      <th>Black</th>\n",
              "      <td>3124.0</td>\n",
              "      <td>37.767926</td>\n",
              "      <td>12.759290</td>\n",
              "      <td>17.0</td>\n",
              "      <td>28.0</td>\n",
              "      <td>36.0</td>\n",
              "      <td>46.0</td>\n",
              "      <td>90.0</td>\n",
              "    </tr>\n",
              "    <tr>\n",
              "      <th>Other</th>\n",
              "      <td>271.0</td>\n",
              "      <td>33.457565</td>\n",
              "      <td>11.538865</td>\n",
              "      <td>17.0</td>\n",
              "      <td>25.0</td>\n",
              "      <td>31.0</td>\n",
              "      <td>41.0</td>\n",
              "      <td>77.0</td>\n",
              "    </tr>\n",
              "    <tr>\n",
              "      <th>White</th>\n",
              "      <td>27816.0</td>\n",
              "      <td>38.769881</td>\n",
              "      <td>13.782306</td>\n",
              "      <td>17.0</td>\n",
              "      <td>28.0</td>\n",
              "      <td>37.0</td>\n",
              "      <td>48.0</td>\n",
              "      <td>90.0</td>\n",
              "    </tr>\n",
              "  </tbody>\n",
              "</table>\n",
              "</div>\n",
              "      <button class=\"colab-df-convert\" onclick=\"convertToInteractive('df-b069cb14-758a-449c-9d10-3357521f4857')\"\n",
              "              title=\"Convert this dataframe to an interactive table.\"\n",
              "              style=\"display:none;\">\n",
              "        \n",
              "  <svg xmlns=\"http://www.w3.org/2000/svg\" height=\"24px\"viewBox=\"0 0 24 24\"\n",
              "       width=\"24px\">\n",
              "    <path d=\"M0 0h24v24H0V0z\" fill=\"none\"/>\n",
              "    <path d=\"M18.56 5.44l.94 2.06.94-2.06 2.06-.94-2.06-.94-.94-2.06-.94 2.06-2.06.94zm-11 1L8.5 8.5l.94-2.06 2.06-.94-2.06-.94L8.5 2.5l-.94 2.06-2.06.94zm10 10l.94 2.06.94-2.06 2.06-.94-2.06-.94-.94-2.06-.94 2.06-2.06.94z\"/><path d=\"M17.41 7.96l-1.37-1.37c-.4-.4-.92-.59-1.43-.59-.52 0-1.04.2-1.43.59L10.3 9.45l-7.72 7.72c-.78.78-.78 2.05 0 2.83L4 21.41c.39.39.9.59 1.41.59.51 0 1.02-.2 1.41-.59l7.78-7.78 2.81-2.81c.8-.78.8-2.07 0-2.86zM5.41 20L4 18.59l7.72-7.72 1.47 1.35L5.41 20z\"/>\n",
              "  </svg>\n",
              "      </button>\n",
              "      \n",
              "  <style>\n",
              "    .colab-df-container {\n",
              "      display:flex;\n",
              "      flex-wrap:wrap;\n",
              "      gap: 12px;\n",
              "    }\n",
              "\n",
              "    .colab-df-convert {\n",
              "      background-color: #E8F0FE;\n",
              "      border: none;\n",
              "      border-radius: 50%;\n",
              "      cursor: pointer;\n",
              "      display: none;\n",
              "      fill: #1967D2;\n",
              "      height: 32px;\n",
              "      padding: 0 0 0 0;\n",
              "      width: 32px;\n",
              "    }\n",
              "\n",
              "    .colab-df-convert:hover {\n",
              "      background-color: #E2EBFA;\n",
              "      box-shadow: 0px 1px 2px rgba(60, 64, 67, 0.3), 0px 1px 3px 1px rgba(60, 64, 67, 0.15);\n",
              "      fill: #174EA6;\n",
              "    }\n",
              "\n",
              "    [theme=dark] .colab-df-convert {\n",
              "      background-color: #3B4455;\n",
              "      fill: #D2E3FC;\n",
              "    }\n",
              "\n",
              "    [theme=dark] .colab-df-convert:hover {\n",
              "      background-color: #434B5C;\n",
              "      box-shadow: 0px 1px 3px 1px rgba(0, 0, 0, 0.15);\n",
              "      filter: drop-shadow(0px 1px 2px rgba(0, 0, 0, 0.3));\n",
              "      fill: #FFFFFF;\n",
              "    }\n",
              "  </style>\n",
              "\n",
              "      <script>\n",
              "        const buttonEl =\n",
              "          document.querySelector('#df-b069cb14-758a-449c-9d10-3357521f4857 button.colab-df-convert');\n",
              "        buttonEl.style.display =\n",
              "          google.colab.kernel.accessAllowed ? 'block' : 'none';\n",
              "\n",
              "        async function convertToInteractive(key) {\n",
              "          const element = document.querySelector('#df-b069cb14-758a-449c-9d10-3357521f4857');\n",
              "          const dataTable =\n",
              "            await google.colab.kernel.invokeFunction('convertToInteractive',\n",
              "                                                     [key], {});\n",
              "          if (!dataTable) return;\n",
              "\n",
              "          const docLinkHtml = 'Like what you see? Visit the ' +\n",
              "            '<a target=\"_blank\" href=https://colab.research.google.com/notebooks/data_table.ipynb>data table notebook</a>'\n",
              "            + ' to learn more about interactive tables.';\n",
              "          element.innerHTML = '';\n",
              "          dataTable['output_type'] = 'display_data';\n",
              "          await google.colab.output.renderOutput(dataTable, element);\n",
              "          const docLink = document.createElement('div');\n",
              "          docLink.innerHTML = docLinkHtml;\n",
              "          element.appendChild(docLink);\n",
              "        }\n",
              "      </script>\n",
              "    </div>\n",
              "  </div>\n",
              "  "
            ],
            "text/plain": [
              "                      count       mean        std   min   25%   50%   75%   max\n",
              "race                                                                           \n",
              "Amer-Indian-Eskimo    311.0  37.173633  12.447130  17.0  28.0  35.0  45.5  82.0\n",
              "Asian-Pac-Islander   1039.0  37.746872  12.825133  17.0  28.0  36.0  45.0  90.0\n",
              "Black                3124.0  37.767926  12.759290  17.0  28.0  36.0  46.0  90.0\n",
              "Other                 271.0  33.457565  11.538865  17.0  25.0  31.0  41.0  77.0\n",
              "White               27816.0  38.769881  13.782306  17.0  28.0  37.0  48.0  90.0"
            ]
          },
          "metadata": {},
          "execution_count": 19
        }
      ]
    },
    {
      "metadata": {
        "_uuid": "19411d604b0d4337a4a048a2f0e898541f39ab76",
        "id": "NrRuxcX-rb0E"
      },
      "cell_type": "markdown",
      "source": [
        "**8. Among whom is the proportion of those who earn a lot (>50K) greater: married or single men (*marital-status* feature)? Consider as married those who have a *marital-status* starting with *Married* (Married-civ-spouse, Married-spouse-absent or Married-AF-spouse), the rest are considered bachelors.**"
      ]
    },
    {
      "metadata": {
        "collapsed": true,
        "trusted": true,
        "_uuid": "5bb3a8524fcbd794707075ccf6aaf8dd0f30a3dd",
        "colab": {
          "base_uri": "https://localhost:8080/"
        },
        "id": "XzGO8Vz-rb0F",
        "outputId": "57f64001-8497-472c-bb24-d5683be43d66"
      },
      "cell_type": "code",
      "source": [
        "data5 = data[(data['salary'] == '>50K')\n",
        "        & ((data['marital-status'] == 'Married-civ-spouse')\n",
        "        | (data['marital-status'] == 'Married-spouse-absent')\n",
        "        | (data['marital-status'] == 'Married-AF-spouse'))]\n",
        "\n",
        "data7 = (data[data['salary'] == '>50K'])\n",
        "\n",
        "len(data7) - len(data5)"
      ],
      "execution_count": 20,
      "outputs": [
        {
          "output_type": "execute_result",
          "data": {
            "text/plain": [
              "1105"
            ]
          },
          "metadata": {},
          "execution_count": 20
        }
      ]
    },
    {
      "metadata": {
        "_uuid": "34f2076e7d331b95a23b990372809b709d2c8183",
        "id": "S8axYs4hrb0G"
      },
      "cell_type": "markdown",
      "source": [
        "**9. What is the maximum number of hours a person works per week (*hours-per-week* feature)? How many people work such a number of hours, and what is the percentage of those who earn a lot (>50K) among them?**"
      ]
    },
    {
      "metadata": {
        "collapsed": true,
        "trusted": true,
        "_uuid": "3571468172fc4bcf34e10b3d6ab358d4e41f7ef4",
        "id": "bGYINxyLrb0G"
      },
      "cell_type": "code",
      "source": [
        "data7 = data['hours-per-week'].max()"
      ],
      "execution_count": 21,
      "outputs": []
    },
    {
      "cell_type": "code",
      "source": [
        "data8 = data[data['hours-per-week'] == data['hours-per-week'].max()]\n",
        "len(data8)"
      ],
      "metadata": {
        "colab": {
          "base_uri": "https://localhost:8080/"
        },
        "id": "4UJMAAH4ueVJ",
        "outputId": "aeead819-b6f5-4760-9503-565cbc92483a"
      },
      "execution_count": 22,
      "outputs": [
        {
          "output_type": "execute_result",
          "data": {
            "text/plain": [
              "85"
            ]
          },
          "metadata": {},
          "execution_count": 22
        }
      ]
    },
    {
      "cell_type": "code",
      "source": [
        "data9 = data[(data['salary'] == '>50K')\n",
        "        & (data['hours-per-week'] == data['hours-per-week'].max())]\n",
        "len(data9) * 100 / len(data8)"
      ],
      "metadata": {
        "colab": {
          "base_uri": "https://localhost:8080/"
        },
        "id": "LO3wWQxNuhWx",
        "outputId": "3821dffb-f583-4874-a8e3-496af62697d4"
      },
      "execution_count": 23,
      "outputs": [
        {
          "output_type": "execute_result",
          "data": {
            "text/plain": [
              "29.41176470588235"
            ]
          },
          "metadata": {},
          "execution_count": 23
        }
      ]
    },
    {
      "metadata": {
        "_uuid": "d539d4d137fac1c5ea25bc516188eb657d67e9b4",
        "id": "dQYT9wNLrb0G"
      },
      "cell_type": "markdown",
      "source": [
        "**10. Count the average time of work (*hours-per-week*) for those who earn a little and a lot (*salary*) for each country (*native-country*). What will these be for Japan?**"
      ]
    },
    {
      "metadata": {
        "collapsed": true,
        "trusted": false,
        "_uuid": "75a93411f1e3b519afcc27c026aaa0c67eb526e9",
        "colab": {
          "base_uri": "https://localhost:8080/"
        },
        "id": "WBITONZ1rb0H",
        "outputId": "ebb47554-37b6-4570-efdf-372c05060348"
      },
      "cell_type": "code",
      "source": [
        "data10 = data[(data['salary'] == '>50K') & (data['native-country'] == 'Japan')]\n",
        "data10['hours-per-week'].mean()"
      ],
      "execution_count": 24,
      "outputs": [
        {
          "output_type": "execute_result",
          "data": {
            "text/plain": [
              "47.958333333333336"
            ]
          },
          "metadata": {},
          "execution_count": 24
        }
      ]
    },
    {
      "cell_type": "code",
      "source": [
        "data11 = data[(data['salary'] == '<=50K') & (data['native-country'] == 'Japan')]\n",
        "data11['hours-per-week'].mean()"
      ],
      "metadata": {
        "colab": {
          "base_uri": "https://localhost:8080/"
        },
        "id": "BzKwTvVoumWr",
        "outputId": "ad8bf12f-43c3-4e7c-9106-37fa2061ccdb"
      },
      "execution_count": 25,
      "outputs": [
        {
          "output_type": "execute_result",
          "data": {
            "text/plain": [
              "41.0"
            ]
          },
          "metadata": {},
          "execution_count": 25
        }
      ]
    }
  ],
  "metadata": {
    "anaconda-cloud": {},
    "kernelspec": {
      "display_name": "Python 3",
      "language": "python",
      "name": "python3"
    },
    "language_info": {
      "name": "python",
      "version": "3.6.6",
      "mimetype": "text/x-python",
      "codemirror_mode": {
        "name": "ipython",
        "version": 3
      },
      "pygments_lexer": "ipython3",
      "nbconvert_exporter": "python",
      "file_extension": ".py"
    },
    "colab": {
      "name": "task1-1.ipynb",
      "provenance": [],
      "collapsed_sections": []
    }
  },
  "nbformat": 4,
  "nbformat_minor": 0
}