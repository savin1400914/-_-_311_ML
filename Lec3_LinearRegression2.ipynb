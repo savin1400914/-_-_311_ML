{
  "cells": [
    {
      "cell_type": "markdown",
      "metadata": {
        "id": "WHkPACcjJULD"
      },
      "source": [
        "\n",
        "<a href=\"https://colab.research.google.com/github/OsipovOleg/crash-python-notebooks/blob/master/scientific_computing.ipynb\">\n",
        "  <img src=\"https://colab.research.google.com/assets/colab-badge.svg\" alt=\"Open In Colab\"/>\n",
        "</a>\n"
      ]
    },
    {
      "cell_type": "markdown",
      "metadata": {
        "id": "OyV607cmJULF"
      },
      "source": [
        "# Байесовская регрессия"
      ]
    },
    {
      "cell_type": "markdown",
      "metadata": {
        "id": "JLYbj4S-JULH"
      },
      "source": [
        "Пусть дана обучающая выборка $\\mathcal{D}$, состоящая из $N$ элементов, которая получена следующим образом: \n",
        "\n",
        "$$\n",
        "y_i = w_0 + x_i w_1 + N(0, \\sigma^2).\n",
        "$$\n",
        "\n",
        "Пусть априорное распределение для каждого из весов является нормальным. \n",
        "\n",
        "1. Получите вид апостериорного распределения $p(w| \\mathcal{D})$.\n",
        "2. Рассмотрите как меняется апостериорное распреление весов в зависимости *от числа объектов*, которые мы используем для обучения модели. \n",
        "- Получите параметры этого распределения. \n",
        "- Постройте плотности распределения весов. \n",
        "- Просемлируйте несколько значений весов из полученного апостериорного распределения и постройте предсказания (линии регересии на некотором интервале).\n",
        "3. Как ведут себя полученные линии при добавлении новых данных. Какие выводы можно сделать. "
      ]
    },
    {
      "cell_type": "markdown",
      "metadata": {
        "id": "tQMqvQ-bJULI"
      },
      "source": [
        "1. \n",
        "\n",
        "w_0 = -1/2 * -2 sum(y_i) (i = 0...N) /b^2 + -1/2 * 2m/d^2\n",
        "\n",
        "w_1 = -1/2 * -2 sum(y_i) (i = 0...N) sum(x_i) (i = 0...N) /b^2 + -1/2 * 2m/d^2\n",
        "\n",
        "w_0*w_1 = -1/2 * 2 sum(x_i) (i = 0...N)/b^2"
      ]
    },
    {
      "cell_type": "markdown",
      "metadata": {
        "id": "Rsg5dRA6JULL"
      },
      "source": [
        "/// подсчеты ////\n",
        "\n",
        "мы доказали соответствие с нормальным распределением, из чего делаем вывод, что\n",
        "\n",
        "p(w|D) = 1/(pi * q_1 * q_2 * sqrt(1 - p^2)) exp(-1/2(1 - p^2) * [(x_1 - m_1)^2/q_1^2 - p* (2 (x_1-m_1)(x_2-m_2)/(q_1 * q_2)) + (x_2-m_2)^2/q_2^2])"
      ]
    },
    {
      "cell_type": "code",
      "execution_count": 170,
      "metadata": {
        "id": "FNIx915YJULN"
      },
      "outputs": [],
      "source": [
        "import numpy as np\n",
        "from numpy.linalg import inv\n",
        "from numpy.linalg import solve\n",
        "import matplotlib.pyplot as plt\n",
        "from scipy.stats import multivariate_normal"
      ]
    },
    {
      "cell_type": "code",
      "execution_count": 172,
      "metadata": {
        "colab": {
          "base_uri": "https://localhost:8080/"
        },
        "id": "xOL7uQKmJULN",
        "outputId": "f7069d78-1504-4493-bc30-c5dad9d7fb8d"
      },
      "outputs": [
        {
          "output_type": "execute_result",
          "data": {
            "text/plain": [
              "array([[ 1.        , -0.1382643 ],\n",
              "       [ 1.        ,  1.52302986],\n",
              "       [ 1.        , -0.23413696],\n",
              "       [ 1.        ,  0.76743473],\n",
              "       [ 1.        ,  0.54256004],\n",
              "       [ 1.        , -0.46572975],\n",
              "       [ 1.        , -1.91328024],\n",
              "       [ 1.        , -0.56228753],\n",
              "       [ 1.        ,  0.31424733],\n",
              "       [ 1.        , -1.4123037 ]])"
            ]
          },
          "metadata": {},
          "execution_count": 172
        }
      ],
      "source": [
        "np.random.seed(42)\n",
        "true_weight = np.array([[4], [1]])\n",
        "N = 100\n",
        "X = np.random.normal(size = (N, 2))\n",
        "X[:, 0] = 1\n",
        "X[:10]"
      ]
    },
    {
      "cell_type": "code",
      "execution_count": 173,
      "metadata": {
        "colab": {
          "base_uri": "https://localhost:8080/"
        },
        "id": "efT33lQAJULO",
        "outputId": "dfbb490e-cd70-4336-d813-ea8cd39d92ff"
      },
      "outputs": [
        {
          "output_type": "execute_result",
          "data": {
            "text/plain": [
              "array([[4.21952306],\n",
              "       [6.08381438],\n",
              "       [4.84891429],\n",
              "       [5.82123678],\n",
              "       [3.16489068]])"
            ]
          },
          "metadata": {},
          "execution_count": 173
        }
      ],
      "source": [
        "noize_sigma = 1\n",
        "y = X@true_weight\n",
        "y += np.random.normal(size = y.shape, scale = noize_sigma)\n",
        "y[:5]"
      ]
    },
    {
      "cell_type": "code",
      "execution_count": 174,
      "metadata": {
        "id": "yCjAcmElJULQ"
      },
      "outputs": [],
      "source": [
        "weight_sigma = 1\n",
        "weight_sigma_matrix = np.array(np.eye(2)*(weight_sigma**2))\n",
        "m = 0"
      ]
    },
    {
      "cell_type": "code",
      "execution_count": 175,
      "metadata": {
        "colab": {
          "base_uri": "https://localhost:8080/"
        },
        "id": "DccQ-h3GJULR",
        "outputId": "c335949b-9d04-4680-df44-ba7f5624d08b"
      },
      "outputs": [
        {
          "output_type": "execute_result",
          "data": {
            "text/plain": [
              "-50.5"
            ]
          },
          "metadata": {},
          "execution_count": 175
        }
      ],
      "source": [
        "# w_0**2\n",
        "xi_1 = - 1/(2*weight_sigma**2)*N - 1/(2*noize_sigma**2) \n",
        "xi_1"
      ]
    },
    {
      "cell_type": "code",
      "execution_count": 176,
      "metadata": {
        "colab": {
          "base_uri": "https://localhost:8080/"
        },
        "id": "oJI3K8kuLm1m",
        "outputId": "e7bf7f6c-4e76-4a50-942b-c1052025bfd7"
      },
      "outputs": [
        {
          "output_type": "execute_result",
          "data": {
            "text/plain": [
              "array([-0.1382643 ,  1.52302986, -0.23413696,  0.76743473,  0.54256004,\n",
              "       -0.46572975, -1.91328024, -0.56228753,  0.31424733, -1.4123037 ,\n",
              "       -0.2257763 , -1.42474819,  0.11092259,  0.37569802, -0.29169375,\n",
              "        1.85227818, -1.05771093, -1.22084365, -1.95967012,  0.19686124,\n",
              "        0.17136828, -0.3011037 , -0.71984421,  1.05712223, -1.76304016,\n",
              "       -0.38508228,  0.61167629,  0.93128012, -0.30921238,  0.97554513,\n",
              "       -0.18565898, -1.19620662,  1.35624003,  1.0035329 , -0.64511975,\n",
              "        1.53803657,  1.56464366,  0.8219025 , -0.29900735, -1.98756891,\n",
              "        0.35711257, -0.51827022, -0.50175704,  0.32875111,  0.51326743,\n",
              "        0.96864499, -0.32766215, -1.46351495,  0.26105527, -0.23458713,\n",
              "       -0.42064532, -0.80227727,  0.40405086,  0.17457781, -0.07444592,\n",
              "       -0.02651388,  2.46324211,  0.30154734, -1.16867804,  0.75193303,\n",
              "       -0.90938745, -1.40185106,  2.19045563, -0.56629773, -0.50347565,\n",
              "        0.06856297,  0.47359243,  1.54993441, -0.32206152, -1.23086432,\n",
              "        1.30714275,  0.18463386,  0.78182287, -1.32045661,  0.29698467,\n",
              "        0.34644821,  0.2322537 , -0.71435142,  0.47383292,  0.65655361,\n",
              "        0.7870846 , -0.82068232,  0.41278093,  1.89679298, -0.75373616,\n",
              "       -0.81581028,  0.34115197,  0.82718325,  1.45353408,  2.72016917,\n",
              "       -0.85715756,  0.48247242,  0.71400049, -0.07282891, -1.51484722,\n",
              "        0.85639879, -1.24573878,  0.38531738,  0.15372511, -1.1429703 ])"
            ]
          },
          "metadata": {},
          "execution_count": 176
        }
      ],
      "source": [
        "x = X[:, 1]\n",
        "x"
      ]
    },
    {
      "cell_type": "code",
      "execution_count": 177,
      "metadata": {
        "colab": {
          "base_uri": "https://localhost:8080/"
        },
        "id": "3QjdmFuqJULS",
        "outputId": "4f3929d0-bd5b-42ba-b81e-674b067506b3"
      },
      "outputs": [
        {
          "output_type": "execute_result",
          "data": {
            "text/plain": [
              "-49.94493758187462"
            ]
          },
          "metadata": {},
          "execution_count": 177
        }
      ],
      "source": [
        "# w_1**2\n",
        "xi_2 = - 1/(2*(weight_sigma**2))*(x**2).sum() - 1/(2*(noize_sigma**2))\n",
        "xi_2"
      ]
    },
    {
      "cell_type": "code",
      "execution_count": 178,
      "metadata": {
        "colab": {
          "base_uri": "https://localhost:8080/"
        },
        "id": "8NGXwzsMLiJn",
        "outputId": "70f49dfb-f20d-4355-cd0a-5d75a11fce75"
      },
      "outputs": [
        {
          "output_type": "execute_result",
          "data": {
            "text/plain": [
              "array([[ 1.        , -0.1382643 ],\n",
              "       [ 1.        ,  1.52302986],\n",
              "       [ 1.        , -0.23413696],\n",
              "       [ 1.        ,  0.76743473],\n",
              "       [ 1.        ,  0.54256004],\n",
              "       [ 1.        , -0.46572975],\n",
              "       [ 1.        , -1.91328024],\n",
              "       [ 1.        , -0.56228753],\n",
              "       [ 1.        ,  0.31424733],\n",
              "       [ 1.        , -1.4123037 ],\n",
              "       [ 1.        , -0.2257763 ],\n",
              "       [ 1.        , -1.42474819],\n",
              "       [ 1.        ,  0.11092259],\n",
              "       [ 1.        ,  0.37569802],\n",
              "       [ 1.        , -0.29169375],\n",
              "       [ 1.        ,  1.85227818],\n",
              "       [ 1.        , -1.05771093],\n",
              "       [ 1.        , -1.22084365],\n",
              "       [ 1.        , -1.95967012],\n",
              "       [ 1.        ,  0.19686124],\n",
              "       [ 1.        ,  0.17136828],\n",
              "       [ 1.        , -0.3011037 ],\n",
              "       [ 1.        , -0.71984421],\n",
              "       [ 1.        ,  1.05712223],\n",
              "       [ 1.        , -1.76304016],\n",
              "       [ 1.        , -0.38508228],\n",
              "       [ 1.        ,  0.61167629],\n",
              "       [ 1.        ,  0.93128012],\n",
              "       [ 1.        , -0.30921238],\n",
              "       [ 1.        ,  0.97554513],\n",
              "       [ 1.        , -0.18565898],\n",
              "       [ 1.        , -1.19620662],\n",
              "       [ 1.        ,  1.35624003],\n",
              "       [ 1.        ,  1.0035329 ],\n",
              "       [ 1.        , -0.64511975],\n",
              "       [ 1.        ,  1.53803657],\n",
              "       [ 1.        ,  1.56464366],\n",
              "       [ 1.        ,  0.8219025 ],\n",
              "       [ 1.        , -0.29900735],\n",
              "       [ 1.        , -1.98756891],\n",
              "       [ 1.        ,  0.35711257],\n",
              "       [ 1.        , -0.51827022],\n",
              "       [ 1.        , -0.50175704],\n",
              "       [ 1.        ,  0.32875111],\n",
              "       [ 1.        ,  0.51326743],\n",
              "       [ 1.        ,  0.96864499],\n",
              "       [ 1.        , -0.32766215],\n",
              "       [ 1.        , -1.46351495],\n",
              "       [ 1.        ,  0.26105527],\n",
              "       [ 1.        , -0.23458713],\n",
              "       [ 1.        , -0.42064532],\n",
              "       [ 1.        , -0.80227727],\n",
              "       [ 1.        ,  0.40405086],\n",
              "       [ 1.        ,  0.17457781],\n",
              "       [ 1.        , -0.07444592],\n",
              "       [ 1.        , -0.02651388],\n",
              "       [ 1.        ,  2.46324211],\n",
              "       [ 1.        ,  0.30154734],\n",
              "       [ 1.        , -1.16867804],\n",
              "       [ 1.        ,  0.75193303],\n",
              "       [ 1.        , -0.90938745],\n",
              "       [ 1.        , -1.40185106],\n",
              "       [ 1.        ,  2.19045563],\n",
              "       [ 1.        , -0.56629773],\n",
              "       [ 1.        , -0.50347565],\n",
              "       [ 1.        ,  0.06856297],\n",
              "       [ 1.        ,  0.47359243],\n",
              "       [ 1.        ,  1.54993441],\n",
              "       [ 1.        , -0.32206152],\n",
              "       [ 1.        , -1.23086432],\n",
              "       [ 1.        ,  1.30714275],\n",
              "       [ 1.        ,  0.18463386],\n",
              "       [ 1.        ,  0.78182287],\n",
              "       [ 1.        , -1.32045661],\n",
              "       [ 1.        ,  0.29698467],\n",
              "       [ 1.        ,  0.34644821],\n",
              "       [ 1.        ,  0.2322537 ],\n",
              "       [ 1.        , -0.71435142],\n",
              "       [ 1.        ,  0.47383292],\n",
              "       [ 1.        ,  0.65655361],\n",
              "       [ 1.        ,  0.7870846 ],\n",
              "       [ 1.        , -0.82068232],\n",
              "       [ 1.        ,  0.41278093],\n",
              "       [ 1.        ,  1.89679298],\n",
              "       [ 1.        , -0.75373616],\n",
              "       [ 1.        , -0.81581028],\n",
              "       [ 1.        ,  0.34115197],\n",
              "       [ 1.        ,  0.82718325],\n",
              "       [ 1.        ,  1.45353408],\n",
              "       [ 1.        ,  2.72016917],\n",
              "       [ 1.        , -0.85715756],\n",
              "       [ 1.        ,  0.48247242],\n",
              "       [ 1.        ,  0.71400049],\n",
              "       [ 1.        , -0.07282891],\n",
              "       [ 1.        , -1.51484722],\n",
              "       [ 1.        ,  0.85639879],\n",
              "       [ 1.        , -1.24573878],\n",
              "       [ 1.        ,  0.38531738],\n",
              "       [ 1.        ,  0.15372511],\n",
              "       [ 1.        , -1.1429703 ]])"
            ]
          },
          "metadata": {},
          "execution_count": 178
        }
      ],
      "source": [
        "X"
      ]
    },
    {
      "cell_type": "code",
      "execution_count": 179,
      "metadata": {
        "colab": {
          "base_uri": "https://localhost:8080/"
        },
        "id": "jYmS-WtjLWNv",
        "outputId": "9b41bc15-7232-4419-b612-2a0b24175d96"
      },
      "outputs": [
        {
          "output_type": "execute_result",
          "data": {
            "text/plain": [
              "(1, 1)"
            ]
          },
          "metadata": {},
          "execution_count": 179
        }
      ],
      "source": [
        "weight_sigma, noize_sigma"
      ]
    },
    {
      "cell_type": "code",
      "execution_count": 180,
      "metadata": {
        "colab": {
          "base_uri": "https://localhost:8080/"
        },
        "id": "WZIJKDKvJULT",
        "outputId": "68eb6527-2df8-4f46-b859-0d9723c27fc1"
      },
      "outputs": [
        {
          "output_type": "execute_result",
          "data": {
            "text/plain": [
              "-3.402232444421978"
            ]
          },
          "metadata": {},
          "execution_count": 180
        }
      ],
      "source": [
        "# w_0*w_1\n",
        "xi_3 = -1/2 * 2*x.sum()/(weight_sigma**2)\n",
        "xi_3"
      ]
    },
    {
      "cell_type": "code",
      "execution_count": 181,
      "metadata": {
        "colab": {
          "base_uri": "https://localhost:8080/"
        },
        "id": "53PTR1JxJULU",
        "outputId": "a1881c98-8bef-49ab-a048-7bd61dd8c36e"
      },
      "outputs": [
        {
          "output_type": "execute_result",
          "data": {
            "text/plain": [
              "409.89185775446674"
            ]
          },
          "metadata": {},
          "execution_count": 181
        }
      ],
      "source": [
        "# w_0\n",
        "xi_4 = -1/2 * -2*y.sum()/(weight_sigma**2) + -1/2 * 2*m/(noize_sigma**2)\n",
        "xi_4"
      ]
    },
    {
      "cell_type": "code",
      "execution_count": 182,
      "metadata": {
        "colab": {
          "base_uri": "https://localhost:8080/"
        },
        "id": "QYZFMdVdJULU",
        "outputId": "d4579c23-f310-47ee-cd3e-d8454c81e9ea"
      },
      "outputs": [
        {
          "output_type": "execute_result",
          "data": {
            "text/plain": [
              "array([96.23840845])"
            ]
          },
          "metadata": {},
          "execution_count": 182
        }
      ],
      "source": [
        "# w_1\n",
        "xi_5 = -1/2 * -2*x.dot(y)/(weight_sigma**2) + -1/2 * 2*m/(noize_sigma**2)\n",
        "xi_5"
      ]
    },
    {
      "cell_type": "code",
      "execution_count": 183,
      "metadata": {
        "colab": {
          "base_uri": "https://localhost:8080/"
        },
        "id": "4W3MjO1EJULW",
        "outputId": "97811217-7f71-43f9-8e72-ed83e717b4ee"
      },
      "outputs": [
        {
          "output_type": "execute_result",
          "data": {
            "text/plain": [
              "-0.03387213407310486"
            ]
          },
          "metadata": {},
          "execution_count": 183
        }
      ],
      "source": [
        "p = xi_3/(2* (xi_1 * xi_2)**(0.5))\n",
        "p"
      ]
    },
    {
      "cell_type": "code",
      "execution_count": 184,
      "metadata": {
        "colab": {
          "base_uri": "https://localhost:8080/"
        },
        "id": "f81QbNj2JULX",
        "outputId": "b7bda2b9-d057-4f1a-90c3-72d6668ad27f"
      },
      "outputs": [
        {
          "output_type": "execute_result",
          "data": {
            "text/plain": [
              "0.09956084956244725"
            ]
          },
          "metadata": {},
          "execution_count": 184
        }
      ],
      "source": [
        "# sigma 1\n",
        "b_1 = 1/((-xi_1*2*(1-p**2))**(0.5))\n",
        "b_1"
      ]
    },
    {
      "cell_type": "code",
      "execution_count": 185,
      "metadata": {
        "colab": {
          "base_uri": "https://localhost:8080/"
        },
        "id": "HOjjnUEQJULX",
        "outputId": "07bc6b7d-9e62-47a2-a408-780100518e9f"
      },
      "outputs": [
        {
          "output_type": "execute_result",
          "data": {
            "text/plain": [
              "0.10011255506201089"
            ]
          },
          "metadata": {},
          "execution_count": 185
        }
      ],
      "source": [
        "# sigma 2\n",
        "b_2 = 1/((-xi_2*2*(1-p**2))**(0.5))\n",
        "b_2"
      ]
    },
    {
      "cell_type": "code",
      "execution_count": 186,
      "metadata": {
        "colab": {
          "base_uri": "https://localhost:8080/"
        },
        "id": "_BpmxGAqNX8B",
        "outputId": "e01e2636-65dc-4d19-b530-4f1e45e3d863"
      },
      "outputs": [
        {
          "output_type": "execute_result",
          "data": {
            "text/plain": [
              "-0.03387213407310486"
            ]
          },
          "metadata": {},
          "execution_count": 186
        }
      ],
      "source": [
        "p"
      ]
    },
    {
      "cell_type": "code",
      "execution_count": 187,
      "metadata": {
        "colab": {
          "base_uri": "https://localhost:8080/"
        },
        "id": "TrQtIsjTJULY",
        "outputId": "6772969a-21af-4142-a5b1-4a1620692883"
      },
      "outputs": [
        {
          "output_type": "execute_result",
          "data": {
            "text/plain": [
              "-50.50000000000001"
            ]
          },
          "metadata": {},
          "execution_count": 187
        }
      ],
      "source": [
        "a = -1/(2*(1-p*p)*b_1*b_1)\n",
        "a"
      ]
    },
    {
      "cell_type": "code",
      "execution_count": 188,
      "metadata": {
        "colab": {
          "base_uri": "https://localhost:8080/"
        },
        "id": "RfYxLHEEJULY",
        "outputId": "c23815fd-56da-4e94-fd66-497ddb5bc55a"
      },
      "outputs": [
        {
          "output_type": "execute_result",
          "data": {
            "text/plain": [
              "-49.94493758187462"
            ]
          },
          "metadata": {},
          "execution_count": 188
        }
      ],
      "source": [
        "b = -1 / (2 * (1-p**2)) * 1 / (b_2**2)\n",
        "b"
      ]
    },
    {
      "cell_type": "code",
      "execution_count": 189,
      "metadata": {
        "colab": {
          "base_uri": "https://localhost:8080/"
        },
        "id": "pj8DZ1dPJULZ",
        "outputId": "cee21178-1504-4df4-bb71-b2a8edd8ea8b"
      },
      "outputs": [
        {
          "output_type": "execute_result",
          "data": {
            "text/plain": [
              "-3.402232444421978"
            ]
          },
          "metadata": {},
          "execution_count": 189
        }
      ],
      "source": [
        "c = xi_3\n",
        "c"
      ]
    },
    {
      "cell_type": "code",
      "execution_count": 190,
      "metadata": {
        "colab": {
          "base_uri": "https://localhost:8080/"
        },
        "id": "ij7aVgUKKBJn",
        "outputId": "aa93383b-c77e-458f-8abf-1270501245f3"
      },
      "outputs": [
        {
          "output_type": "execute_result",
          "data": {
            "text/plain": [
              "array([4.03050541])"
            ]
          },
          "metadata": {},
          "execution_count": 190
        }
      ],
      "source": [
        "m_1 = (- xi_3 * xi_5 + 2 * xi_2 * xi_4)/(-4 * xi_1 * xi_2 + xi_3 * xi_3)\n",
        "m_1"
      ]
    },
    {
      "cell_type": "code",
      "execution_count": 191,
      "metadata": {
        "colab": {
          "base_uri": "https://localhost:8080/"
        },
        "id": "Q0b89he1JULZ",
        "outputId": "c9226618-ac66-4f50-a8a4-e91ee63615ec"
      },
      "outputs": [
        {
          "output_type": "execute_result",
          "data": {
            "text/plain": [
              "array([0.82616674])"
            ]
          },
          "metadata": {},
          "execution_count": 191
        }
      ],
      "source": [
        "m_2 = (xi_4 + 2 * xi_1 * m_1)/(- xi_3)\n",
        "m_2"
      ]
    },
    {
      "cell_type": "code",
      "execution_count": 192,
      "metadata": {
        "id": "Ar-hAhGUMvV7"
      },
      "outputs": [],
      "source": [
        "b_12 = p * b_1 * b_2"
      ]
    },
    {
      "cell_type": "code",
      "execution_count": 193,
      "metadata": {
        "id": "uxpT4ZV7KBJp"
      },
      "outputs": [],
      "source": [
        "SIGMA = np.array([[b_1 * b_1, b_12],\n",
        "          [b_12, b_2 * b_2]])\n",
        "MU = [m_1, m_2]"
      ]
    },
    {
      "cell_type": "code",
      "execution_count": 194,
      "metadata": {
        "colab": {
          "base_uri": "https://localhost:8080/",
          "height": 282
        },
        "id": "6Z-BMFQIKBJp",
        "outputId": "4a59076b-2e10-413d-d7f5-9568414a4a35"
      },
      "outputs": [
        {
          "output_type": "execute_result",
          "data": {
            "text/plain": [
              "<matplotlib.contour.QuadContourSet at 0x7f06bcb7df90>"
            ]
          },
          "metadata": {},
          "execution_count": 194
        },
        {
          "output_type": "display_data",
          "data": {
            "image/png": "[encoded data removed]",
            "text/plain": [
              "<Figure size 432x288 with 1 Axes>"
            ]
          },
          "metadata": {
            "needs_background": "light"
          }
        }
      ],
      "source": [
        "#  MU - массив из m_1 m_2 SIGMA - составленная матрица\n",
        "from scipy.stats import multivariate_normal\n",
        "rv = multivariate_normal(mean=np.ravel(MU), cov=SIGMA)\n",
        "x, y = np.mgrid[-2:5:.01, -2:5:.01]\n",
        "pos = np.dstack((x, y))\n",
        "fig = plt.figure()\n",
        "ax = fig.add_subplot(111)\n",
        "ax.contourf(x, y, rv.pdf(pos))"
      ]
    },
    {
      "cell_type": "code",
      "execution_count": 195,
      "metadata": {
        "colab": {
          "base_uri": "https://localhost:8080/",
          "height": 267
        },
        "id": "psmiTuqMKBJp",
        "outputId": "fcf65be9-cc63-4d56-950a-6579c756b8e3"
      },
      "outputs": [
        {
          "output_type": "display_data",
          "data": {
            "image/png": "[encoded data removed]",
            "text/plain": [
              "<Figure size 432x288 with 1 Axes>"
            ]
          },
          "metadata": {
            "needs_background": "light"
          }
        }
      ],
      "source": [
        "w = np.random.multivariate_normal(np.ravel(MU), SIGMA, 100)\n",
        "x = np.linspace(-5, 5, 100)\n",
        "for w0, w1 in w:\n",
        "  y = w0 + x*w1\n",
        "  plt.plot(x, y)"
      ]
    }
  ],
  "metadata": {
    "colab": {
      "name": "Lec3 - LinearRegression2.ipynb",
      "provenance": [],
      "collapsed_sections": []
    },
    "interpreter": {
      "hash": "7bb4ef3929ba2b3cff5c7c066675259b7e6e26497036bb9e6a9a5ed6dc85a661"
    },
    "kernelspec": {
      "display_name": "Python 3.8.8 64-bit ('base': conda)",
      "name": "python3"
    },
    "language_info": {
      "codemirror_mode": {
        "name": "ipython",
        "version": 3
      },
      "file_extension": ".py",
      "mimetype": "text/x-python",
      "name": "python",
      "nbconvert_exporter": "python",
      "pygments_lexer": "ipython3",
      "version": "3.8.8"
    },
    "orig_nbformat": 4
  },
  "nbformat": 4,
  "nbformat_minor": 0
}