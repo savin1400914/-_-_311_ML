{
  "cells": [
    {
      "cell_type": "markdown",
      "metadata": {
        "_uuid": "945c0f151b28ca53b79e0f7cf5b107af959a3370",
        "id": "t9tbq5b60D3V"
      },
      "source": [
        "<center>\n",
        "<img src=\"https://habrastorage.org/webt/ia/m9/zk/iam9zkyzqebnf_okxipihkgjwnw.jpeg\">\n",
        "\n",
        "## [mlcourse.ai](https://mlcourse.ai) - Open Machine Learning Course\n",
        "    \n",
        "Authors: [Ilya Baryshnikov](https://www.linkedin.com/in/baryshnikov-ilya/), [Maxim Uvarov](https://www.linkedin.com/in/maxis42/), and [Yury Kashnitsky](https://yorko.github.io). Translated and edited by [Inga Kaydanova](https://www.linkedin.com/in/inga-kaidanova-a92398b1/), [Egor Polusmak](https://www.linkedin.com/in/egor-polusmak/), [Anastasia Manokhina](https://www.linkedin.com/in/anastasiamanokhina/), and [Yuanyuan Pao](https://www.linkedin.com/in/yuanyuanpao/). This material is subject to the terms and conditions of the [Creative Commons CC BY-NC-SA 4.0](https://creativecommons.org/licenses/by-nc-sa/4.0/) license. Free use is permitted for any non-commercial purpose."
      ]
    },
    {
      "cell_type": "markdown",
      "metadata": {
        "_uuid": "66409c8728e75df39a1390bcb634ae50c6b37652",
        "collapsed": true,
        "id": "azfu0FP90D3c"
      },
      "source": [
        "# <center>Assignment #2 (demo)\n",
        "## <center>Analyzing cardiovascular disease data "
      ]
    },
    {
      "cell_type": "markdown",
      "metadata": {
        "_uuid": "5cea59b8adb04c5a07a32c5b70a829319ba0cf2a",
        "id": "Qy0iVM9E0D3e"
      },
      "source": [
        "In this assignment, you will answer questions about a dataset on cardiovascular disease. You do not need to download the data: it is already in the repository. There are some Tasks that will require you to write code. Complete them and then answer the questions in the [form](https://docs.google.com/forms/d/13cE_tSIb6hsScQvvWUJeu1MEHE5L6vnxQUbDYpXsf24). \n",
        "\n",
        "#### Problem\n",
        "\n",
        "Predict the presence or absence of cardiovascular disease (CVD) using the patient examination results.\n",
        "\n",
        "#### Data description\n",
        "\n",
        "There are 3 types of input features:\n",
        "\n",
        "- *Objective*: factual information;\n",
        "- *Examination*: results of medical examination;\n",
        "- *Subjective*: information given by the patient.\n",
        "\n",
        "| Feature | Variable Type | Variable      | Value Type |\n",
        "|---------|--------------|---------------|------------|\n",
        "| Age | Objective Feature | age | int (days) |\n",
        "| Height | Objective Feature | height | int (cm) |\n",
        "| Weight | Objective Feature | weight | float (kg) |\n",
        "| Gender | Objective Feature | gender | categorical code |\n",
        "| Systolic blood pressure | Examination Feature | ap_hi | int |\n",
        "| Diastolic blood pressure | Examination Feature | ap_lo | int |\n",
        "| Cholesterol | Examination Feature | cholesterol | 1: normal, 2: above normal, 3: well above normal |\n",
        "| Glucose | Examination Feature | gluc | 1: normal, 2: above normal, 3: well above normal |\n",
        "| Smoking | Subjective Feature | smoke | binary |\n",
        "| Alcohol intake | Subjective Feature | alco | binary |\n",
        "| Physical activity | Subjective Feature | active | binary |\n",
        "| Presence or absence of cardiovascular disease | Target Variable | cardio | binary |\n",
        "\n",
        "All of the dataset values were collected at the moment of medical examination."
      ]
    },
    {
      "cell_type": "markdown",
      "metadata": {
        "_uuid": "10749a7f9b46749e3a90ff697bc298760045c333",
        "id": "NiBxLMIR0D3g"
      },
      "source": [
        "Let's get to know our data by performing a preliminary data analysis.\n",
        "\n",
        "#  Part 1. Preliminary data analysis\n",
        "\n",
        "First, we will initialize the environment:"
      ]
    },
    {
      "cell_type": "code",
      "execution_count": 1,
      "metadata": {
        "_uuid": "85426734e890fcf72416f29a953da115c1171080",
        "id": "z3vxHhSy0D3h"
      },
      "outputs": [],
      "source": [
        "# Import all required modules\n",
        "import pandas as pd\n",
        "import numpy as np\n",
        "\n",
        "# Disable warnings\n",
        "import warnings\n",
        "warnings.filterwarnings(\"ignore\")\n",
        "\n",
        "# Import plotting modules\n",
        "import seaborn as sns\n",
        "sns.set()\n",
        "import matplotlib\n",
        "import matplotlib.pyplot as plt\n",
        "import matplotlib.ticker\n",
        "%matplotlib inline"
      ]
    },
    {
      "cell_type": "markdown",
      "metadata": {
        "_uuid": "cbcf821e4bea8a7f7fb1ee4a9bf285b6c4b588ee",
        "id": "Q0qBG1Gg0D3k"
      },
      "source": [
        "You will use the `seaborn` library for visual analysis, so let's set that up too:"
      ]
    },
    {
      "cell_type": "code",
      "execution_count": 2,
      "metadata": {
        "_uuid": "b33601a0cadc2fb2d92f211c31bf99a502f71d48",
        "id": "ADU8qoaB0D3l"
      },
      "outputs": [],
      "source": [
        "# Tune the visual settings for figures in `seaborn`\n",
        "sns.set_context(\n",
        "    \"notebook\", \n",
        "    font_scale=1.5,       \n",
        "    rc={ \n",
        "        \"figure.figsize\": (11, 8), \n",
        "        \"axes.titlesize\": 18 \n",
        "    }\n",
        ")\n",
        "\n",
        "from matplotlib import rcParams\n",
        "rcParams['figure.figsize'] = 11, 8"
      ]
    },
    {
      "cell_type": "markdown",
      "metadata": {
        "_uuid": "89381351e4b95530b355e0e55bc4536c0a813d10",
        "id": "GSp0s_p40D3n"
      },
      "source": [
        "To make it simple, we will work only with the training part of the dataset:"
      ]
    },
    {
      "cell_type": "code",
      "source": [
        "#чтение с гугл диска\n",
        "from google.colab import drive\n",
        "drive.mount('/content/drive')"
      ],
      "metadata": {
        "colab": {
          "base_uri": "https://localhost:8080/"
        },
        "id": "oNxF3fKf0TBx",
        "outputId": "bb3cbb18-d9d7-4918-834b-b5b352a48d91"
      },
      "execution_count": 6,
      "outputs": [
        {
          "output_type": "stream",
          "name": "stdout",
          "text": [
            "Drive already mounted at /content/drive; to attempt to forcibly remount, call drive.mount(\"/content/drive\", force_remount=True).\n"
          ]
        }
      ]
    },
    {
      "cell_type": "code",
      "execution_count": 7,
      "metadata": {
        "_uuid": "2bd0005e660693a061577ca5244b48ccebf36719",
        "colab": {
          "base_uri": "https://localhost:8080/",
          "height": 224
        },
        "id": "hx-y2Gq10D3o",
        "outputId": "b183339f-a0be-4c24-f1ba-3410db983a44"
      },
      "outputs": [
        {
          "output_type": "stream",
          "name": "stdout",
          "text": [
            "Dataset size:  (70000, 13)\n"
          ]
        },
        {
          "output_type": "execute_result",
          "data": {
            "text/html": [
              "\n",
              "  <div id=\"df-7310833e-c2ab-4167-8c51-8680c0a0d2f0\">\n",
              "    <div class=\"colab-df-container\">\n",
              "      <div>\n",
              "<style scoped>\n",
              "    .dataframe tbody tr th:only-of-type {\n",
              "        vertical-align: middle;\n",
              "    }\n",
              "\n",
              "    .dataframe tbody tr th {\n",
              "        vertical-align: top;\n",
              "    }\n",
              "\n",
              "    .dataframe thead th {\n",
              "        text-align: right;\n",
              "    }\n",
              "</style>\n",
              "<table border=\"1\" class=\"dataframe\">\n",
              "  <thead>\n",
              "    <tr style=\"text-align: right;\">\n",
              "      <th></th>\n",
              "      <th>id</th>\n",
              "      <th>age</th>\n",
              "      <th>gender</th>\n",
              "      <th>height</th>\n",
              "      <th>weight</th>\n",
              "      <th>ap_hi</th>\n",
              "      <th>ap_lo</th>\n",
              "      <th>cholesterol</th>\n",
              "      <th>gluc</th>\n",
              "      <th>smoke</th>\n",
              "      <th>alco</th>\n",
              "      <th>active</th>\n",
              "      <th>cardio</th>\n",
              "    </tr>\n",
              "  </thead>\n",
              "  <tbody>\n",
              "    <tr>\n",
              "      <th>0</th>\n",
              "      <td>0</td>\n",
              "      <td>18393</td>\n",
              "      <td>2</td>\n",
              "      <td>168</td>\n",
              "      <td>62.0</td>\n",
              "      <td>110</td>\n",
              "      <td>80</td>\n",
              "      <td>1</td>\n",
              "      <td>1</td>\n",
              "      <td>0</td>\n",
              "      <td>0</td>\n",
              "      <td>1</td>\n",
              "      <td>0</td>\n",
              "    </tr>\n",
              "    <tr>\n",
              "      <th>1</th>\n",
              "      <td>1</td>\n",
              "      <td>20228</td>\n",
              "      <td>1</td>\n",
              "      <td>156</td>\n",
              "      <td>85.0</td>\n",
              "      <td>140</td>\n",
              "      <td>90</td>\n",
              "      <td>3</td>\n",
              "      <td>1</td>\n",
              "      <td>0</td>\n",
              "      <td>0</td>\n",
              "      <td>1</td>\n",
              "      <td>1</td>\n",
              "    </tr>\n",
              "    <tr>\n",
              "      <th>2</th>\n",
              "      <td>2</td>\n",
              "      <td>18857</td>\n",
              "      <td>1</td>\n",
              "      <td>165</td>\n",
              "      <td>64.0</td>\n",
              "      <td>130</td>\n",
              "      <td>70</td>\n",
              "      <td>3</td>\n",
              "      <td>1</td>\n",
              "      <td>0</td>\n",
              "      <td>0</td>\n",
              "      <td>0</td>\n",
              "      <td>1</td>\n",
              "    </tr>\n",
              "    <tr>\n",
              "      <th>3</th>\n",
              "      <td>3</td>\n",
              "      <td>17623</td>\n",
              "      <td>2</td>\n",
              "      <td>169</td>\n",
              "      <td>82.0</td>\n",
              "      <td>150</td>\n",
              "      <td>100</td>\n",
              "      <td>1</td>\n",
              "      <td>1</td>\n",
              "      <td>0</td>\n",
              "      <td>0</td>\n",
              "      <td>1</td>\n",
              "      <td>1</td>\n",
              "    </tr>\n",
              "    <tr>\n",
              "      <th>4</th>\n",
              "      <td>4</td>\n",
              "      <td>17474</td>\n",
              "      <td>1</td>\n",
              "      <td>156</td>\n",
              "      <td>56.0</td>\n",
              "      <td>100</td>\n",
              "      <td>60</td>\n",
              "      <td>1</td>\n",
              "      <td>1</td>\n",
              "      <td>0</td>\n",
              "      <td>0</td>\n",
              "      <td>0</td>\n",
              "      <td>0</td>\n",
              "    </tr>\n",
              "  </tbody>\n",
              "</table>\n",
              "</div>\n",
              "      <button class=\"colab-df-convert\" onclick=\"convertToInteractive('df-7310833e-c2ab-4167-8c51-8680c0a0d2f0')\"\n",
              "              title=\"Convert this dataframe to an interactive table.\"\n",
              "              style=\"display:none;\">\n",
              "        \n",
              "  <svg xmlns=\"http://www.w3.org/2000/svg\" height=\"24px\"viewBox=\"0 0 24 24\"\n",
              "       width=\"24px\">\n",
              "    <path d=\"M0 0h24v24H0V0z\" fill=\"none\"/>\n",
              "    <path d=\"M18.56 5.44l.94 2.06.94-2.06 2.06-.94-2.06-.94-.94-2.06-.94 2.06-2.06.94zm-11 1L8.5 8.5l.94-2.06 2.06-.94-2.06-.94L8.5 2.5l-.94 2.06-2.06.94zm10 10l.94 2.06.94-2.06 2.06-.94-2.06-.94-.94-2.06-.94 2.06-2.06.94z\"/><path d=\"M17.41 7.96l-1.37-1.37c-.4-.4-.92-.59-1.43-.59-.52 0-1.04.2-1.43.59L10.3 9.45l-7.72 7.72c-.78.78-.78 2.05 0 2.83L4 21.41c.39.39.9.59 1.41.59.51 0 1.02-.2 1.41-.59l7.78-7.78 2.81-2.81c.8-.78.8-2.07 0-2.86zM5.41 20L4 18.59l7.72-7.72 1.47 1.35L5.41 20z\"/>\n",
              "  </svg>\n",
              "      </button>\n",
              "      \n",
              "  <style>\n",
              "    .colab-df-container {\n",
              "      display:flex;\n",
              "      flex-wrap:wrap;\n",
              "      gap: 12px;\n",
              "    }\n",
              "\n",
              "    .colab-df-convert {\n",
              "      background-color: #E8F0FE;\n",
              "      border: none;\n",
              "      border-radius: 50%;\n",
              "      cursor: pointer;\n",
              "      display: none;\n",
              "      fill: #1967D2;\n",
              "      height: 32px;\n",
              "      padding: 0 0 0 0;\n",
              "      width: 32px;\n",
              "    }\n",
              "\n",
              "    .colab-df-convert:hover {\n",
              "      background-color: #E2EBFA;\n",
              "      box-shadow: 0px 1px 2px rgba(60, 64, 67, 0.3), 0px 1px 3px 1px rgba(60, 64, 67, 0.15);\n",
              "      fill: #174EA6;\n",
              "    }\n",
              "\n",
              "    [theme=dark] .colab-df-convert {\n",
              "      background-color: #3B4455;\n",
              "      fill: #D2E3FC;\n",
              "    }\n",
              "\n",
              "    [theme=dark] .colab-df-convert:hover {\n",
              "      background-color: #434B5C;\n",
              "      box-shadow: 0px 1px 3px 1px rgba(0, 0, 0, 0.15);\n",
              "      filter: drop-shadow(0px 1px 2px rgba(0, 0, 0, 0.3));\n",
              "      fill: #FFFFFF;\n",
              "    }\n",
              "  </style>\n",
              "\n",
              "      <script>\n",
              "        const buttonEl =\n",
              "          document.querySelector('#df-7310833e-c2ab-4167-8c51-8680c0a0d2f0 button.colab-df-convert');\n",
              "        buttonEl.style.display =\n",
              "          google.colab.kernel.accessAllowed ? 'block' : 'none';\n",
              "\n",
              "        async function convertToInteractive(key) {\n",
              "          const element = document.querySelector('#df-7310833e-c2ab-4167-8c51-8680c0a0d2f0');\n",
              "          const dataTable =\n",
              "            await google.colab.kernel.invokeFunction('convertToInteractive',\n",
              "                                                     [key], {});\n",
              "          if (!dataTable) return;\n",
              "\n",
              "          const docLinkHtml = 'Like what you see? Visit the ' +\n",
              "            '<a target=\"_blank\" href=https://colab.research.google.com/notebooks/data_table.ipynb>data table notebook</a>'\n",
              "            + ' to learn more about interactive tables.';\n",
              "          element.innerHTML = '';\n",
              "          dataTable['output_type'] = 'display_data';\n",
              "          await google.colab.output.renderOutput(dataTable, element);\n",
              "          const docLink = document.createElement('div');\n",
              "          docLink.innerHTML = docLinkHtml;\n",
              "          element.appendChild(docLink);\n",
              "        }\n",
              "      </script>\n",
              "    </div>\n",
              "  </div>\n",
              "  "
            ],
            "text/plain": [
              "   id    age  gender  height  weight  ...  gluc  smoke  alco  active  cardio\n",
              "0   0  18393       2     168    62.0  ...     1      0     0       1       0\n",
              "1   1  20228       1     156    85.0  ...     1      0     0       1       1\n",
              "2   2  18857       1     165    64.0  ...     1      0     0       0       1\n",
              "3   3  17623       2     169    82.0  ...     1      0     0       1       1\n",
              "4   4  17474       1     156    56.0  ...     1      0     0       0       0\n",
              "\n",
              "[5 rows x 13 columns]"
            ]
          },
          "metadata": {},
          "execution_count": 7
        }
      ],
      "source": [
        "df = pd.read_csv(\"/content/drive/MyDrive/ML/mlbootcamp5_train.csv\")\n",
        "print('Dataset size: ', df.shape)\n",
        "df.head()"
      ]
    },
    {
      "cell_type": "markdown",
      "metadata": {
        "_uuid": "636bf459023fbc1d1f1b73863c5246397dc26e6d",
        "id": "Cm-L2wVk0D3q"
      },
      "source": [
        "It would be instructive to peek into the values of our variables.\n",
        " \n",
        "Let's convert the data into *long* format and depict the value counts of the categorical features using [`factorplot()`](https://seaborn.pydata.org/generated/seaborn.factorplot.html)."
      ]
    },
    {
      "cell_type": "code",
      "execution_count": 8,
      "metadata": {
        "_uuid": "334ad6a83e7bb58f2c65ec512bfc401a0948c17a",
        "colab": {
          "base_uri": "https://localhost:8080/",
          "height": 856
        },
        "id": "64a-irUt0D3r",
        "outputId": "0dab8122-c21a-41de-d9c0-a21528c01abd"
      },
      "outputs": [
        {
          "output_type": "display_data",
          "data": {
            "image/png": "[encoded data removed]",
            "text/plain": [
              "<Figure size 933.9x864 with 1 Axes>"
            ]
          },
          "metadata": {
            "needs_background": "light"
          }
        }
      ],
      "source": [
        "df_uniques = pd.melt(frame=df, value_vars=['gender','cholesterol', \n",
        "                                           'gluc', 'smoke', 'alco', \n",
        "                                           'active', 'cardio'])\n",
        "df_uniques = pd.DataFrame(df_uniques.groupby(['variable', \n",
        "                                              'value'])['value'].count()) \\\n",
        "    .sort_index(level=[0, 1]) \\\n",
        "    .rename(columns={'value': 'count'}) \\\n",
        "    .reset_index()\n",
        "\n",
        "sns.factorplot(x='variable', y='count', hue='value', \n",
        "               data=df_uniques, kind='bar', size=12);"
      ]
    },
    {
      "cell_type": "markdown",
      "metadata": {
        "_uuid": "cb94ec9ddf78c607cdec5536581b8ec4004ac16b",
        "collapsed": true,
        "id": "ZZJWbyYx0D3s"
      },
      "source": [
        "We can see that the target classes are balanced. That's great!\n",
        "\n",
        "Let's split the dataset by target values. Can you already spot the most significant feature by just looking at the plot?"
      ]
    },
    {
      "cell_type": "code",
      "execution_count": 9,
      "metadata": {
        "_uuid": "a712d76f8c11588a9aebd4be6a00f01c53a8d80a",
        "colab": {
          "base_uri": "https://localhost:8080/",
          "height": 482
        },
        "id": "WaqmZYdk0D3t",
        "outputId": "e1b42329-78e5-483d-b2fd-0d9900c7fa93"
      },
      "outputs": [
        {
          "output_type": "display_data",
          "data": {
            "image/png": "[encoded data removed]",
            "text/plain": [
              "<Figure size 1365.9x648 with 2 Axes>"
            ]
          },
          "metadata": {
            "needs_background": "light"
          }
        }
      ],
      "source": [
        "df_uniques = pd.melt(frame=df, value_vars=['gender','cholesterol', \n",
        "                                           'gluc', 'smoke', 'alco', \n",
        "                                           'active'], \n",
        "                     id_vars=['cardio'])\n",
        "df_uniques = pd.DataFrame(df_uniques.groupby(['variable', 'value', \n",
        "                                              'cardio'])['value'].count()) \\\n",
        "    .sort_index(level=[0, 1]) \\\n",
        "    .rename(columns={'value': 'count'}) \\\n",
        "    .reset_index()\n",
        "\n",
        "sns.factorplot(x='variable', y='count', hue='value', \n",
        "               col='cardio', data=df_uniques, kind='bar', size=9);"
      ]
    },
    {
      "cell_type": "markdown",
      "metadata": {
        "_uuid": "4f4fdb7b979c6594b3060a0b80473fabbdf6acd0",
        "id": "kf-v6i820D3u"
      },
      "source": [
        "You can see that the distribution of cholesterol and glucose levels great differs by the value of the target variable. Is this a coincidence?\n",
        "\n",
        "Now, let's calculate some statistics for the feature unique values:"
      ]
    },
    {
      "cell_type": "code",
      "execution_count": 10,
      "metadata": {
        "_uuid": "e9cbba719f93f6b544567638be7332b7385fc715",
        "colab": {
          "base_uri": "https://localhost:8080/"
        },
        "id": "oaxGJQ820D3v",
        "outputId": "eb9c6bb4-85e6-43e2-8214-fd538d3c45f2"
      },
      "outputs": [
        {
          "output_type": "stream",
          "name": "stdout",
          "text": [
            "id\n",
            "70000\n",
            "----------\n",
            "age\n",
            "8076\n",
            "----------\n",
            "gender\n",
            "2 [(1, 45530), (2, 24470)]\n",
            "----------\n",
            "height\n",
            "109\n",
            "----------\n",
            "weight\n",
            "287\n",
            "----------\n",
            "ap_hi\n",
            "153\n",
            "----------\n",
            "ap_lo\n",
            "157\n",
            "----------\n",
            "cholesterol\n",
            "3 [(1, 52385), (2, 9549), (3, 8066)]\n",
            "----------\n",
            "gluc\n",
            "3 [(1, 59479), (2, 5190), (3, 5331)]\n",
            "----------\n",
            "smoke\n",
            "2 [(0, 63831), (1, 6169)]\n",
            "----------\n",
            "alco\n",
            "2 [(0, 66236), (1, 3764)]\n",
            "----------\n",
            "active\n",
            "2 [(0, 13739), (1, 56261)]\n",
            "----------\n",
            "cardio\n",
            "2 [(0, 35021), (1, 34979)]\n",
            "----------\n"
          ]
        }
      ],
      "source": [
        "for c in df.columns:\n",
        "    n = df[c].nunique()\n",
        "    print(c)\n",
        "    if n <= 3:\n",
        "        print(n, sorted(df[c].value_counts().to_dict().items()))\n",
        "    else:\n",
        "        print(n)\n",
        "    print(10 * '-')"
      ]
    },
    {
      "cell_type": "markdown",
      "metadata": {
        "_uuid": "53507160b237077bf8b19fb987b910669c04ba8b",
        "id": "PfwRKkh80D3w"
      },
      "source": [
        "In the end, we have:\n",
        "- 5 numerical features (excluding *id*);\n",
        "- 7 categorical features;\n",
        "- 70000 records in total."
      ]
    },
    {
      "cell_type": "markdown",
      "metadata": {
        "_uuid": "5f9dc83567c83c1ab2eeb4b855d3f8460c1a735e",
        "id": "zGCtT8F90D3w"
      },
      "source": [
        "## 1.1. Basic observations"
      ]
    },
    {
      "cell_type": "markdown",
      "metadata": {
        "_uuid": "129e6509399146154e8c7e293a2fd11f5d267fa4",
        "id": "7F14EISj0D3x"
      },
      "source": [
        "**Question 1.1. (1 point). How many men and women are present in this dataset? Values of the `gender` feature were not given (whether \"1\" stands for women or for men) – figure this out by looking analyzing height, making the assumption that men are taller on average. **\n",
        "1. 45530 women and 24470 men\n",
        "2. 45530 men and 24470 women\n",
        "3. 45470 women and 24530 men\n",
        "4. 45470 men and 24530 women"
      ]
    },
    {
      "cell_type": "code",
      "source": [
        "df1 = (df[df['gender'] == 2])\n",
        "df1[\"height\"].mean()"
      ],
      "metadata": {
        "colab": {
          "base_uri": "https://localhost:8080/"
        },
        "id": "Fei_H0ea00lD",
        "outputId": "3c581b81-0aad-4af6-f493-05ad77cb97ad"
      },
      "execution_count": 11,
      "outputs": [
        {
          "output_type": "execute_result",
          "data": {
            "text/plain": [
              "169.94789538210054"
            ]
          },
          "metadata": {},
          "execution_count": 11
        }
      ]
    },
    {
      "cell_type": "code",
      "source": [
        "len(df1)"
      ],
      "metadata": {
        "colab": {
          "base_uri": "https://localhost:8080/"
        },
        "id": "zxw6TbkE03Da",
        "outputId": "807badff-5323-4659-f1c9-a7a63fb9ee94"
      },
      "execution_count": 12,
      "outputs": [
        {
          "output_type": "execute_result",
          "data": {
            "text/plain": [
              "24470"
            ]
          },
          "metadata": {},
          "execution_count": 12
        }
      ]
    },
    {
      "cell_type": "code",
      "source": [
        "df1 = (df[df['gender'] == 1])\n",
        "df1[\"height\"].mean()"
      ],
      "metadata": {
        "colab": {
          "base_uri": "https://localhost:8080/"
        },
        "id": "i84yENuQ045u",
        "outputId": "eb96f7f6-9676-402f-ccca-f000f7cc7b67"
      },
      "execution_count": 13,
      "outputs": [
        {
          "output_type": "execute_result",
          "data": {
            "text/plain": [
              "161.35561168460356"
            ]
          },
          "metadata": {},
          "execution_count": 13
        }
      ]
    },
    {
      "cell_type": "code",
      "source": [
        "len(df1)"
      ],
      "metadata": {
        "colab": {
          "base_uri": "https://localhost:8080/"
        },
        "id": "HGi137S708SO",
        "outputId": "b64b93dd-05a6-41d3-cc84-c1ad9527e313"
      },
      "execution_count": 14,
      "outputs": [
        {
          "output_type": "execute_result",
          "data": {
            "text/plain": [
              "45530"
            ]
          },
          "metadata": {},
          "execution_count": 14
        }
      ]
    },
    {
      "cell_type": "markdown",
      "source": [
        "Ответ: 3"
      ],
      "metadata": {
        "id": "redaiVp21Qmi"
      }
    },
    {
      "cell_type": "markdown",
      "metadata": {
        "_uuid": "d6b36cf91cd63fcce92c4177475820bd6b94ec89",
        "id": "xIuA-CAV0D3x"
      },
      "source": [
        "**Question 1.2. (1 point). Which gender more often reports consuming alcohol - men or women?**\n",
        "1. women\n",
        "2. men"
      ]
    },
    {
      "cell_type": "code",
      "source": [
        "df2 = (df[df['gender'] == 1])\n",
        "df2 = (df2[df2['alco'] == 1])\n",
        "\n",
        "len(df2)"
      ],
      "metadata": {
        "colab": {
          "base_uri": "https://localhost:8080/"
        },
        "id": "93nBVxTq1CIa",
        "outputId": "c4a4e660-0ae6-4447-cc92-29d082945926"
      },
      "execution_count": 15,
      "outputs": [
        {
          "output_type": "execute_result",
          "data": {
            "text/plain": [
              "1161"
            ]
          },
          "metadata": {},
          "execution_count": 15
        }
      ]
    },
    {
      "cell_type": "code",
      "source": [
        "df2 = (df[df['gender'] == 2])\n",
        "df2 = (df2[df2['alco'] == 1])\n",
        "\n",
        "len(df2)"
      ],
      "metadata": {
        "colab": {
          "base_uri": "https://localhost:8080/"
        },
        "id": "ay1O_Xwk1DOu",
        "outputId": "f66ac8dc-7057-4ee4-9700-bdfa08096b59"
      },
      "execution_count": 16,
      "outputs": [
        {
          "output_type": "execute_result",
          "data": {
            "text/plain": [
              "2603"
            ]
          },
          "metadata": {},
          "execution_count": 16
        }
      ]
    },
    {
      "cell_type": "code",
      "source": [
        "Ответ: 2"
      ],
      "metadata": {
        "id": "CfjaGixh1iM6"
      },
      "execution_count": null,
      "outputs": []
    },
    {
      "cell_type": "markdown",
      "metadata": {
        "_uuid": "8b98389e26edd01374d6217d8dd1e2d5ffff9d1c",
        "id": "9P7EfpE10D3y"
      },
      "source": [
        "**Question 1.3. (1 point). What is the difference between the percentages of smokers among men and women (rounded)?**\n",
        "1. 4\n",
        "2. 16\n",
        "3. 20\n",
        "4. 24"
      ]
    },
    {
      "cell_type": "code",
      "source": [
        "Woman = (df[df['gender'] == 1])\n",
        "\n",
        "Woman['smoke'].sum() / len(Woman) * 100"
      ],
      "metadata": {
        "colab": {
          "base_uri": "https://localhost:8080/"
        },
        "id": "vo5g3LmV1mcL",
        "outputId": "3fdaf7c8-0166-4dbf-b006-7db12d401b1c"
      },
      "execution_count": 31,
      "outputs": [
        {
          "output_type": "execute_result",
          "data": {
            "text/plain": [
              "1.7856358444981333"
            ]
          },
          "metadata": {},
          "execution_count": 31
        }
      ]
    },
    {
      "cell_type": "code",
      "source": [
        "Men = (df[df['gender'] == 2])\n",
        "\n",
        "Men['smoke'].sum() / len(Men) * 100"
      ],
      "metadata": {
        "colab": {
          "base_uri": "https://localhost:8080/"
        },
        "id": "LJg2uY3g1tvJ",
        "outputId": "d24eaf38-e7be-4a14-8e73-433e91a26c19"
      },
      "execution_count": 32,
      "outputs": [
        {
          "output_type": "execute_result",
          "data": {
            "text/plain": [
              "21.88802615447487"
            ]
          },
          "metadata": {},
          "execution_count": 32
        }
      ]
    },
    {
      "cell_type": "code",
      "source": [
        "21.88802615447487 - 1.7856358444981333"
      ],
      "metadata": {
        "colab": {
          "base_uri": "https://localhost:8080/"
        },
        "id": "TAwKp_DR1ySi",
        "outputId": "fd476069-d50f-4445-b29a-11674de122e9"
      },
      "execution_count": 22,
      "outputs": [
        {
          "output_type": "execute_result",
          "data": {
            "text/plain": [
              "20.102390309976734"
            ]
          },
          "metadata": {},
          "execution_count": 22
        }
      ]
    },
    {
      "cell_type": "markdown",
      "source": [
        "Ответ: 3"
      ],
      "metadata": {
        "id": "JdJ17NIi14J4"
      }
    },
    {
      "cell_type": "markdown",
      "metadata": {
        "_uuid": "c92554c5fe98a07b298cec98eaa2622a3bedbeeb",
        "id": "058g30-y0D3z"
      },
      "source": [
        "**Question 1.4. (1 point). What is the difference between median values of age for smokers and non-smokers (in months, rounded)? You'll need to figure out the units of feature `age` in this dataset.**\n",
        "\n",
        "1. 5\n",
        "2. 10\n",
        "3. 15\n",
        "4. 20"
      ]
    },
    {
      "cell_type": "code",
      "source": [
        "Smoke = (df[df['smoke'] == 1])\n",
        "Smoke['age'].median() / 29.3"
      ],
      "metadata": {
        "colab": {
          "base_uri": "https://localhost:8080/"
        },
        "id": "ws-mwsfK17iN",
        "outputId": "1a68b0bf-3999-4597-d393-4e7ed8b1b710"
      },
      "execution_count": 26,
      "outputs": [
        {
          "output_type": "execute_result",
          "data": {
            "text/plain": [
              "652.7303754266211"
            ]
          },
          "metadata": {},
          "execution_count": 26
        }
      ]
    },
    {
      "cell_type": "code",
      "source": [
        "Smoke1 = (df[df['smoke'] == 0])\n",
        "Smoke1['age'].median() / 29.3"
      ],
      "metadata": {
        "colab": {
          "base_uri": "https://localhost:8080/"
        },
        "id": "Km6x2l512BEt",
        "outputId": "6036e15a-db91-4f0b-b17a-b4db2056efba"
      },
      "execution_count": 27,
      "outputs": [
        {
          "output_type": "execute_result",
          "data": {
            "text/plain": [
              "673.1058020477816"
            ]
          },
          "metadata": {},
          "execution_count": 27
        }
      ]
    },
    {
      "cell_type": "code",
      "source": [
        "673.1058020477816 - 652.7303754266211"
      ],
      "metadata": {
        "colab": {
          "base_uri": "https://localhost:8080/"
        },
        "id": "stWxFTjc2F4t",
        "outputId": "9b170e1c-5a61-49fa-c98b-4825e30d45bf"
      },
      "execution_count": 28,
      "outputs": [
        {
          "output_type": "execute_result",
          "data": {
            "text/plain": [
              "20.3754266211605"
            ]
          },
          "metadata": {},
          "execution_count": 28
        }
      ]
    },
    {
      "cell_type": "markdown",
      "source": [
        "Ответ: 4"
      ],
      "metadata": {
        "id": "dZ8t8N6u2xWm"
      }
    },
    {
      "cell_type": "markdown",
      "metadata": {
        "_uuid": "ac5d59876eb97782eab5f038aa8b2335e014d9bf",
        "id": "pCktCYfl0D3z"
      },
      "source": [
        "## 1.2. Risk maps\n",
        "### Task:"
      ]
    },
    {
      "cell_type": "markdown",
      "metadata": {
        "_uuid": "9efc6fd8ff26ea2ddf95e7e0b70ef3b802f83af5",
        "id": "ZbcHH6520D30"
      },
      "source": [
        "On the website for the European Society of Cardiology, a [SCORE scale](https://www.escardio.org/Education/Practice-Tools/CVD-prevention-toolbox/SCORE-Risk-Charts) is provided. It is used for calculating the risk of death from a cardiovascular decease in the next 10 years. Here it is:\n",
        "<img src=https://habrastorage.org/webt/ik/gx/hr/ikgxhr3w1vzqihgitgrbdorfb14.png width=30%>\n",
        "\n",
        "Let's take a look at the upper-right rectangle, which shows a subset of smoking men aged from 60 to 65. (It's not obvious, but the values in the figure represent the upper bound).\n",
        "\n",
        "We see the value 9 in the lower-left corner of the rectangle and 47 in the upper-right. This means that, for people in this gender-age group whose systolic pressure is less than 120, the risk of a CVD is estimated to be 5 times lower than for those with the pressure in the interval [160,180).\n",
        "\n",
        "Let's calculate that same ratio using our data.\n",
        "\n",
        "Clarifications:\n",
        "- Calculate ``age_years`` feature – round age to the nearest number of years. For this task, select only the people of age 60 to 64, inclusive.\n",
        "- Cholesterol level categories differ between the figure and our dataset. The conversion for the ``cholesterol`` feature is as follows: 4 mmol/l $\\rightarrow$ 1, 5-7 mmol/l $\\rightarrow$ 2, 8 mmol/l $\\rightarrow$ 3."
      ]
    },
    {
      "cell_type": "code",
      "execution_count": 33,
      "metadata": {
        "_uuid": "8caffb39e65c95e4cfebfe448bbe224af4d0766c",
        "colab": {
          "base_uri": "https://localhost:8080/",
          "height": 424
        },
        "id": "vJNSu8VW0D31",
        "outputId": "fa9864fb-660f-4acd-80fd-1ecff5743cb6"
      },
      "outputs": [
        {
          "output_type": "execute_result",
          "data": {
            "text/html": [
              "\n",
              "  <div id=\"df-24e1e952-1529-4b7f-8ce8-4bd7f97876e1\">\n",
              "    <div class=\"colab-df-container\">\n",
              "      <div>\n",
              "<style scoped>\n",
              "    .dataframe tbody tr th:only-of-type {\n",
              "        vertical-align: middle;\n",
              "    }\n",
              "\n",
              "    .dataframe tbody tr th {\n",
              "        vertical-align: top;\n",
              "    }\n",
              "\n",
              "    .dataframe thead th {\n",
              "        text-align: right;\n",
              "    }\n",
              "</style>\n",
              "<table border=\"1\" class=\"dataframe\">\n",
              "  <thead>\n",
              "    <tr style=\"text-align: right;\">\n",
              "      <th></th>\n",
              "      <th>id</th>\n",
              "      <th>age</th>\n",
              "      <th>gender</th>\n",
              "      <th>height</th>\n",
              "      <th>weight</th>\n",
              "      <th>ap_hi</th>\n",
              "      <th>ap_lo</th>\n",
              "      <th>cholesterol</th>\n",
              "      <th>gluc</th>\n",
              "      <th>smoke</th>\n",
              "      <th>alco</th>\n",
              "      <th>active</th>\n",
              "      <th>cardio</th>\n",
              "      <th>years</th>\n",
              "    </tr>\n",
              "  </thead>\n",
              "  <tbody>\n",
              "    <tr>\n",
              "      <th>38</th>\n",
              "      <td>52</td>\n",
              "      <td>23388</td>\n",
              "      <td>2</td>\n",
              "      <td>162</td>\n",
              "      <td>72.0</td>\n",
              "      <td>130</td>\n",
              "      <td>80</td>\n",
              "      <td>1</td>\n",
              "      <td>1</td>\n",
              "      <td>1</td>\n",
              "      <td>0</td>\n",
              "      <td>1</td>\n",
              "      <td>1</td>\n",
              "      <td>64.0</td>\n",
              "    </tr>\n",
              "    <tr>\n",
              "      <th>67</th>\n",
              "      <td>90</td>\n",
              "      <td>22099</td>\n",
              "      <td>2</td>\n",
              "      <td>171</td>\n",
              "      <td>97.0</td>\n",
              "      <td>150</td>\n",
              "      <td>100</td>\n",
              "      <td>3</td>\n",
              "      <td>1</td>\n",
              "      <td>1</td>\n",
              "      <td>0</td>\n",
              "      <td>1</td>\n",
              "      <td>1</td>\n",
              "      <td>61.0</td>\n",
              "    </tr>\n",
              "    <tr>\n",
              "      <th>182</th>\n",
              "      <td>248</td>\n",
              "      <td>22671</td>\n",
              "      <td>2</td>\n",
              "      <td>174</td>\n",
              "      <td>74.0</td>\n",
              "      <td>130</td>\n",
              "      <td>80</td>\n",
              "      <td>3</td>\n",
              "      <td>1</td>\n",
              "      <td>1</td>\n",
              "      <td>0</td>\n",
              "      <td>1</td>\n",
              "      <td>1</td>\n",
              "      <td>62.0</td>\n",
              "    </tr>\n",
              "    <tr>\n",
              "      <th>230</th>\n",
              "      <td>318</td>\n",
              "      <td>23376</td>\n",
              "      <td>2</td>\n",
              "      <td>175</td>\n",
              "      <td>75.0</td>\n",
              "      <td>180</td>\n",
              "      <td>100</td>\n",
              "      <td>3</td>\n",
              "      <td>1</td>\n",
              "      <td>1</td>\n",
              "      <td>1</td>\n",
              "      <td>1</td>\n",
              "      <td>1</td>\n",
              "      <td>64.0</td>\n",
              "    </tr>\n",
              "    <tr>\n",
              "      <th>297</th>\n",
              "      <td>410</td>\n",
              "      <td>22415</td>\n",
              "      <td>2</td>\n",
              "      <td>173</td>\n",
              "      <td>70.0</td>\n",
              "      <td>130</td>\n",
              "      <td>70</td>\n",
              "      <td>2</td>\n",
              "      <td>1</td>\n",
              "      <td>1</td>\n",
              "      <td>1</td>\n",
              "      <td>1</td>\n",
              "      <td>0</td>\n",
              "      <td>61.0</td>\n",
              "    </tr>\n",
              "    <tr>\n",
              "      <th>...</th>\n",
              "      <td>...</td>\n",
              "      <td>...</td>\n",
              "      <td>...</td>\n",
              "      <td>...</td>\n",
              "      <td>...</td>\n",
              "      <td>...</td>\n",
              "      <td>...</td>\n",
              "      <td>...</td>\n",
              "      <td>...</td>\n",
              "      <td>...</td>\n",
              "      <td>...</td>\n",
              "      <td>...</td>\n",
              "      <td>...</td>\n",
              "      <td>...</td>\n",
              "    </tr>\n",
              "    <tr>\n",
              "      <th>69697</th>\n",
              "      <td>99551</td>\n",
              "      <td>23224</td>\n",
              "      <td>2</td>\n",
              "      <td>151</td>\n",
              "      <td>45.0</td>\n",
              "      <td>120</td>\n",
              "      <td>70</td>\n",
              "      <td>3</td>\n",
              "      <td>1</td>\n",
              "      <td>1</td>\n",
              "      <td>1</td>\n",
              "      <td>0</td>\n",
              "      <td>1</td>\n",
              "      <td>64.0</td>\n",
              "    </tr>\n",
              "    <tr>\n",
              "      <th>69699</th>\n",
              "      <td>99553</td>\n",
              "      <td>23183</td>\n",
              "      <td>2</td>\n",
              "      <td>178</td>\n",
              "      <td>113.0</td>\n",
              "      <td>130</td>\n",
              "      <td>90</td>\n",
              "      <td>2</td>\n",
              "      <td>2</td>\n",
              "      <td>1</td>\n",
              "      <td>0</td>\n",
              "      <td>1</td>\n",
              "      <td>1</td>\n",
              "      <td>64.0</td>\n",
              "    </tr>\n",
              "    <tr>\n",
              "      <th>69814</th>\n",
              "      <td>99711</td>\n",
              "      <td>22759</td>\n",
              "      <td>2</td>\n",
              "      <td>167</td>\n",
              "      <td>76.0</td>\n",
              "      <td>120</td>\n",
              "      <td>80</td>\n",
              "      <td>1</td>\n",
              "      <td>1</td>\n",
              "      <td>1</td>\n",
              "      <td>0</td>\n",
              "      <td>1</td>\n",
              "      <td>0</td>\n",
              "      <td>62.0</td>\n",
              "    </tr>\n",
              "    <tr>\n",
              "      <th>69857</th>\n",
              "      <td>99775</td>\n",
              "      <td>22637</td>\n",
              "      <td>2</td>\n",
              "      <td>177</td>\n",
              "      <td>63.0</td>\n",
              "      <td>150</td>\n",
              "      <td>70</td>\n",
              "      <td>1</td>\n",
              "      <td>1</td>\n",
              "      <td>1</td>\n",
              "      <td>0</td>\n",
              "      <td>1</td>\n",
              "      <td>1</td>\n",
              "      <td>62.0</td>\n",
              "    </tr>\n",
              "    <tr>\n",
              "      <th>69970</th>\n",
              "      <td>99958</td>\n",
              "      <td>22572</td>\n",
              "      <td>2</td>\n",
              "      <td>173</td>\n",
              "      <td>103.0</td>\n",
              "      <td>140</td>\n",
              "      <td>80</td>\n",
              "      <td>3</td>\n",
              "      <td>1</td>\n",
              "      <td>1</td>\n",
              "      <td>1</td>\n",
              "      <td>0</td>\n",
              "      <td>1</td>\n",
              "      <td>62.0</td>\n",
              "    </tr>\n",
              "  </tbody>\n",
              "</table>\n",
              "<p>668 rows × 14 columns</p>\n",
              "</div>\n",
              "      <button class=\"colab-df-convert\" onclick=\"convertToInteractive('df-24e1e952-1529-4b7f-8ce8-4bd7f97876e1')\"\n",
              "              title=\"Convert this dataframe to an interactive table.\"\n",
              "              style=\"display:none;\">\n",
              "        \n",
              "  <svg xmlns=\"http://www.w3.org/2000/svg\" height=\"24px\"viewBox=\"0 0 24 24\"\n",
              "       width=\"24px\">\n",
              "    <path d=\"M0 0h24v24H0V0z\" fill=\"none\"/>\n",
              "    <path d=\"M18.56 5.44l.94 2.06.94-2.06 2.06-.94-2.06-.94-.94-2.06-.94 2.06-2.06.94zm-11 1L8.5 8.5l.94-2.06 2.06-.94-2.06-.94L8.5 2.5l-.94 2.06-2.06.94zm10 10l.94 2.06.94-2.06 2.06-.94-2.06-.94-.94-2.06-.94 2.06-2.06.94z\"/><path d=\"M17.41 7.96l-1.37-1.37c-.4-.4-.92-.59-1.43-.59-.52 0-1.04.2-1.43.59L10.3 9.45l-7.72 7.72c-.78.78-.78 2.05 0 2.83L4 21.41c.39.39.9.59 1.41.59.51 0 1.02-.2 1.41-.59l7.78-7.78 2.81-2.81c.8-.78.8-2.07 0-2.86zM5.41 20L4 18.59l7.72-7.72 1.47 1.35L5.41 20z\"/>\n",
              "  </svg>\n",
              "      </button>\n",
              "      \n",
              "  <style>\n",
              "    .colab-df-container {\n",
              "      display:flex;\n",
              "      flex-wrap:wrap;\n",
              "      gap: 12px;\n",
              "    }\n",
              "\n",
              "    .colab-df-convert {\n",
              "      background-color: #E8F0FE;\n",
              "      border: none;\n",
              "      border-radius: 50%;\n",
              "      cursor: pointer;\n",
              "      display: none;\n",
              "      fill: #1967D2;\n",
              "      height: 32px;\n",
              "      padding: 0 0 0 0;\n",
              "      width: 32px;\n",
              "    }\n",
              "\n",
              "    .colab-df-convert:hover {\n",
              "      background-color: #E2EBFA;\n",
              "      box-shadow: 0px 1px 2px rgba(60, 64, 67, 0.3), 0px 1px 3px 1px rgba(60, 64, 67, 0.15);\n",
              "      fill: #174EA6;\n",
              "    }\n",
              "\n",
              "    [theme=dark] .colab-df-convert {\n",
              "      background-color: #3B4455;\n",
              "      fill: #D2E3FC;\n",
              "    }\n",
              "\n",
              "    [theme=dark] .colab-df-convert:hover {\n",
              "      background-color: #434B5C;\n",
              "      box-shadow: 0px 1px 3px 1px rgba(0, 0, 0, 0.15);\n",
              "      filter: drop-shadow(0px 1px 2px rgba(0, 0, 0, 0.3));\n",
              "      fill: #FFFFFF;\n",
              "    }\n",
              "  </style>\n",
              "\n",
              "      <script>\n",
              "        const buttonEl =\n",
              "          document.querySelector('#df-24e1e952-1529-4b7f-8ce8-4bd7f97876e1 button.colab-df-convert');\n",
              "        buttonEl.style.display =\n",
              "          google.colab.kernel.accessAllowed ? 'block' : 'none';\n",
              "\n",
              "        async function convertToInteractive(key) {\n",
              "          const element = document.querySelector('#df-24e1e952-1529-4b7f-8ce8-4bd7f97876e1');\n",
              "          const dataTable =\n",
              "            await google.colab.kernel.invokeFunction('convertToInteractive',\n",
              "                                                     [key], {});\n",
              "          if (!dataTable) return;\n",
              "\n",
              "          const docLinkHtml = 'Like what you see? Visit the ' +\n",
              "            '<a target=\"_blank\" href=https://colab.research.google.com/notebooks/data_table.ipynb>data table notebook</a>'\n",
              "            + ' to learn more about interactive tables.';\n",
              "          element.innerHTML = '';\n",
              "          dataTable['output_type'] = 'display_data';\n",
              "          await google.colab.output.renderOutput(dataTable, element);\n",
              "          const docLink = document.createElement('div');\n",
              "          docLink.innerHTML = docLinkHtml;\n",
              "          element.appendChild(docLink);\n",
              "        }\n",
              "      </script>\n",
              "    </div>\n",
              "  </div>\n",
              "  "
            ],
            "text/plain": [
              "          id    age  gender  height  weight  ...  smoke  alco  active  cardio  years\n",
              "38        52  23388       2     162    72.0  ...      1     0       1       1   64.0\n",
              "67        90  22099       2     171    97.0  ...      1     0       1       1   61.0\n",
              "182      248  22671       2     174    74.0  ...      1     0       1       1   62.0\n",
              "230      318  23376       2     175    75.0  ...      1     1       1       1   64.0\n",
              "297      410  22415       2     173    70.0  ...      1     1       1       0   61.0\n",
              "...      ...    ...     ...     ...     ...  ...    ...   ...     ...     ...    ...\n",
              "69697  99551  23224       2     151    45.0  ...      1     1       0       1   64.0\n",
              "69699  99553  23183       2     178   113.0  ...      1     0       1       1   64.0\n",
              "69814  99711  22759       2     167    76.0  ...      1     0       1       0   62.0\n",
              "69857  99775  22637       2     177    63.0  ...      1     0       1       1   62.0\n",
              "69970  99958  22572       2     173   103.0  ...      1     1       0       1   62.0\n",
              "\n",
              "[668 rows x 14 columns]"
            ]
          },
          "metadata": {},
          "execution_count": 33
        }
      ],
      "source": [
        "df['years'] = round(df['age'] / 365)\n",
        "\n",
        "df5 = (df[(df['years'] > 60) & (df['years'] <= 65) & (df['gender'] == 2) & (df['smoke'] == 1)])\n",
        "df5"
      ]
    },
    {
      "cell_type": "markdown",
      "metadata": {
        "_uuid": "e71f8859a7fb8f23a78ac84b861d41c8f1b9e11f",
        "id": "ojQqQnnh0D31"
      },
      "source": [
        "**Question 1.5. (2 points). Calculate the fraction of the people with CVD for the two segments described above. What is the ratio of these two fractions?**\n",
        "\n",
        "1. 1\n",
        "2. 2\n",
        "3. 3\n",
        "4. 4"
      ]
    },
    {
      "cell_type": "code",
      "source": [
        "df5[(df5['cholesterol'] == 1) & (df5['ap_hi'] < 120)]['cardio'].mean()"
      ],
      "metadata": {
        "colab": {
          "base_uri": "https://localhost:8080/"
        },
        "id": "0HUq4XYb3roK",
        "outputId": "e6132cdb-ce63-4ffc-b8e9-c7ac0a6a0664"
      },
      "execution_count": 38,
      "outputs": [
        {
          "output_type": "execute_result",
          "data": {
            "text/plain": [
              "0.2564102564102564"
            ]
          },
          "metadata": {},
          "execution_count": 38
        }
      ]
    },
    {
      "cell_type": "code",
      "source": [
        "df5[(df5['cholesterol'] == 3) & (df5['ap_hi'] >= 160) & (df5['ap_hi'] < 180)]['cardio'].mean()"
      ],
      "metadata": {
        "colab": {
          "base_uri": "https://localhost:8080/"
        },
        "id": "xiBQAUuX3uSU",
        "outputId": "016009cb-ab09-48d3-e12f-d3a7fed77a07"
      },
      "execution_count": 35,
      "outputs": [
        {
          "output_type": "execute_result",
          "data": {
            "text/plain": [
              "0.9090909090909091"
            ]
          },
          "metadata": {},
          "execution_count": 35
        }
      ]
    },
    {
      "cell_type": "code",
      "source": [
        "0.9333333333333333 / 0.2564102564102564"
      ],
      "metadata": {
        "colab": {
          "base_uri": "https://localhost:8080/"
        },
        "id": "8KYTxBJB3yaB",
        "outputId": "ded18067-941f-4f6e-e1ba-09c1766aeff9"
      },
      "execution_count": 37,
      "outputs": [
        {
          "output_type": "execute_result",
          "data": {
            "text/plain": [
              "3.6400000000000006"
            ]
          },
          "metadata": {},
          "execution_count": 37
        }
      ]
    },
    {
      "cell_type": "markdown",
      "source": [
        "Ответ: 3"
      ],
      "metadata": {
        "id": "AtPXW0Kf4Bq1"
      }
    },
    {
      "cell_type": "markdown",
      "metadata": {
        "_uuid": "54cef692e0af3745091c7177d63a2d6c36044474",
        "id": "bkmiNj0D0D32"
      },
      "source": [
        "## 1.3. Analyzing BMI\n",
        "### Task:"
      ]
    },
    {
      "cell_type": "markdown",
      "metadata": {
        "_uuid": "c52b4b1c20956e3cc420bb13e7bb12d80aa3ef1a",
        "id": "gktrbjT20D32"
      },
      "source": [
        "Create a new feature – BMI ([Body Mass Index](https://en.wikipedia.org/wiki/Body_mass_index)). To do this, divide weight in kilogramms by the square of the height in meters. Normal BMI values are said to be from 18.5 to 25. "
      ]
    },
    {
      "cell_type": "code",
      "execution_count": 39,
      "metadata": {
        "_uuid": "5b3134f2597650ae95d0196393b30797518f0498",
        "colab": {
          "base_uri": "https://localhost:8080/",
          "height": 424
        },
        "id": "k_MpBGxS0D32",
        "outputId": "c931524d-d89c-435e-9151-ac90a682e201"
      },
      "outputs": [
        {
          "output_type": "execute_result",
          "data": {
            "text/html": [
              "\n",
              "  <div id=\"df-90ebfcae-3204-4c83-9339-007c0b495a39\">\n",
              "    <div class=\"colab-df-container\">\n",
              "      <div>\n",
              "<style scoped>\n",
              "    .dataframe tbody tr th:only-of-type {\n",
              "        vertical-align: middle;\n",
              "    }\n",
              "\n",
              "    .dataframe tbody tr th {\n",
              "        vertical-align: top;\n",
              "    }\n",
              "\n",
              "    .dataframe thead th {\n",
              "        text-align: right;\n",
              "    }\n",
              "</style>\n",
              "<table border=\"1\" class=\"dataframe\">\n",
              "  <thead>\n",
              "    <tr style=\"text-align: right;\">\n",
              "      <th></th>\n",
              "      <th>id</th>\n",
              "      <th>age</th>\n",
              "      <th>gender</th>\n",
              "      <th>height</th>\n",
              "      <th>weight</th>\n",
              "      <th>ap_hi</th>\n",
              "      <th>ap_lo</th>\n",
              "      <th>cholesterol</th>\n",
              "      <th>gluc</th>\n",
              "      <th>smoke</th>\n",
              "      <th>alco</th>\n",
              "      <th>active</th>\n",
              "      <th>cardio</th>\n",
              "      <th>years</th>\n",
              "      <th>BMI</th>\n",
              "    </tr>\n",
              "  </thead>\n",
              "  <tbody>\n",
              "    <tr>\n",
              "      <th>0</th>\n",
              "      <td>0</td>\n",
              "      <td>18393</td>\n",
              "      <td>2</td>\n",
              "      <td>168</td>\n",
              "      <td>62.0</td>\n",
              "      <td>110</td>\n",
              "      <td>80</td>\n",
              "      <td>1</td>\n",
              "      <td>1</td>\n",
              "      <td>0</td>\n",
              "      <td>0</td>\n",
              "      <td>1</td>\n",
              "      <td>0</td>\n",
              "      <td>50.0</td>\n",
              "      <td>21.967120</td>\n",
              "    </tr>\n",
              "    <tr>\n",
              "      <th>1</th>\n",
              "      <td>1</td>\n",
              "      <td>20228</td>\n",
              "      <td>1</td>\n",
              "      <td>156</td>\n",
              "      <td>85.0</td>\n",
              "      <td>140</td>\n",
              "      <td>90</td>\n",
              "      <td>3</td>\n",
              "      <td>1</td>\n",
              "      <td>0</td>\n",
              "      <td>0</td>\n",
              "      <td>1</td>\n",
              "      <td>1</td>\n",
              "      <td>55.0</td>\n",
              "      <td>34.927679</td>\n",
              "    </tr>\n",
              "    <tr>\n",
              "      <th>2</th>\n",
              "      <td>2</td>\n",
              "      <td>18857</td>\n",
              "      <td>1</td>\n",
              "      <td>165</td>\n",
              "      <td>64.0</td>\n",
              "      <td>130</td>\n",
              "      <td>70</td>\n",
              "      <td>3</td>\n",
              "      <td>1</td>\n",
              "      <td>0</td>\n",
              "      <td>0</td>\n",
              "      <td>0</td>\n",
              "      <td>1</td>\n",
              "      <td>52.0</td>\n",
              "      <td>23.507805</td>\n",
              "    </tr>\n",
              "    <tr>\n",
              "      <th>3</th>\n",
              "      <td>3</td>\n",
              "      <td>17623</td>\n",
              "      <td>2</td>\n",
              "      <td>169</td>\n",
              "      <td>82.0</td>\n",
              "      <td>150</td>\n",
              "      <td>100</td>\n",
              "      <td>1</td>\n",
              "      <td>1</td>\n",
              "      <td>0</td>\n",
              "      <td>0</td>\n",
              "      <td>1</td>\n",
              "      <td>1</td>\n",
              "      <td>48.0</td>\n",
              "      <td>28.710479</td>\n",
              "    </tr>\n",
              "    <tr>\n",
              "      <th>4</th>\n",
              "      <td>4</td>\n",
              "      <td>17474</td>\n",
              "      <td>1</td>\n",
              "      <td>156</td>\n",
              "      <td>56.0</td>\n",
              "      <td>100</td>\n",
              "      <td>60</td>\n",
              "      <td>1</td>\n",
              "      <td>1</td>\n",
              "      <td>0</td>\n",
              "      <td>0</td>\n",
              "      <td>0</td>\n",
              "      <td>0</td>\n",
              "      <td>48.0</td>\n",
              "      <td>23.011177</td>\n",
              "    </tr>\n",
              "    <tr>\n",
              "      <th>...</th>\n",
              "      <td>...</td>\n",
              "      <td>...</td>\n",
              "      <td>...</td>\n",
              "      <td>...</td>\n",
              "      <td>...</td>\n",
              "      <td>...</td>\n",
              "      <td>...</td>\n",
              "      <td>...</td>\n",
              "      <td>...</td>\n",
              "      <td>...</td>\n",
              "      <td>...</td>\n",
              "      <td>...</td>\n",
              "      <td>...</td>\n",
              "      <td>...</td>\n",
              "      <td>...</td>\n",
              "    </tr>\n",
              "    <tr>\n",
              "      <th>69995</th>\n",
              "      <td>99993</td>\n",
              "      <td>19240</td>\n",
              "      <td>2</td>\n",
              "      <td>168</td>\n",
              "      <td>76.0</td>\n",
              "      <td>120</td>\n",
              "      <td>80</td>\n",
              "      <td>1</td>\n",
              "      <td>1</td>\n",
              "      <td>1</td>\n",
              "      <td>0</td>\n",
              "      <td>1</td>\n",
              "      <td>0</td>\n",
              "      <td>53.0</td>\n",
              "      <td>26.927438</td>\n",
              "    </tr>\n",
              "    <tr>\n",
              "      <th>69996</th>\n",
              "      <td>99995</td>\n",
              "      <td>22601</td>\n",
              "      <td>1</td>\n",
              "      <td>158</td>\n",
              "      <td>126.0</td>\n",
              "      <td>140</td>\n",
              "      <td>90</td>\n",
              "      <td>2</td>\n",
              "      <td>2</td>\n",
              "      <td>0</td>\n",
              "      <td>0</td>\n",
              "      <td>1</td>\n",
              "      <td>1</td>\n",
              "      <td>62.0</td>\n",
              "      <td>50.472681</td>\n",
              "    </tr>\n",
              "    <tr>\n",
              "      <th>69997</th>\n",
              "      <td>99996</td>\n",
              "      <td>19066</td>\n",
              "      <td>2</td>\n",
              "      <td>183</td>\n",
              "      <td>105.0</td>\n",
              "      <td>180</td>\n",
              "      <td>90</td>\n",
              "      <td>3</td>\n",
              "      <td>1</td>\n",
              "      <td>0</td>\n",
              "      <td>1</td>\n",
              "      <td>0</td>\n",
              "      <td>1</td>\n",
              "      <td>52.0</td>\n",
              "      <td>31.353579</td>\n",
              "    </tr>\n",
              "    <tr>\n",
              "      <th>69998</th>\n",
              "      <td>99998</td>\n",
              "      <td>22431</td>\n",
              "      <td>1</td>\n",
              "      <td>163</td>\n",
              "      <td>72.0</td>\n",
              "      <td>135</td>\n",
              "      <td>80</td>\n",
              "      <td>1</td>\n",
              "      <td>2</td>\n",
              "      <td>0</td>\n",
              "      <td>0</td>\n",
              "      <td>0</td>\n",
              "      <td>1</td>\n",
              "      <td>61.0</td>\n",
              "      <td>27.099251</td>\n",
              "    </tr>\n",
              "    <tr>\n",
              "      <th>69999</th>\n",
              "      <td>99999</td>\n",
              "      <td>20540</td>\n",
              "      <td>1</td>\n",
              "      <td>170</td>\n",
              "      <td>72.0</td>\n",
              "      <td>120</td>\n",
              "      <td>80</td>\n",
              "      <td>2</td>\n",
              "      <td>1</td>\n",
              "      <td>0</td>\n",
              "      <td>0</td>\n",
              "      <td>1</td>\n",
              "      <td>0</td>\n",
              "      <td>56.0</td>\n",
              "      <td>24.913495</td>\n",
              "    </tr>\n",
              "  </tbody>\n",
              "</table>\n",
              "<p>70000 rows × 15 columns</p>\n",
              "</div>\n",
              "      <button class=\"colab-df-convert\" onclick=\"convertToInteractive('df-90ebfcae-3204-4c83-9339-007c0b495a39')\"\n",
              "              title=\"Convert this dataframe to an interactive table.\"\n",
              "              style=\"display:none;\">\n",
              "        \n",
              "  <svg xmlns=\"http://www.w3.org/2000/svg\" height=\"24px\"viewBox=\"0 0 24 24\"\n",
              "       width=\"24px\">\n",
              "    <path d=\"M0 0h24v24H0V0z\" fill=\"none\"/>\n",
              "    <path d=\"M18.56 5.44l.94 2.06.94-2.06 2.06-.94-2.06-.94-.94-2.06-.94 2.06-2.06.94zm-11 1L8.5 8.5l.94-2.06 2.06-.94-2.06-.94L8.5 2.5l-.94 2.06-2.06.94zm10 10l.94 2.06.94-2.06 2.06-.94-2.06-.94-.94-2.06-.94 2.06-2.06.94z\"/><path d=\"M17.41 7.96l-1.37-1.37c-.4-.4-.92-.59-1.43-.59-.52 0-1.04.2-1.43.59L10.3 9.45l-7.72 7.72c-.78.78-.78 2.05 0 2.83L4 21.41c.39.39.9.59 1.41.59.51 0 1.02-.2 1.41-.59l7.78-7.78 2.81-2.81c.8-.78.8-2.07 0-2.86zM5.41 20L4 18.59l7.72-7.72 1.47 1.35L5.41 20z\"/>\n",
              "  </svg>\n",
              "      </button>\n",
              "      \n",
              "  <style>\n",
              "    .colab-df-container {\n",
              "      display:flex;\n",
              "      flex-wrap:wrap;\n",
              "      gap: 12px;\n",
              "    }\n",
              "\n",
              "    .colab-df-convert {\n",
              "      background-color: #E8F0FE;\n",
              "      border: none;\n",
              "      border-radius: 50%;\n",
              "      cursor: pointer;\n",
              "      display: none;\n",
              "      fill: #1967D2;\n",
              "      height: 32px;\n",
              "      padding: 0 0 0 0;\n",
              "      width: 32px;\n",
              "    }\n",
              "\n",
              "    .colab-df-convert:hover {\n",
              "      background-color: #E2EBFA;\n",
              "      box-shadow: 0px 1px 2px rgba(60, 64, 67, 0.3), 0px 1px 3px 1px rgba(60, 64, 67, 0.15);\n",
              "      fill: #174EA6;\n",
              "    }\n",
              "\n",
              "    [theme=dark] .colab-df-convert {\n",
              "      background-color: #3B4455;\n",
              "      fill: #D2E3FC;\n",
              "    }\n",
              "\n",
              "    [theme=dark] .colab-df-convert:hover {\n",
              "      background-color: #434B5C;\n",
              "      box-shadow: 0px 1px 3px 1px rgba(0, 0, 0, 0.15);\n",
              "      filter: drop-shadow(0px 1px 2px rgba(0, 0, 0, 0.3));\n",
              "      fill: #FFFFFF;\n",
              "    }\n",
              "  </style>\n",
              "\n",
              "      <script>\n",
              "        const buttonEl =\n",
              "          document.querySelector('#df-90ebfcae-3204-4c83-9339-007c0b495a39 button.colab-df-convert');\n",
              "        buttonEl.style.display =\n",
              "          google.colab.kernel.accessAllowed ? 'block' : 'none';\n",
              "\n",
              "        async function convertToInteractive(key) {\n",
              "          const element = document.querySelector('#df-90ebfcae-3204-4c83-9339-007c0b495a39');\n",
              "          const dataTable =\n",
              "            await google.colab.kernel.invokeFunction('convertToInteractive',\n",
              "                                                     [key], {});\n",
              "          if (!dataTable) return;\n",
              "\n",
              "          const docLinkHtml = 'Like what you see? Visit the ' +\n",
              "            '<a target=\"_blank\" href=https://colab.research.google.com/notebooks/data_table.ipynb>data table notebook</a>'\n",
              "            + ' to learn more about interactive tables.';\n",
              "          element.innerHTML = '';\n",
              "          dataTable['output_type'] = 'display_data';\n",
              "          await google.colab.output.renderOutput(dataTable, element);\n",
              "          const docLink = document.createElement('div');\n",
              "          docLink.innerHTML = docLinkHtml;\n",
              "          element.appendChild(docLink);\n",
              "        }\n",
              "      </script>\n",
              "    </div>\n",
              "  </div>\n",
              "  "
            ],
            "text/plain": [
              "          id    age  gender  height  ...  active  cardio  years        BMI\n",
              "0          0  18393       2     168  ...       1       0   50.0  21.967120\n",
              "1          1  20228       1     156  ...       1       1   55.0  34.927679\n",
              "2          2  18857       1     165  ...       0       1   52.0  23.507805\n",
              "3          3  17623       2     169  ...       1       1   48.0  28.710479\n",
              "4          4  17474       1     156  ...       0       0   48.0  23.011177\n",
              "...      ...    ...     ...     ...  ...     ...     ...    ...        ...\n",
              "69995  99993  19240       2     168  ...       1       0   53.0  26.927438\n",
              "69996  99995  22601       1     158  ...       1       1   62.0  50.472681\n",
              "69997  99996  19066       2     183  ...       0       1   52.0  31.353579\n",
              "69998  99998  22431       1     163  ...       0       1   61.0  27.099251\n",
              "69999  99999  20540       1     170  ...       1       0   56.0  24.913495\n",
              "\n",
              "[70000 rows x 15 columns]"
            ]
          },
          "metadata": {},
          "execution_count": 39
        }
      ],
      "source": [
        "df['BMI'] = df['weight'] / (df['height'] / 100  * df['height'] / 100)\n",
        "\n",
        "df"
      ]
    },
    {
      "cell_type": "markdown",
      "metadata": {
        "_uuid": "1c2baed24cc5b3abb94b5c6c09d571f29b39213b",
        "id": "Lyz9Cut90D33"
      },
      "source": [
        "**Question 1.6. (2 points). Choose the correct statements:**\n",
        "\n",
        "1. Median BMI in the sample is within the range of normal BMI values.\n",
        "2. The BMI for women is on average higher than for men.\n",
        "3. Healthy people have, on average, a higher BMI than the people with CVD.\n",
        "4. For healthy, non-drinking men, BMI is closer to the norm than for healthy, non-drinking women"
      ]
    },
    {
      "cell_type": "code",
      "source": [
        "df6 = df[(df['BMI'] > 18.5) & (df['BMI'] < 25)]\n",
        "\n",
        "len(df) - len(df6)"
      ],
      "metadata": {
        "colab": {
          "base_uri": "https://localhost:8080/"
        },
        "id": "pLIlfrpg4Klu",
        "outputId": "fb216365-385b-4910-aa10-ef13d0b0ac95"
      },
      "execution_count": 40,
      "outputs": [
        {
          "output_type": "execute_result",
          "data": {
            "text/plain": [
              "44333"
            ]
          },
          "metadata": {},
          "execution_count": 40
        }
      ]
    },
    {
      "cell_type": "markdown",
      "source": [
        "1 неверно"
      ],
      "metadata": {
        "id": "WoDXJGDo4eBq"
      }
    },
    {
      "cell_type": "code",
      "source": [
        "df6Woman = df[(df['gender'] == 1)]['BMI'].mean()\n",
        "df6Woman"
      ],
      "metadata": {
        "colab": {
          "base_uri": "https://localhost:8080/"
        },
        "id": "44ehHWxZ4NIQ",
        "outputId": "ed057f5b-44e8-41de-b264-dafec6c5a8a3"
      },
      "execution_count": 41,
      "outputs": [
        {
          "output_type": "execute_result",
          "data": {
            "text/plain": [
              "27.98758344183312"
            ]
          },
          "metadata": {},
          "execution_count": 41
        }
      ]
    },
    {
      "cell_type": "code",
      "source": [
        "df6Men = df[(df['gender'] == 2)]['BMI'].mean()\n",
        "df6Men"
      ],
      "metadata": {
        "colab": {
          "base_uri": "https://localhost:8080/"
        },
        "id": "k3tE9xJx4P0c",
        "outputId": "b898a3b3-372e-4f53-c796-b86f61fa290a"
      },
      "execution_count": 42,
      "outputs": [
        {
          "output_type": "execute_result",
          "data": {
            "text/plain": [
              "26.75444235728947"
            ]
          },
          "metadata": {},
          "execution_count": 42
        }
      ]
    },
    {
      "cell_type": "code",
      "source": [
        "df6Woman - df6Men"
      ],
      "metadata": {
        "colab": {
          "base_uri": "https://localhost:8080/"
        },
        "id": "MVcXsbQO4TEZ",
        "outputId": "bfe7222a-c84a-4e53-ac82-e9b0254c1cc5"
      },
      "execution_count": 43,
      "outputs": [
        {
          "output_type": "execute_result",
          "data": {
            "text/plain": [
              "1.2331410845436501"
            ]
          },
          "metadata": {},
          "execution_count": 43
        }
      ]
    },
    {
      "cell_type": "markdown",
      "source": [
        "2 верно"
      ],
      "metadata": {
        "id": "lZlesBEB4kAH"
      }
    },
    {
      "cell_type": "code",
      "source": [
        "df7CVD = df[(df['cholesterol'] == 3)]['BMI'].mean()\n",
        "df7CVD"
      ],
      "metadata": {
        "colab": {
          "base_uri": "https://localhost:8080/"
        },
        "id": "AXeqDWKK4lya",
        "outputId": "ae21aedc-0ae0-486d-98da-385056eb1899"
      },
      "execution_count": 44,
      "outputs": [
        {
          "output_type": "execute_result",
          "data": {
            "text/plain": [
              "29.582314601657618"
            ]
          },
          "metadata": {},
          "execution_count": 44
        }
      ]
    },
    {
      "cell_type": "code",
      "source": [
        "df7Health = df[(df['cholesterol'] == 1)]['BMI'].mean()\n",
        "df7Health"
      ],
      "metadata": {
        "colab": {
          "base_uri": "https://localhost:8080/"
        },
        "id": "_ubixTvr4oTa",
        "outputId": "ace6915e-5d2f-4470-bcd3-78bf191c781f"
      },
      "execution_count": 45,
      "outputs": [
        {
          "output_type": "execute_result",
          "data": {
            "text/plain": [
              "27.058528826113335"
            ]
          },
          "metadata": {},
          "execution_count": 45
        }
      ]
    },
    {
      "cell_type": "markdown",
      "source": [
        "3 неверно"
      ],
      "metadata": {
        "id": "vpgX3hVV4rSa"
      }
    },
    {
      "cell_type": "code",
      "source": [
        "df7HealthMen = df[(df['cholesterol'] == 1) & (df['gender'] == 2) & (df['alco'] == 0)]['BMI'].mean()\n",
        "df7HealthMen"
      ],
      "metadata": {
        "colab": {
          "base_uri": "https://localhost:8080/"
        },
        "id": "LsTeuTdG4s9q",
        "outputId": "4c53aa5c-a9fa-4d57-f723-91f199ec2e50"
      },
      "execution_count": 46,
      "outputs": [
        {
          "output_type": "execute_result",
          "data": {
            "text/plain": [
              "26.386718309339837"
            ]
          },
          "metadata": {},
          "execution_count": 46
        }
      ]
    },
    {
      "cell_type": "code",
      "source": [
        "df7HealthWoman = df[(df['cholesterol'] == 1) & (df['gender'] == 1) & (df['alco'] == 0)]['BMI'].mean()\n",
        "df7HealthWoman"
      ],
      "metadata": {
        "colab": {
          "base_uri": "https://localhost:8080/"
        },
        "id": "udLhRCrx4xOj",
        "outputId": "e6fe599b-2af7-4f3f-c60f-980c59a18053"
      },
      "execution_count": 47,
      "outputs": [
        {
          "output_type": "execute_result",
          "data": {
            "text/plain": [
              "27.395349409147034"
            ]
          },
          "metadata": {},
          "execution_count": 47
        }
      ]
    },
    {
      "cell_type": "markdown",
      "source": [
        "4 верно\n"
      ],
      "metadata": {
        "id": "QKcrFFYy40Wa"
      }
    },
    {
      "cell_type": "markdown",
      "source": [
        "Ответ: 2, 4"
      ],
      "metadata": {
        "id": "M8chrjEZ484K"
      }
    },
    {
      "cell_type": "markdown",
      "metadata": {
        "_uuid": "2e059032eee1d57c896e24a98b659a5ab16144fd",
        "id": "tFTDMF4z0D33"
      },
      "source": [
        "## 1.4. Cleaning data"
      ]
    },
    {
      "cell_type": "markdown",
      "metadata": {
        "_uuid": "26ccfbcb212c3631b4941a294906c027b974301a",
        "id": "RaHp5WSF0D33"
      },
      "source": [
        "### Task:\n",
        "We can see that the data is not perfect. It contains \"dirt\" and inaccuracies. We'll see this better as we visualize the data.\n",
        "\n",
        "Filter out the following patient segments (we consider these as erroneous data)\n",
        "\n",
        "- diastolic pressure is higher than systolic \n",
        "- height is strictly less than 2.5 percentile (Use `pd.Series.quantile` to compute this value. If you are not familiar with the function, please read the docs.)\n",
        "- height is strictly more than 97.5 percentile\n",
        "- weight is strictly less than 2.5 percentile\n",
        "- weight is strictly more than 97.5 percentile\n",
        "\n",
        "This is not everything that we can do to clean this data, but this is sufficient for now."
      ]
    },
    {
      "cell_type": "markdown",
      "metadata": {
        "_uuid": "f807adaa6459d1c75d202bb973831369d6eeb20e",
        "id": "co5imMLt0D34"
      },
      "source": [
        "**Question 1.7. (2 points). What percent of the original data (rounded) did we throw away?**\n",
        "\n",
        "1. 8\n",
        "2. 9\n",
        "3. 10\n",
        "4. 11"
      ]
    },
    {
      "cell_type": "code",
      "execution_count": 48,
      "metadata": {
        "_uuid": "483fd26f0aff141810dcb084095c380acafbfbdd",
        "colab": {
          "base_uri": "https://localhost:8080/",
          "height": 424
        },
        "id": "F0tlabT-0D34",
        "outputId": "d721974d-6b15-434e-801f-92b9d41576bf"
      },
      "outputs": [
        {
          "output_type": "execute_result",
          "data": {
            "text/html": [
              "\n",
              "  <div id=\"df-3989e5a2-8e3f-402e-b7bb-1bbc29b2fc23\">\n",
              "    <div class=\"colab-df-container\">\n",
              "      <div>\n",
              "<style scoped>\n",
              "    .dataframe tbody tr th:only-of-type {\n",
              "        vertical-align: middle;\n",
              "    }\n",
              "\n",
              "    .dataframe tbody tr th {\n",
              "        vertical-align: top;\n",
              "    }\n",
              "\n",
              "    .dataframe thead th {\n",
              "        text-align: right;\n",
              "    }\n",
              "</style>\n",
              "<table border=\"1\" class=\"dataframe\">\n",
              "  <thead>\n",
              "    <tr style=\"text-align: right;\">\n",
              "      <th></th>\n",
              "      <th>id</th>\n",
              "      <th>age</th>\n",
              "      <th>gender</th>\n",
              "      <th>height</th>\n",
              "      <th>weight</th>\n",
              "      <th>ap_hi</th>\n",
              "      <th>ap_lo</th>\n",
              "      <th>cholesterol</th>\n",
              "      <th>gluc</th>\n",
              "      <th>smoke</th>\n",
              "      <th>alco</th>\n",
              "      <th>active</th>\n",
              "      <th>cardio</th>\n",
              "      <th>years</th>\n",
              "      <th>BMI</th>\n",
              "    </tr>\n",
              "  </thead>\n",
              "  <tbody>\n",
              "    <tr>\n",
              "      <th>0</th>\n",
              "      <td>0</td>\n",
              "      <td>18393</td>\n",
              "      <td>2</td>\n",
              "      <td>168</td>\n",
              "      <td>62.0</td>\n",
              "      <td>110</td>\n",
              "      <td>80</td>\n",
              "      <td>1</td>\n",
              "      <td>1</td>\n",
              "      <td>0</td>\n",
              "      <td>0</td>\n",
              "      <td>1</td>\n",
              "      <td>0</td>\n",
              "      <td>50.0</td>\n",
              "      <td>21.967120</td>\n",
              "    </tr>\n",
              "    <tr>\n",
              "      <th>1</th>\n",
              "      <td>1</td>\n",
              "      <td>20228</td>\n",
              "      <td>1</td>\n",
              "      <td>156</td>\n",
              "      <td>85.0</td>\n",
              "      <td>140</td>\n",
              "      <td>90</td>\n",
              "      <td>3</td>\n",
              "      <td>1</td>\n",
              "      <td>0</td>\n",
              "      <td>0</td>\n",
              "      <td>1</td>\n",
              "      <td>1</td>\n",
              "      <td>55.0</td>\n",
              "      <td>34.927679</td>\n",
              "    </tr>\n",
              "    <tr>\n",
              "      <th>2</th>\n",
              "      <td>2</td>\n",
              "      <td>18857</td>\n",
              "      <td>1</td>\n",
              "      <td>165</td>\n",
              "      <td>64.0</td>\n",
              "      <td>130</td>\n",
              "      <td>70</td>\n",
              "      <td>3</td>\n",
              "      <td>1</td>\n",
              "      <td>0</td>\n",
              "      <td>0</td>\n",
              "      <td>0</td>\n",
              "      <td>1</td>\n",
              "      <td>52.0</td>\n",
              "      <td>23.507805</td>\n",
              "    </tr>\n",
              "    <tr>\n",
              "      <th>3</th>\n",
              "      <td>3</td>\n",
              "      <td>17623</td>\n",
              "      <td>2</td>\n",
              "      <td>169</td>\n",
              "      <td>82.0</td>\n",
              "      <td>150</td>\n",
              "      <td>100</td>\n",
              "      <td>1</td>\n",
              "      <td>1</td>\n",
              "      <td>0</td>\n",
              "      <td>0</td>\n",
              "      <td>1</td>\n",
              "      <td>1</td>\n",
              "      <td>48.0</td>\n",
              "      <td>28.710479</td>\n",
              "    </tr>\n",
              "    <tr>\n",
              "      <th>4</th>\n",
              "      <td>4</td>\n",
              "      <td>17474</td>\n",
              "      <td>1</td>\n",
              "      <td>156</td>\n",
              "      <td>56.0</td>\n",
              "      <td>100</td>\n",
              "      <td>60</td>\n",
              "      <td>1</td>\n",
              "      <td>1</td>\n",
              "      <td>0</td>\n",
              "      <td>0</td>\n",
              "      <td>0</td>\n",
              "      <td>0</td>\n",
              "      <td>48.0</td>\n",
              "      <td>23.011177</td>\n",
              "    </tr>\n",
              "    <tr>\n",
              "      <th>...</th>\n",
              "      <td>...</td>\n",
              "      <td>...</td>\n",
              "      <td>...</td>\n",
              "      <td>...</td>\n",
              "      <td>...</td>\n",
              "      <td>...</td>\n",
              "      <td>...</td>\n",
              "      <td>...</td>\n",
              "      <td>...</td>\n",
              "      <td>...</td>\n",
              "      <td>...</td>\n",
              "      <td>...</td>\n",
              "      <td>...</td>\n",
              "      <td>...</td>\n",
              "      <td>...</td>\n",
              "    </tr>\n",
              "    <tr>\n",
              "      <th>69993</th>\n",
              "      <td>99991</td>\n",
              "      <td>19699</td>\n",
              "      <td>1</td>\n",
              "      <td>172</td>\n",
              "      <td>70.0</td>\n",
              "      <td>130</td>\n",
              "      <td>90</td>\n",
              "      <td>1</td>\n",
              "      <td>1</td>\n",
              "      <td>0</td>\n",
              "      <td>0</td>\n",
              "      <td>1</td>\n",
              "      <td>1</td>\n",
              "      <td>54.0</td>\n",
              "      <td>23.661439</td>\n",
              "    </tr>\n",
              "    <tr>\n",
              "      <th>69994</th>\n",
              "      <td>99992</td>\n",
              "      <td>21074</td>\n",
              "      <td>1</td>\n",
              "      <td>165</td>\n",
              "      <td>80.0</td>\n",
              "      <td>150</td>\n",
              "      <td>80</td>\n",
              "      <td>1</td>\n",
              "      <td>1</td>\n",
              "      <td>0</td>\n",
              "      <td>0</td>\n",
              "      <td>1</td>\n",
              "      <td>1</td>\n",
              "      <td>58.0</td>\n",
              "      <td>29.384757</td>\n",
              "    </tr>\n",
              "    <tr>\n",
              "      <th>69995</th>\n",
              "      <td>99993</td>\n",
              "      <td>19240</td>\n",
              "      <td>2</td>\n",
              "      <td>168</td>\n",
              "      <td>76.0</td>\n",
              "      <td>120</td>\n",
              "      <td>80</td>\n",
              "      <td>1</td>\n",
              "      <td>1</td>\n",
              "      <td>1</td>\n",
              "      <td>0</td>\n",
              "      <td>1</td>\n",
              "      <td>0</td>\n",
              "      <td>53.0</td>\n",
              "      <td>26.927438</td>\n",
              "    </tr>\n",
              "    <tr>\n",
              "      <th>69998</th>\n",
              "      <td>99998</td>\n",
              "      <td>22431</td>\n",
              "      <td>1</td>\n",
              "      <td>163</td>\n",
              "      <td>72.0</td>\n",
              "      <td>135</td>\n",
              "      <td>80</td>\n",
              "      <td>1</td>\n",
              "      <td>2</td>\n",
              "      <td>0</td>\n",
              "      <td>0</td>\n",
              "      <td>0</td>\n",
              "      <td>1</td>\n",
              "      <td>61.0</td>\n",
              "      <td>27.099251</td>\n",
              "    </tr>\n",
              "    <tr>\n",
              "      <th>69999</th>\n",
              "      <td>99999</td>\n",
              "      <td>20540</td>\n",
              "      <td>1</td>\n",
              "      <td>170</td>\n",
              "      <td>72.0</td>\n",
              "      <td>120</td>\n",
              "      <td>80</td>\n",
              "      <td>2</td>\n",
              "      <td>1</td>\n",
              "      <td>0</td>\n",
              "      <td>0</td>\n",
              "      <td>1</td>\n",
              "      <td>0</td>\n",
              "      <td>56.0</td>\n",
              "      <td>24.913495</td>\n",
              "    </tr>\n",
              "  </tbody>\n",
              "</table>\n",
              "<p>61203 rows × 15 columns</p>\n",
              "</div>\n",
              "      <button class=\"colab-df-convert\" onclick=\"convertToInteractive('df-3989e5a2-8e3f-402e-b7bb-1bbc29b2fc23')\"\n",
              "              title=\"Convert this dataframe to an interactive table.\"\n",
              "              style=\"display:none;\">\n",
              "        \n",
              "  <svg xmlns=\"http://www.w3.org/2000/svg\" height=\"24px\"viewBox=\"0 0 24 24\"\n",
              "       width=\"24px\">\n",
              "    <path d=\"M0 0h24v24H0V0z\" fill=\"none\"/>\n",
              "    <path d=\"M18.56 5.44l.94 2.06.94-2.06 2.06-.94-2.06-.94-.94-2.06-.94 2.06-2.06.94zm-11 1L8.5 8.5l.94-2.06 2.06-.94-2.06-.94L8.5 2.5l-.94 2.06-2.06.94zm10 10l.94 2.06.94-2.06 2.06-.94-2.06-.94-.94-2.06-.94 2.06-2.06.94z\"/><path d=\"M17.41 7.96l-1.37-1.37c-.4-.4-.92-.59-1.43-.59-.52 0-1.04.2-1.43.59L10.3 9.45l-7.72 7.72c-.78.78-.78 2.05 0 2.83L4 21.41c.39.39.9.59 1.41.59.51 0 1.02-.2 1.41-.59l7.78-7.78 2.81-2.81c.8-.78.8-2.07 0-2.86zM5.41 20L4 18.59l7.72-7.72 1.47 1.35L5.41 20z\"/>\n",
              "  </svg>\n",
              "      </button>\n",
              "      \n",
              "  <style>\n",
              "    .colab-df-container {\n",
              "      display:flex;\n",
              "      flex-wrap:wrap;\n",
              "      gap: 12px;\n",
              "    }\n",
              "\n",
              "    .colab-df-convert {\n",
              "      background-color: #E8F0FE;\n",
              "      border: none;\n",
              "      border-radius: 50%;\n",
              "      cursor: pointer;\n",
              "      display: none;\n",
              "      fill: #1967D2;\n",
              "      height: 32px;\n",
              "      padding: 0 0 0 0;\n",
              "      width: 32px;\n",
              "    }\n",
              "\n",
              "    .colab-df-convert:hover {\n",
              "      background-color: #E2EBFA;\n",
              "      box-shadow: 0px 1px 2px rgba(60, 64, 67, 0.3), 0px 1px 3px 1px rgba(60, 64, 67, 0.15);\n",
              "      fill: #174EA6;\n",
              "    }\n",
              "\n",
              "    [theme=dark] .colab-df-convert {\n",
              "      background-color: #3B4455;\n",
              "      fill: #D2E3FC;\n",
              "    }\n",
              "\n",
              "    [theme=dark] .colab-df-convert:hover {\n",
              "      background-color: #434B5C;\n",
              "      box-shadow: 0px 1px 3px 1px rgba(0, 0, 0, 0.15);\n",
              "      filter: drop-shadow(0px 1px 2px rgba(0, 0, 0, 0.3));\n",
              "      fill: #FFFFFF;\n",
              "    }\n",
              "  </style>\n",
              "\n",
              "      <script>\n",
              "        const buttonEl =\n",
              "          document.querySelector('#df-3989e5a2-8e3f-402e-b7bb-1bbc29b2fc23 button.colab-df-convert');\n",
              "        buttonEl.style.display =\n",
              "          google.colab.kernel.accessAllowed ? 'block' : 'none';\n",
              "\n",
              "        async function convertToInteractive(key) {\n",
              "          const element = document.querySelector('#df-3989e5a2-8e3f-402e-b7bb-1bbc29b2fc23');\n",
              "          const dataTable =\n",
              "            await google.colab.kernel.invokeFunction('convertToInteractive',\n",
              "                                                     [key], {});\n",
              "          if (!dataTable) return;\n",
              "\n",
              "          const docLinkHtml = 'Like what you see? Visit the ' +\n",
              "            '<a target=\"_blank\" href=https://colab.research.google.com/notebooks/data_table.ipynb>data table notebook</a>'\n",
              "            + ' to learn more about interactive tables.';\n",
              "          element.innerHTML = '';\n",
              "          dataTable['output_type'] = 'display_data';\n",
              "          await google.colab.output.renderOutput(dataTable, element);\n",
              "          const docLink = document.createElement('div');\n",
              "          docLink.innerHTML = docLinkHtml;\n",
              "          element.appendChild(docLink);\n",
              "        }\n",
              "      </script>\n",
              "    </div>\n",
              "  </div>\n",
              "  "
            ],
            "text/plain": [
              "          id    age  gender  height  ...  active  cardio  years        BMI\n",
              "0          0  18393       2     168  ...       1       0   50.0  21.967120\n",
              "1          1  20228       1     156  ...       1       1   55.0  34.927679\n",
              "2          2  18857       1     165  ...       0       1   52.0  23.507805\n",
              "3          3  17623       2     169  ...       1       1   48.0  28.710479\n",
              "4          4  17474       1     156  ...       0       0   48.0  23.011177\n",
              "...      ...    ...     ...     ...  ...     ...     ...    ...        ...\n",
              "69993  99991  19699       1     172  ...       1       1   54.0  23.661439\n",
              "69994  99992  21074       1     165  ...       1       1   58.0  29.384757\n",
              "69995  99993  19240       2     168  ...       1       0   53.0  26.927438\n",
              "69998  99998  22431       1     163  ...       0       1   61.0  27.099251\n",
              "69999  99999  20540       1     170  ...       1       0   56.0  24.913495\n",
              "\n",
              "[61203 rows x 15 columns]"
            ]
          },
          "metadata": {},
          "execution_count": 48
        }
      ],
      "source": [
        "prencHeight1 = pd.Series.quantile(df['height'], q = 0.025)\n",
        "prencHeight1\n",
        "\n",
        "prencHeight2 = pd.Series.quantile(df['height'], q = 0.975)\n",
        "prencHeight2\n",
        "\n",
        "prencWeight1 = pd.Series.quantile(df['weight'], q = 0.025)\n",
        "prencWeight1\n",
        "\n",
        "prencWeight2 = pd.Series.quantile(df['weight'], q = 0.975)\n",
        "prencWeight2\n",
        "\n",
        "df14 = df[(df['height'] > prencHeight1) \n",
        "         & (df['height'] < prencHeight2)  \n",
        "         & (df['weight'] > prencWeight1) \n",
        "         & (df['weight'] < prencWeight2)\n",
        "         & (df['ap_hi'] > df['ap_lo'])]\n",
        "df14"
      ]
    },
    {
      "cell_type": "code",
      "source": [
        "df15 = df[(df['ap_hi'] > df['ap_lo'])]\n",
        "df15"
      ],
      "metadata": {
        "colab": {
          "base_uri": "https://localhost:8080/",
          "height": 424
        },
        "id": "vFwBxGmW5F63",
        "outputId": "50c5432b-0db0-4fc1-d3b7-89df755f7683"
      },
      "execution_count": 49,
      "outputs": [
        {
          "output_type": "execute_result",
          "data": {
            "text/html": [
              "\n",
              "  <div id=\"df-de0e2e89-4b39-41bf-8dde-ccda71791f65\">\n",
              "    <div class=\"colab-df-container\">\n",
              "      <div>\n",
              "<style scoped>\n",
              "    .dataframe tbody tr th:only-of-type {\n",
              "        vertical-align: middle;\n",
              "    }\n",
              "\n",
              "    .dataframe tbody tr th {\n",
              "        vertical-align: top;\n",
              "    }\n",
              "\n",
              "    .dataframe thead th {\n",
              "        text-align: right;\n",
              "    }\n",
              "</style>\n",
              "<table border=\"1\" class=\"dataframe\">\n",
              "  <thead>\n",
              "    <tr style=\"text-align: right;\">\n",
              "      <th></th>\n",
              "      <th>id</th>\n",
              "      <th>age</th>\n",
              "      <th>gender</th>\n",
              "      <th>height</th>\n",
              "      <th>weight</th>\n",
              "      <th>ap_hi</th>\n",
              "      <th>ap_lo</th>\n",
              "      <th>cholesterol</th>\n",
              "      <th>gluc</th>\n",
              "      <th>smoke</th>\n",
              "      <th>alco</th>\n",
              "      <th>active</th>\n",
              "      <th>cardio</th>\n",
              "      <th>years</th>\n",
              "      <th>BMI</th>\n",
              "    </tr>\n",
              "  </thead>\n",
              "  <tbody>\n",
              "    <tr>\n",
              "      <th>0</th>\n",
              "      <td>0</td>\n",
              "      <td>18393</td>\n",
              "      <td>2</td>\n",
              "      <td>168</td>\n",
              "      <td>62.0</td>\n",
              "      <td>110</td>\n",
              "      <td>80</td>\n",
              "      <td>1</td>\n",
              "      <td>1</td>\n",
              "      <td>0</td>\n",
              "      <td>0</td>\n",
              "      <td>1</td>\n",
              "      <td>0</td>\n",
              "      <td>50.0</td>\n",
              "      <td>21.967120</td>\n",
              "    </tr>\n",
              "    <tr>\n",
              "      <th>1</th>\n",
              "      <td>1</td>\n",
              "      <td>20228</td>\n",
              "      <td>1</td>\n",
              "      <td>156</td>\n",
              "      <td>85.0</td>\n",
              "      <td>140</td>\n",
              "      <td>90</td>\n",
              "      <td>3</td>\n",
              "      <td>1</td>\n",
              "      <td>0</td>\n",
              "      <td>0</td>\n",
              "      <td>1</td>\n",
              "      <td>1</td>\n",
              "      <td>55.0</td>\n",
              "      <td>34.927679</td>\n",
              "    </tr>\n",
              "    <tr>\n",
              "      <th>2</th>\n",
              "      <td>2</td>\n",
              "      <td>18857</td>\n",
              "      <td>1</td>\n",
              "      <td>165</td>\n",
              "      <td>64.0</td>\n",
              "      <td>130</td>\n",
              "      <td>70</td>\n",
              "      <td>3</td>\n",
              "      <td>1</td>\n",
              "      <td>0</td>\n",
              "      <td>0</td>\n",
              "      <td>0</td>\n",
              "      <td>1</td>\n",
              "      <td>52.0</td>\n",
              "      <td>23.507805</td>\n",
              "    </tr>\n",
              "    <tr>\n",
              "      <th>3</th>\n",
              "      <td>3</td>\n",
              "      <td>17623</td>\n",
              "      <td>2</td>\n",
              "      <td>169</td>\n",
              "      <td>82.0</td>\n",
              "      <td>150</td>\n",
              "      <td>100</td>\n",
              "      <td>1</td>\n",
              "      <td>1</td>\n",
              "      <td>0</td>\n",
              "      <td>0</td>\n",
              "      <td>1</td>\n",
              "      <td>1</td>\n",
              "      <td>48.0</td>\n",
              "      <td>28.710479</td>\n",
              "    </tr>\n",
              "    <tr>\n",
              "      <th>4</th>\n",
              "      <td>4</td>\n",
              "      <td>17474</td>\n",
              "      <td>1</td>\n",
              "      <td>156</td>\n",
              "      <td>56.0</td>\n",
              "      <td>100</td>\n",
              "      <td>60</td>\n",
              "      <td>1</td>\n",
              "      <td>1</td>\n",
              "      <td>0</td>\n",
              "      <td>0</td>\n",
              "      <td>0</td>\n",
              "      <td>0</td>\n",
              "      <td>48.0</td>\n",
              "      <td>23.011177</td>\n",
              "    </tr>\n",
              "    <tr>\n",
              "      <th>...</th>\n",
              "      <td>...</td>\n",
              "      <td>...</td>\n",
              "      <td>...</td>\n",
              "      <td>...</td>\n",
              "      <td>...</td>\n",
              "      <td>...</td>\n",
              "      <td>...</td>\n",
              "      <td>...</td>\n",
              "      <td>...</td>\n",
              "      <td>...</td>\n",
              "      <td>...</td>\n",
              "      <td>...</td>\n",
              "      <td>...</td>\n",
              "      <td>...</td>\n",
              "      <td>...</td>\n",
              "    </tr>\n",
              "    <tr>\n",
              "      <th>69995</th>\n",
              "      <td>99993</td>\n",
              "      <td>19240</td>\n",
              "      <td>2</td>\n",
              "      <td>168</td>\n",
              "      <td>76.0</td>\n",
              "      <td>120</td>\n",
              "      <td>80</td>\n",
              "      <td>1</td>\n",
              "      <td>1</td>\n",
              "      <td>1</td>\n",
              "      <td>0</td>\n",
              "      <td>1</td>\n",
              "      <td>0</td>\n",
              "      <td>53.0</td>\n",
              "      <td>26.927438</td>\n",
              "    </tr>\n",
              "    <tr>\n",
              "      <th>69996</th>\n",
              "      <td>99995</td>\n",
              "      <td>22601</td>\n",
              "      <td>1</td>\n",
              "      <td>158</td>\n",
              "      <td>126.0</td>\n",
              "      <td>140</td>\n",
              "      <td>90</td>\n",
              "      <td>2</td>\n",
              "      <td>2</td>\n",
              "      <td>0</td>\n",
              "      <td>0</td>\n",
              "      <td>1</td>\n",
              "      <td>1</td>\n",
              "      <td>62.0</td>\n",
              "      <td>50.472681</td>\n",
              "    </tr>\n",
              "    <tr>\n",
              "      <th>69997</th>\n",
              "      <td>99996</td>\n",
              "      <td>19066</td>\n",
              "      <td>2</td>\n",
              "      <td>183</td>\n",
              "      <td>105.0</td>\n",
              "      <td>180</td>\n",
              "      <td>90</td>\n",
              "      <td>3</td>\n",
              "      <td>1</td>\n",
              "      <td>0</td>\n",
              "      <td>1</td>\n",
              "      <td>0</td>\n",
              "      <td>1</td>\n",
              "      <td>52.0</td>\n",
              "      <td>31.353579</td>\n",
              "    </tr>\n",
              "    <tr>\n",
              "      <th>69998</th>\n",
              "      <td>99998</td>\n",
              "      <td>22431</td>\n",
              "      <td>1</td>\n",
              "      <td>163</td>\n",
              "      <td>72.0</td>\n",
              "      <td>135</td>\n",
              "      <td>80</td>\n",
              "      <td>1</td>\n",
              "      <td>2</td>\n",
              "      <td>0</td>\n",
              "      <td>0</td>\n",
              "      <td>0</td>\n",
              "      <td>1</td>\n",
              "      <td>61.0</td>\n",
              "      <td>27.099251</td>\n",
              "    </tr>\n",
              "    <tr>\n",
              "      <th>69999</th>\n",
              "      <td>99999</td>\n",
              "      <td>20540</td>\n",
              "      <td>1</td>\n",
              "      <td>170</td>\n",
              "      <td>72.0</td>\n",
              "      <td>120</td>\n",
              "      <td>80</td>\n",
              "      <td>2</td>\n",
              "      <td>1</td>\n",
              "      <td>0</td>\n",
              "      <td>0</td>\n",
              "      <td>1</td>\n",
              "      <td>0</td>\n",
              "      <td>56.0</td>\n",
              "      <td>24.913495</td>\n",
              "    </tr>\n",
              "  </tbody>\n",
              "</table>\n",
              "<p>68764 rows × 15 columns</p>\n",
              "</div>\n",
              "      <button class=\"colab-df-convert\" onclick=\"convertToInteractive('df-de0e2e89-4b39-41bf-8dde-ccda71791f65')\"\n",
              "              title=\"Convert this dataframe to an interactive table.\"\n",
              "              style=\"display:none;\">\n",
              "        \n",
              "  <svg xmlns=\"http://www.w3.org/2000/svg\" height=\"24px\"viewBox=\"0 0 24 24\"\n",
              "       width=\"24px\">\n",
              "    <path d=\"M0 0h24v24H0V0z\" fill=\"none\"/>\n",
              "    <path d=\"M18.56 5.44l.94 2.06.94-2.06 2.06-.94-2.06-.94-.94-2.06-.94 2.06-2.06.94zm-11 1L8.5 8.5l.94-2.06 2.06-.94-2.06-.94L8.5 2.5l-.94 2.06-2.06.94zm10 10l.94 2.06.94-2.06 2.06-.94-2.06-.94-.94-2.06-.94 2.06-2.06.94z\"/><path d=\"M17.41 7.96l-1.37-1.37c-.4-.4-.92-.59-1.43-.59-.52 0-1.04.2-1.43.59L10.3 9.45l-7.72 7.72c-.78.78-.78 2.05 0 2.83L4 21.41c.39.39.9.59 1.41.59.51 0 1.02-.2 1.41-.59l7.78-7.78 2.81-2.81c.8-.78.8-2.07 0-2.86zM5.41 20L4 18.59l7.72-7.72 1.47 1.35L5.41 20z\"/>\n",
              "  </svg>\n",
              "      </button>\n",
              "      \n",
              "  <style>\n",
              "    .colab-df-container {\n",
              "      display:flex;\n",
              "      flex-wrap:wrap;\n",
              "      gap: 12px;\n",
              "    }\n",
              "\n",
              "    .colab-df-convert {\n",
              "      background-color: #E8F0FE;\n",
              "      border: none;\n",
              "      border-radius: 50%;\n",
              "      cursor: pointer;\n",
              "      display: none;\n",
              "      fill: #1967D2;\n",
              "      height: 32px;\n",
              "      padding: 0 0 0 0;\n",
              "      width: 32px;\n",
              "    }\n",
              "\n",
              "    .colab-df-convert:hover {\n",
              "      background-color: #E2EBFA;\n",
              "      box-shadow: 0px 1px 2px rgba(60, 64, 67, 0.3), 0px 1px 3px 1px rgba(60, 64, 67, 0.15);\n",
              "      fill: #174EA6;\n",
              "    }\n",
              "\n",
              "    [theme=dark] .colab-df-convert {\n",
              "      background-color: #3B4455;\n",
              "      fill: #D2E3FC;\n",
              "    }\n",
              "\n",
              "    [theme=dark] .colab-df-convert:hover {\n",
              "      background-color: #434B5C;\n",
              "      box-shadow: 0px 1px 3px 1px rgba(0, 0, 0, 0.15);\n",
              "      filter: drop-shadow(0px 1px 2px rgba(0, 0, 0, 0.3));\n",
              "      fill: #FFFFFF;\n",
              "    }\n",
              "  </style>\n",
              "\n",
              "      <script>\n",
              "        const buttonEl =\n",
              "          document.querySelector('#df-de0e2e89-4b39-41bf-8dde-ccda71791f65 button.colab-df-convert');\n",
              "        buttonEl.style.display =\n",
              "          google.colab.kernel.accessAllowed ? 'block' : 'none';\n",
              "\n",
              "        async function convertToInteractive(key) {\n",
              "          const element = document.querySelector('#df-de0e2e89-4b39-41bf-8dde-ccda71791f65');\n",
              "          const dataTable =\n",
              "            await google.colab.kernel.invokeFunction('convertToInteractive',\n",
              "                                                     [key], {});\n",
              "          if (!dataTable) return;\n",
              "\n",
              "          const docLinkHtml = 'Like what you see? Visit the ' +\n",
              "            '<a target=\"_blank\" href=https://colab.research.google.com/notebooks/data_table.ipynb>data table notebook</a>'\n",
              "            + ' to learn more about interactive tables.';\n",
              "          element.innerHTML = '';\n",
              "          dataTable['output_type'] = 'display_data';\n",
              "          await google.colab.output.renderOutput(dataTable, element);\n",
              "          const docLink = document.createElement('div');\n",
              "          docLink.innerHTML = docLinkHtml;\n",
              "          element.appendChild(docLink);\n",
              "        }\n",
              "      </script>\n",
              "    </div>\n",
              "  </div>\n",
              "  "
            ],
            "text/plain": [
              "          id    age  gender  height  ...  active  cardio  years        BMI\n",
              "0          0  18393       2     168  ...       1       0   50.0  21.967120\n",
              "1          1  20228       1     156  ...       1       1   55.0  34.927679\n",
              "2          2  18857       1     165  ...       0       1   52.0  23.507805\n",
              "3          3  17623       2     169  ...       1       1   48.0  28.710479\n",
              "4          4  17474       1     156  ...       0       0   48.0  23.011177\n",
              "...      ...    ...     ...     ...  ...     ...     ...    ...        ...\n",
              "69995  99993  19240       2     168  ...       1       0   53.0  26.927438\n",
              "69996  99995  22601       1     158  ...       1       1   62.0  50.472681\n",
              "69997  99996  19066       2     183  ...       0       1   52.0  31.353579\n",
              "69998  99998  22431       1     163  ...       0       1   61.0  27.099251\n",
              "69999  99999  20540       1     170  ...       1       0   56.0  24.913495\n",
              "\n",
              "[68764 rows x 15 columns]"
            ]
          },
          "metadata": {},
          "execution_count": 49
        }
      ]
    },
    {
      "cell_type": "code",
      "source": [
        "(68764 - 61203) / 68764 * 100"
      ],
      "metadata": {
        "colab": {
          "base_uri": "https://localhost:8080/"
        },
        "id": "FM0pf9uH5QAL",
        "outputId": "f721a7df-ad35-41c9-a9c7-f6f2823def2c"
      },
      "execution_count": 50,
      "outputs": [
        {
          "output_type": "execute_result",
          "data": {
            "text/plain": [
              "10.995579082077832"
            ]
          },
          "metadata": {},
          "execution_count": 50
        }
      ]
    },
    {
      "cell_type": "markdown",
      "source": [
        "Ответ: 4"
      ],
      "metadata": {
        "id": "-9vvJIia5TxH"
      }
    },
    {
      "cell_type": "markdown",
      "metadata": {
        "_uuid": "a9f14b459f71ac2304e73145fc199a90131965e7",
        "id": "MEvBHRe30D35"
      },
      "source": [
        "# Part 2. Visual data analysis\n",
        "\n",
        "## 2.1. Correlation matrix visualization\n",
        "\n",
        "To understand the features better, you can create a matrix of the correlation coefficients between the features. Use the initial dataset (non-filtered).\n",
        "\n",
        "### Task:\n",
        "\n",
        "Plot a correlation matrix using [`heatmap()`](http://seaborn.pydata.org/generated/seaborn.heatmap.html). You can create the matrix using the standard `pandas` tools with the default parameters."
      ]
    },
    {
      "cell_type": "code",
      "execution_count": 51,
      "metadata": {
        "_uuid": "a9c19a7bf2dd564b484e8269886340c13967fede",
        "colab": {
          "base_uri": "https://localhost:8080/",
          "height": 507
        },
        "id": "1CVwGOhl0D35",
        "outputId": "04c9212c-ebd2-45fe-95b2-8167c3c3dc73"
      },
      "outputs": [
        {
          "output_type": "display_data",
          "data": {
            "image/png": "[encoded data removed]",
            "text/plain": [
              "<Figure size 792x576 with 2 Axes>"
            ]
          },
          "metadata": {}
        }
      ],
      "source": [
        "import seaborn as sns; sns.set_theme()\n",
        "\n",
        "flights = df.pivot(index = \"id\", columns = [\"cardio\", \"cholesterol\"], values = \"gender\")\n",
        "ax = sns.heatmap(flights, cmap = \"YlGnBu\")"
      ]
    },
    {
      "cell_type": "code",
      "source": [
        "flights = df.pivot(index = \"id\", columns = [\"smoke\", \"alco\"], values = \"gender\")\n",
        "ax = sns.heatmap(flights, cmap = \"YlGnBu\")"
      ],
      "metadata": {
        "colab": {
          "base_uri": "https://localhost:8080/",
          "height": 507
        },
        "id": "32xCmrd-5etS",
        "outputId": "30974c04-3a8f-4d45-92ba-7a35cc943820"
      },
      "execution_count": 52,
      "outputs": [
        {
          "output_type": "display_data",
          "data": {
            "image/png": "[encoded data removed]",
            "text/plain": [
              "<Figure size 792x576 with 2 Axes>"
            ]
          },
          "metadata": {}
        }
      ]
    },
    {
      "cell_type": "markdown",
      "metadata": {
        "_uuid": "987ff630db004c51cc9e89e0c6cf6d14d619c4c0",
        "id": "myvnFZRz0D35"
      },
      "source": [
        "** Question 2.1. (1 point).** Which pair of features has the strongest Pearson's correlation with the *gender* feature?\n",
        "\n",
        "1. Cardio, Cholesterol\n",
        "2. Height, Smoke\n",
        "3. Smoke, Alco\n",
        "4. Height, Weight"
      ]
    },
    {
      "cell_type": "markdown",
      "metadata": {
        "_uuid": "01edf6a3a68f47f07164b3e4cb9e6ab5ef1efcd6",
        "id": "OZbR3dHS0D36"
      },
      "source": [
        "## 2.2. Height distribution of men and women\n",
        "\n",
        "From our exploration of the unique values earlier, we know that the gender is encoded by the values *1* and *2*. Although you do not know the mapping of these values to gender, you can figure that out graphically by looking at the mean values of height and weight for each value of the *gender* feature.\n",
        "\n",
        "### Task:\n",
        "\n",
        "Create a violin plot for the height and gender using [`violinplot()`](https://seaborn.pydata.org/generated/seaborn.violinplot.html). Use the parameters:\n",
        "- `hue` to split by gender;\n",
        "- `scale` to evaluate the number of records for each gender.\n",
        "\n",
        "In order for the plot to render correctly, you need to convert your `DataFrame` to *long* format using the `melt()` function from `pandas`. Here is [an example](https://stackoverflow.com/a/41575149/3338479) of this for your reference."
      ]
    },
    {
      "cell_type": "code",
      "execution_count": 53,
      "metadata": {
        "_uuid": "71d38ccddbe26ca51c69fbdba7cc4405ee459de4",
        "colab": {
          "base_uri": "https://localhost:8080/",
          "height": 502
        },
        "id": "ScPdvoud0D36",
        "outputId": "9720df34-b083-4eb1-d1a8-37d5158c2427"
      },
      "outputs": [
        {
          "output_type": "display_data",
          "data": {
            "image/png": "[encoded data removed]",
            "text/plain": [
              "<Figure size 792x576 with 1 Axes>"
            ]
          },
          "metadata": {}
        }
      ],
      "source": [
        "sns.set_theme(style = \"whitegrid\")\n",
        "tips = pd.melt(df, value_vars = ['height'], id_vars = 'gender')\n",
        "ax = sns.violinplot(x = 'variable', y = 'value', hue = 'gender', data = tips)"
      ]
    },
    {
      "cell_type": "markdown",
      "metadata": {
        "id": "HyIQayDa0D37"
      },
      "source": [
        "**Question 2.2. (1 point).** Which pair of features has the strongest Spearman correlation?\n",
        "\n",
        "1. Height, Weight\n",
        "2. Age, Weight\n",
        "3. Cholesterol, Gluc\n",
        "4. Cardio, Cholesterol\n",
        "5. Ap_hi, Ap_lo\n",
        "6. Smoke, Alco"
      ]
    },
    {
      "cell_type": "code",
      "source": [
        "df.corr(method = \"spearman\")"
      ],
      "metadata": {
        "colab": {
          "base_uri": "https://localhost:8080/",
          "height": 584
        },
        "id": "gZli38tG5r9r",
        "outputId": "c9a23d00-f6ee-4a33-c1c5-6de5c892c93c"
      },
      "execution_count": 54,
      "outputs": [
        {
          "output_type": "execute_result",
          "data": {
            "text/html": [
              "\n",
              "  <div id=\"df-ef4592aa-738f-482d-bb19-f27709fa30ac\">\n",
              "    <div class=\"colab-df-container\">\n",
              "      <div>\n",
              "<style scoped>\n",
              "    .dataframe tbody tr th:only-of-type {\n",
              "        vertical-align: middle;\n",
              "    }\n",
              "\n",
              "    .dataframe tbody tr th {\n",
              "        vertical-align: top;\n",
              "    }\n",
              "\n",
              "    .dataframe thead th {\n",
              "        text-align: right;\n",
              "    }\n",
              "</style>\n",
              "<table border=\"1\" class=\"dataframe\">\n",
              "  <thead>\n",
              "    <tr style=\"text-align: right;\">\n",
              "      <th></th>\n",
              "      <th>id</th>\n",
              "      <th>age</th>\n",
              "      <th>gender</th>\n",
              "      <th>height</th>\n",
              "      <th>weight</th>\n",
              "      <th>ap_hi</th>\n",
              "      <th>ap_lo</th>\n",
              "      <th>cholesterol</th>\n",
              "      <th>gluc</th>\n",
              "      <th>smoke</th>\n",
              "      <th>alco</th>\n",
              "      <th>active</th>\n",
              "      <th>cardio</th>\n",
              "      <th>years</th>\n",
              "      <th>BMI</th>\n",
              "    </tr>\n",
              "  </thead>\n",
              "  <tbody>\n",
              "    <tr>\n",
              "      <th>id</th>\n",
              "      <td>1.000000</td>\n",
              "      <td>0.002682</td>\n",
              "      <td>0.003506</td>\n",
              "      <td>-0.001886</td>\n",
              "      <td>-0.001292</td>\n",
              "      <td>0.003258</td>\n",
              "      <td>-0.000238</td>\n",
              "      <td>0.005706</td>\n",
              "      <td>0.002789</td>\n",
              "      <td>-0.003697</td>\n",
              "      <td>0.001214</td>\n",
              "      <td>0.003766</td>\n",
              "      <td>0.003800</td>\n",
              "      <td>0.002399</td>\n",
              "      <td>-0.000472</td>\n",
              "    </tr>\n",
              "    <tr>\n",
              "      <th>age</th>\n",
              "      <td>0.002682</td>\n",
              "      <td>1.000000</td>\n",
              "      <td>-0.020176</td>\n",
              "      <td>-0.082292</td>\n",
              "      <td>0.061559</td>\n",
              "      <td>0.219087</td>\n",
              "      <td>0.156700</td>\n",
              "      <td>0.140113</td>\n",
              "      <td>0.091791</td>\n",
              "      <td>-0.047471</td>\n",
              "      <td>-0.030078</td>\n",
              "      <td>-0.010422</td>\n",
              "      <td>0.234429</td>\n",
              "      <td>0.998048</td>\n",
              "      <td>0.107610</td>\n",
              "    </tr>\n",
              "    <tr>\n",
              "      <th>gender</th>\n",
              "      <td>0.003506</td>\n",
              "      <td>-0.020176</td>\n",
              "      <td>1.000000</td>\n",
              "      <td>0.533805</td>\n",
              "      <td>0.172480</td>\n",
              "      <td>0.063174</td>\n",
              "      <td>0.066374</td>\n",
              "      <td>-0.035730</td>\n",
              "      <td>-0.018866</td>\n",
              "      <td>0.338135</td>\n",
              "      <td>0.170966</td>\n",
              "      <td>0.005866</td>\n",
              "      <td>0.008109</td>\n",
              "      <td>-0.020697</td>\n",
              "      <td>-0.087532</td>\n",
              "    </tr>\n",
              "    <tr>\n",
              "      <th>height</th>\n",
              "      <td>-0.001886</td>\n",
              "      <td>-0.082292</td>\n",
              "      <td>0.533805</td>\n",
              "      <td>1.000000</td>\n",
              "      <td>0.313569</td>\n",
              "      <td>0.019381</td>\n",
              "      <td>0.030534</td>\n",
              "      <td>-0.058940</td>\n",
              "      <td>-0.024369</td>\n",
              "      <td>0.197632</td>\n",
              "      <td>0.096670</td>\n",
              "      <td>-0.007367</td>\n",
              "      <td>-0.012383</td>\n",
              "      <td>-0.083634</td>\n",
              "      <td>-0.182392</td>\n",
              "    </tr>\n",
              "    <tr>\n",
              "      <th>weight</th>\n",
              "      <td>-0.001292</td>\n",
              "      <td>0.061559</td>\n",
              "      <td>0.172480</td>\n",
              "      <td>0.313569</td>\n",
              "      <td>1.000000</td>\n",
              "      <td>0.277749</td>\n",
              "      <td>0.254420</td>\n",
              "      <td>0.137908</td>\n",
              "      <td>0.109901</td>\n",
              "      <td>0.071676</td>\n",
              "      <td>0.068088</td>\n",
              "      <td>-0.014894</td>\n",
              "      <td>0.182701</td>\n",
              "      <td>0.062979</td>\n",
              "      <td>0.848270</td>\n",
              "    </tr>\n",
              "    <tr>\n",
              "      <th>ap_hi</th>\n",
              "      <td>0.003258</td>\n",
              "      <td>0.219087</td>\n",
              "      <td>0.063174</td>\n",
              "      <td>0.019381</td>\n",
              "      <td>0.277749</td>\n",
              "      <td>1.000000</td>\n",
              "      <td>0.735436</td>\n",
              "      <td>0.208722</td>\n",
              "      <td>0.105334</td>\n",
              "      <td>0.028929</td>\n",
              "      <td>0.033243</td>\n",
              "      <td>-0.001268</td>\n",
              "      <td>0.451885</td>\n",
              "      <td>0.220780</td>\n",
              "      <td>0.281102</td>\n",
              "    </tr>\n",
              "    <tr>\n",
              "      <th>ap_lo</th>\n",
              "      <td>-0.000238</td>\n",
              "      <td>0.156700</td>\n",
              "      <td>0.066374</td>\n",
              "      <td>0.030534</td>\n",
              "      <td>0.254420</td>\n",
              "      <td>0.735436</td>\n",
              "      <td>1.000000</td>\n",
              "      <td>0.167401</td>\n",
              "      <td>0.082474</td>\n",
              "      <td>0.026172</td>\n",
              "      <td>0.038862</td>\n",
              "      <td>0.003401</td>\n",
              "      <td>0.362572</td>\n",
              "      <td>0.157957</td>\n",
              "      <td>0.250608</td>\n",
              "    </tr>\n",
              "    <tr>\n",
              "      <th>cholesterol</th>\n",
              "      <td>0.005706</td>\n",
              "      <td>0.140113</td>\n",
              "      <td>-0.035730</td>\n",
              "      <td>-0.058940</td>\n",
              "      <td>0.137908</td>\n",
              "      <td>0.208722</td>\n",
              "      <td>0.167401</td>\n",
              "      <td>1.000000</td>\n",
              "      <td>0.407803</td>\n",
              "      <td>0.015220</td>\n",
              "      <td>0.041285</td>\n",
              "      <td>0.007573</td>\n",
              "      <td>0.215117</td>\n",
              "      <td>0.141935</td>\n",
              "      <td>0.174008</td>\n",
              "    </tr>\n",
              "    <tr>\n",
              "      <th>gluc</th>\n",
              "      <td>0.002789</td>\n",
              "      <td>0.091791</td>\n",
              "      <td>-0.018866</td>\n",
              "      <td>-0.024369</td>\n",
              "      <td>0.109901</td>\n",
              "      <td>0.105334</td>\n",
              "      <td>0.082474</td>\n",
              "      <td>0.407803</td>\n",
              "      <td>1.000000</td>\n",
              "      <td>0.000468</td>\n",
              "      <td>0.018584</td>\n",
              "      <td>-0.008610</td>\n",
              "      <td>0.091488</td>\n",
              "      <td>0.091777</td>\n",
              "      <td>0.127857</td>\n",
              "    </tr>\n",
              "    <tr>\n",
              "      <th>smoke</th>\n",
              "      <td>-0.003697</td>\n",
              "      <td>-0.047471</td>\n",
              "      <td>0.338135</td>\n",
              "      <td>0.197632</td>\n",
              "      <td>0.071676</td>\n",
              "      <td>0.028929</td>\n",
              "      <td>0.026172</td>\n",
              "      <td>0.015220</td>\n",
              "      <td>0.000468</td>\n",
              "      <td>1.000000</td>\n",
              "      <td>0.340094</td>\n",
              "      <td>0.025858</td>\n",
              "      <td>-0.015486</td>\n",
              "      <td>-0.047535</td>\n",
              "      <td>-0.024265</td>\n",
              "    </tr>\n",
              "    <tr>\n",
              "      <th>alco</th>\n",
              "      <td>0.001214</td>\n",
              "      <td>-0.030078</td>\n",
              "      <td>0.170966</td>\n",
              "      <td>0.096670</td>\n",
              "      <td>0.068088</td>\n",
              "      <td>0.033243</td>\n",
              "      <td>0.038862</td>\n",
              "      <td>0.041285</td>\n",
              "      <td>0.018584</td>\n",
              "      <td>0.340094</td>\n",
              "      <td>1.000000</td>\n",
              "      <td>0.025476</td>\n",
              "      <td>-0.007330</td>\n",
              "      <td>-0.030005</td>\n",
              "      <td>0.022701</td>\n",
              "    </tr>\n",
              "    <tr>\n",
              "      <th>active</th>\n",
              "      <td>0.003766</td>\n",
              "      <td>-0.010422</td>\n",
              "      <td>0.005866</td>\n",
              "      <td>-0.007367</td>\n",
              "      <td>-0.014894</td>\n",
              "      <td>-0.001268</td>\n",
              "      <td>0.003401</td>\n",
              "      <td>0.007573</td>\n",
              "      <td>-0.008610</td>\n",
              "      <td>0.025858</td>\n",
              "      <td>0.025476</td>\n",
              "      <td>1.000000</td>\n",
              "      <td>-0.035653</td>\n",
              "      <td>-0.010105</td>\n",
              "      <td>-0.009949</td>\n",
              "    </tr>\n",
              "    <tr>\n",
              "      <th>cardio</th>\n",
              "      <td>0.003800</td>\n",
              "      <td>0.234429</td>\n",
              "      <td>0.008109</td>\n",
              "      <td>-0.012383</td>\n",
              "      <td>0.182701</td>\n",
              "      <td>0.451885</td>\n",
              "      <td>0.362572</td>\n",
              "      <td>0.215117</td>\n",
              "      <td>0.091488</td>\n",
              "      <td>-0.015486</td>\n",
              "      <td>-0.007330</td>\n",
              "      <td>-0.035653</td>\n",
              "      <td>1.000000</td>\n",
              "      <td>0.235254</td>\n",
              "      <td>0.199052</td>\n",
              "    </tr>\n",
              "    <tr>\n",
              "      <th>years</th>\n",
              "      <td>0.002399</td>\n",
              "      <td>0.998048</td>\n",
              "      <td>-0.020697</td>\n",
              "      <td>-0.083634</td>\n",
              "      <td>0.062979</td>\n",
              "      <td>0.220780</td>\n",
              "      <td>0.157957</td>\n",
              "      <td>0.141935</td>\n",
              "      <td>0.091777</td>\n",
              "      <td>-0.047535</td>\n",
              "      <td>-0.030005</td>\n",
              "      <td>-0.010105</td>\n",
              "      <td>0.235254</td>\n",
              "      <td>1.000000</td>\n",
              "      <td>0.109890</td>\n",
              "    </tr>\n",
              "    <tr>\n",
              "      <th>BMI</th>\n",
              "      <td>-0.000472</td>\n",
              "      <td>0.107610</td>\n",
              "      <td>-0.087532</td>\n",
              "      <td>-0.182392</td>\n",
              "      <td>0.848270</td>\n",
              "      <td>0.281102</td>\n",
              "      <td>0.250608</td>\n",
              "      <td>0.174008</td>\n",
              "      <td>0.127857</td>\n",
              "      <td>-0.024265</td>\n",
              "      <td>0.022701</td>\n",
              "      <td>-0.009949</td>\n",
              "      <td>0.199052</td>\n",
              "      <td>0.109890</td>\n",
              "      <td>1.000000</td>\n",
              "    </tr>\n",
              "  </tbody>\n",
              "</table>\n",
              "</div>\n",
              "      <button class=\"colab-df-convert\" onclick=\"convertToInteractive('df-ef4592aa-738f-482d-bb19-f27709fa30ac')\"\n",
              "              title=\"Convert this dataframe to an interactive table.\"\n",
              "              style=\"display:none;\">\n",
              "        \n",
              "  <svg xmlns=\"http://www.w3.org/2000/svg\" height=\"24px\"viewBox=\"0 0 24 24\"\n",
              "       width=\"24px\">\n",
              "    <path d=\"M0 0h24v24H0V0z\" fill=\"none\"/>\n",
              "    <path d=\"M18.56 5.44l.94 2.06.94-2.06 2.06-.94-2.06-.94-.94-2.06-.94 2.06-2.06.94zm-11 1L8.5 8.5l.94-2.06 2.06-.94-2.06-.94L8.5 2.5l-.94 2.06-2.06.94zm10 10l.94 2.06.94-2.06 2.06-.94-2.06-.94-.94-2.06-.94 2.06-2.06.94z\"/><path d=\"M17.41 7.96l-1.37-1.37c-.4-.4-.92-.59-1.43-.59-.52 0-1.04.2-1.43.59L10.3 9.45l-7.72 7.72c-.78.78-.78 2.05 0 2.83L4 21.41c.39.39.9.59 1.41.59.51 0 1.02-.2 1.41-.59l7.78-7.78 2.81-2.81c.8-.78.8-2.07 0-2.86zM5.41 20L4 18.59l7.72-7.72 1.47 1.35L5.41 20z\"/>\n",
              "  </svg>\n",
              "      </button>\n",
              "      \n",
              "  <style>\n",
              "    .colab-df-container {\n",
              "      display:flex;\n",
              "      flex-wrap:wrap;\n",
              "      gap: 12px;\n",
              "    }\n",
              "\n",
              "    .colab-df-convert {\n",
              "      background-color: #E8F0FE;\n",
              "      border: none;\n",
              "      border-radius: 50%;\n",
              "      cursor: pointer;\n",
              "      display: none;\n",
              "      fill: #1967D2;\n",
              "      height: 32px;\n",
              "      padding: 0 0 0 0;\n",
              "      width: 32px;\n",
              "    }\n",
              "\n",
              "    .colab-df-convert:hover {\n",
              "      background-color: #E2EBFA;\n",
              "      box-shadow: 0px 1px 2px rgba(60, 64, 67, 0.3), 0px 1px 3px 1px rgba(60, 64, 67, 0.15);\n",
              "      fill: #174EA6;\n",
              "    }\n",
              "\n",
              "    [theme=dark] .colab-df-convert {\n",
              "      background-color: #3B4455;\n",
              "      fill: #D2E3FC;\n",
              "    }\n",
              "\n",
              "    [theme=dark] .colab-df-convert:hover {\n",
              "      background-color: #434B5C;\n",
              "      box-shadow: 0px 1px 3px 1px rgba(0, 0, 0, 0.15);\n",
              "      filter: drop-shadow(0px 1px 2px rgba(0, 0, 0, 0.3));\n",
              "      fill: #FFFFFF;\n",
              "    }\n",
              "  </style>\n",
              "\n",
              "      <script>\n",
              "        const buttonEl =\n",
              "          document.querySelector('#df-ef4592aa-738f-482d-bb19-f27709fa30ac button.colab-df-convert');\n",
              "        buttonEl.style.display =\n",
              "          google.colab.kernel.accessAllowed ? 'block' : 'none';\n",
              "\n",
              "        async function convertToInteractive(key) {\n",
              "          const element = document.querySelector('#df-ef4592aa-738f-482d-bb19-f27709fa30ac');\n",
              "          const dataTable =\n",
              "            await google.colab.kernel.invokeFunction('convertToInteractive',\n",
              "                                                     [key], {});\n",
              "          if (!dataTable) return;\n",
              "\n",
              "          const docLinkHtml = 'Like what you see? Visit the ' +\n",
              "            '<a target=\"_blank\" href=https://colab.research.google.com/notebooks/data_table.ipynb>data table notebook</a>'\n",
              "            + ' to learn more about interactive tables.';\n",
              "          element.innerHTML = '';\n",
              "          dataTable['output_type'] = 'display_data';\n",
              "          await google.colab.output.renderOutput(dataTable, element);\n",
              "          const docLink = document.createElement('div');\n",
              "          docLink.innerHTML = docLinkHtml;\n",
              "          element.appendChild(docLink);\n",
              "        }\n",
              "      </script>\n",
              "    </div>\n",
              "  </div>\n",
              "  "
            ],
            "text/plain": [
              "                   id       age    gender  ...    cardio     years       BMI\n",
              "id           1.000000  0.002682  0.003506  ...  0.003800  0.002399 -0.000472\n",
              "age          0.002682  1.000000 -0.020176  ...  0.234429  0.998048  0.107610\n",
              "gender       0.003506 -0.020176  1.000000  ...  0.008109 -0.020697 -0.087532\n",
              "height      -0.001886 -0.082292  0.533805  ... -0.012383 -0.083634 -0.182392\n",
              "weight      -0.001292  0.061559  0.172480  ...  0.182701  0.062979  0.848270\n",
              "ap_hi        0.003258  0.219087  0.063174  ...  0.451885  0.220780  0.281102\n",
              "ap_lo       -0.000238  0.156700  0.066374  ...  0.362572  0.157957  0.250608\n",
              "cholesterol  0.005706  0.140113 -0.035730  ...  0.215117  0.141935  0.174008\n",
              "gluc         0.002789  0.091791 -0.018866  ...  0.091488  0.091777  0.127857\n",
              "smoke       -0.003697 -0.047471  0.338135  ... -0.015486 -0.047535 -0.024265\n",
              "alco         0.001214 -0.030078  0.170966  ... -0.007330 -0.030005  0.022701\n",
              "active       0.003766 -0.010422  0.005866  ... -0.035653 -0.010105 -0.009949\n",
              "cardio       0.003800  0.234429  0.008109  ...  1.000000  0.235254  0.199052\n",
              "years        0.002399  0.998048 -0.020697  ...  0.235254  1.000000  0.109890\n",
              "BMI         -0.000472  0.107610 -0.087532  ...  0.199052  0.109890  1.000000\n",
              "\n",
              "[15 rows x 15 columns]"
            ]
          },
          "metadata": {},
          "execution_count": 54
        }
      ]
    },
    {
      "cell_type": "markdown",
      "source": [
        "1 : 0.313569\n",
        "2: -0.082292\n",
        "3: 0.407803\n",
        "4: 0.215117\n",
        "5: 0.735436\n",
        "6: 0.340094"
      ],
      "metadata": {
        "id": "zQT_Gggv5v5i"
      }
    },
    {
      "cell_type": "markdown",
      "source": [
        "Ответ: 5"
      ],
      "metadata": {
        "id": "lbJs1-RY51r3"
      }
    },
    {
      "cell_type": "markdown",
      "metadata": {
        "id": "F0f4wdQp0D37"
      },
      "source": [
        "## 2.3. Rank correlation\n",
        "\n",
        "In most cases, *the Pearson coefficient of linear correlation* is more than enough to discover patterns in data. \n",
        "But let's go a little further and calculate a [rank correlation](https://en.wikipedia.org/wiki/Rank_correlation). It will help us to identify such feature pairs in which the lower rank in the variational series of one feature always precedes the higher rank in the another one (and we have the opposite in the case of negative correlation).\n",
        "\n",
        "### Task:\n",
        "\n",
        "Calculate and plot a correlation matrix using the [Spearman's rank correlation coefficient](https://en.wikipedia.org/wiki/Spearman%27s_rank_correlation_coefficient).\n"
      ]
    },
    {
      "cell_type": "code",
      "execution_count": 55,
      "metadata": {
        "colab": {
          "base_uri": "https://localhost:8080/",
          "height": 503
        },
        "id": "oZXqhbYq0D38",
        "outputId": "82d14f62-3c62-4abc-a767-c0132bf61c46"
      },
      "outputs": [
        {
          "output_type": "execute_result",
          "data": {
            "text/plain": [
              "<matplotlib.axes._subplots.AxesSubplot at 0x7ff799907850>"
            ]
          },
          "metadata": {},
          "execution_count": 55
        },
        {
          "output_type": "display_data",
          "data": {
            "image/png": "[encoded data removed]",
            "text/plain": [
              "<Figure size 792x576 with 1 Axes>"
            ]
          },
          "metadata": {}
        }
      ],
      "source": [
        "dfPlot = df.corr(method = \"spearman\")\n",
        "dfPlot.plot()"
      ]
    },
    {
      "cell_type": "markdown",
      "metadata": {
        "_uuid": "2282d0651afdbe69cdb68b266e509f20a865a63f",
        "id": "CJ8AN1b70D38"
      },
      "source": [
        "**Question 2.3. (1 point).** Why do these features have strong rank correlation?\n",
        "\n",
        "1. Inaccuracies in the data (data acquisition errors).\n",
        "2. Relation is wrong, these features should not be related.\n",
        "3. Nature of the data."
      ]
    },
    {
      "cell_type": "markdown",
      "source": [
        "Ответ: 3\n"
      ],
      "metadata": {
        "id": "2RpMPtwI59QP"
      }
    },
    {
      "cell_type": "markdown",
      "metadata": {
        "_uuid": "25b4b303156fd6f9178c9b23fba4ff3f220a5977",
        "id": "Zwpca4as0D38"
      },
      "source": [
        "## 2.4. Age\n",
        "\n",
        "Previously, we calculated the age of the respondents in years at the moment of examination."
      ]
    },
    {
      "cell_type": "markdown",
      "metadata": {
        "_uuid": "d48bb97cba3968e7f73c790226278f6fa818871b",
        "id": "BpNnwNV50D38"
      },
      "source": [
        "### Task:\n",
        "\n",
        "Create a *count plot* using [`countplot()`](http://seaborn.pydata.org/generated/seaborn.countplot.html) with the age on the *X* axis and the number of people on the *Y* axis. Your resulting plot should have two columns for each age, corresponding to the number of people for each *cardio* class of that age."
      ]
    },
    {
      "cell_type": "code",
      "execution_count": 56,
      "metadata": {
        "_uuid": "fd07f3aab9891fd86228d5880a7a38cc88b282ba",
        "colab": {
          "base_uri": "https://localhost:8080/",
          "height": 365
        },
        "id": "mi8PTdL-0D39",
        "outputId": "a0aec6f9-3f68-496d-d417-e2f14a0341c6"
      },
      "outputs": [
        {
          "output_type": "display_data",
          "data": {
            "image/png": "[encoded data removed]",
            "text/plain": [
              "<Figure size 720x360 with 2 Axes>"
            ]
          },
          "metadata": {}
        }
      ],
      "source": [
        "sns.set_theme(style = \"darkgrid\")\n",
        "titanic = df\n",
        "ax = sns.catplot(x = \"years\", col = \"cardio\", data = titanic, kind=\"count\")"
      ]
    },
    {
      "cell_type": "markdown",
      "metadata": {
        "_uuid": "49557c7bd46d729c27aa8190df65cc25e45e7528",
        "id": "K0t947Ux0D39"
      },
      "source": [
        "**Question 2.4. (1 point).** What is the smallest age at which the number of people with CVD outnumber the number of people without CVD?\n",
        "\n",
        "1. 44\n",
        "2. 55\n",
        "3. 64\n",
        "4. 70"
      ]
    },
    {
      "cell_type": "markdown",
      "source": [
        "Ответ: 2"
      ],
      "metadata": {
        "id": "VPfPYsXT6EIP"
      }
    }
  ],
  "metadata": {
    "kernelspec": {
      "display_name": "Python 3",
      "language": "python",
      "name": "python3"
    },
    "language_info": {
      "codemirror_mode": {
        "name": "ipython",
        "version": 3
      },
      "file_extension": ".py",
      "mimetype": "text/x-python",
      "name": "python",
      "nbconvert_exporter": "python",
      "pygments_lexer": "ipython3",
      "version": "3.7.6"
    },
    "colab": {
      "name": "task1-3.ipynb",
      "provenance": [],
      "collapsed_sections": []
    }
  },
  "nbformat": 4,
  "nbformat_minor": 0
}